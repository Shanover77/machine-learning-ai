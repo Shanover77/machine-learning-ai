{
 "cells": [
  {
   "cell_type": "markdown",
   "id": "3279d437",
   "metadata": {},
   "source": [
    "### Week 5, NLP"
   ]
  },
  {
   "cell_type": "code",
   "execution_count": 63,
   "id": "075e37b2",
   "metadata": {},
   "outputs": [],
   "source": [
    "# Subject string\n",
    "\n",
    "str1 = \"The 5 countries include China, United States, Indonesia, India, and Brazil\"\n",
    "mainStr = str1"
   ]
  },
  {
   "cell_type": "code",
   "execution_count": 64,
   "id": "0bb0a0e7",
   "metadata": {},
   "outputs": [],
   "source": [
    "# Object method to modular method for easy usage and clarity\n",
    "\n",
    "def tolower(str):\n",
    "    return str.lower()"
   ]
  },
  {
   "cell_type": "code",
   "execution_count": 65,
   "id": "4c729a68",
   "metadata": {},
   "outputs": [
    {
     "name": "stdout",
     "output_type": "stream",
     "text": [
      "the 5 countries include china, united states, indonesia, india, and brazil\n"
     ]
    }
   ],
   "source": [
    "text = tolower(str1)\n",
    "print(text)"
   ]
  },
  {
   "cell_type": "code",
   "execution_count": 66,
   "id": "3d0ab549",
   "metadata": {},
   "outputs": [
    {
     "name": "stdout",
     "output_type": "stream",
     "text": [
      "Len: 15  tokens\n",
      "Words: ['THE', '5', 'COUNTRIES', 'INCLUDE', 'CHINA', ',', 'UNITED', 'STATES', ',', 'INDONESIA', ',', 'INDIA', ',', 'AND', 'BRAZIL']\n"
     ]
    }
   ],
   "source": [
    "# tokenize the string\n",
    "\n",
    "from nltk.tokenize import word_tokenize as tzer # shorthand name for word_tokenize for easy access\n",
    "\n",
    "def tokenUpper(text):\n",
    "    return tzer(text.upper()) # upper casing\n",
    "\n",
    "print('Len:',len(tokenUpper(text)), ' tokens')\n",
    "print('Words:',tokenUpper(text))"
   ]
  },
  {
   "cell_type": "code",
   "execution_count": 67,
   "id": "696114f8",
   "metadata": {},
   "outputs": [
    {
     "name": "stdout",
     "output_type": "stream",
     "text": [
      "Len: 15  tokens\n",
      "Words: The 5 Countries Include China , United States , Indonesia , India , And Brazil\n"
     ]
    }
   ],
   "source": [
    "# Capitalize\n",
    "\n",
    "def tokenCapitalize(text):\n",
    "    words = []\n",
    "    for i in tzer(text):\n",
    "        words.append(i.capitalize()) #capitalizing\n",
    "    return words\n",
    "\n",
    "print('Len:',len(tokenCapitalize(text)), ' tokens')\n",
    "print('Words:',' '.join(tokenCapitalize(text)))"
   ]
  },
  {
   "cell_type": "markdown",
   "id": "d66a1bf4",
   "metadata": {},
   "source": [
    "  \n",
    "  ## Remove clutter (numbers, punctuations, etc..)"
   ]
  },
  {
   "cell_type": "code",
   "execution_count": 34,
   "id": "7ae83fff",
   "metadata": {},
   "outputs": [],
   "source": [
    "import re"
   ]
  },
  {
   "cell_type": "code",
   "execution_count": 59,
   "id": "02b2f556",
   "metadata": {},
   "outputs": [],
   "source": [
    "text = 'Box A as 4 red and 6 white balls, while Box B has 3 red and 5 blue balls.'"
   ]
  },
  {
   "cell_type": "code",
   "execution_count": 60,
   "id": "2c950170",
   "metadata": {},
   "outputs": [],
   "source": [
    "def removeNums(text):\n",
    "    return re.sub(r'\\d+',' ', text)"
   ]
  },
  {
   "cell_type": "code",
   "execution_count": 61,
   "id": "68440a0f",
   "metadata": {},
   "outputs": [
    {
     "name": "stdout",
     "output_type": "stream",
     "text": [
      "Box A as   red and   white balls, while Box B has   red and   blue balls.\n"
     ]
    }
   ],
   "source": [
    "cleanedStr = removeNums(text)\n",
    "print(cleanedStr)"
   ]
  },
  {
   "cell_type": "markdown",
   "id": "8734b836",
   "metadata": {},
   "source": [
    "### Punctuation removal"
   ]
  },
  {
   "cell_type": "code",
   "execution_count": 70,
   "id": "3e9e8994",
   "metadata": {},
   "outputs": [],
   "source": [
    "import string\n",
    "text = 'You, {]$%are amazing students:at@@! at @lambton college ! ; '"
   ]
  },
  {
   "cell_type": "code",
   "execution_count": 75,
   "id": "05318b50",
   "metadata": {},
   "outputs": [
    {
     "name": "stdout",
     "output_type": "stream",
     "text": [
      "You are amazing studentsat at lambton college   \n"
     ]
    }
   ],
   "source": [
    "test_str = text.translate(str.maketrans('','', string.punctuation))\n",
    "print(test_str)"
   ]
  },
  {
   "cell_type": "code",
   "execution_count": 76,
   "id": "1bf4b450",
   "metadata": {},
   "outputs": [
    {
     "name": "stdout",
     "output_type": "stream",
     "text": [
      "You  are amazing   studentsat at lambton   college   \n"
     ]
    }
   ],
   "source": [
    "# Challenge: Remove numbers and puncs using re.sub\n",
    "\n",
    "def cleanText(text):\n",
    "    return re.sub(r'\\d+',' ', text).translate(str.maketrans('','', string.punctuation))\n",
    "\n",
    "messyString = 'You, 12{]$%are amazing 12 students:at@@! at @lambton 5 college ! ; '\n",
    "\n",
    "print(cleanText(messyString))\n"
   ]
  },
  {
   "cell_type": "code",
   "execution_count": 104,
   "id": "097c30d9",
   "metadata": {},
   "outputs": [
    {
     "name": "stdout",
     "output_type": "stream",
     "text": [
      "You are amazing students at at lambton college\n"
     ]
    }
   ],
   "source": [
    "# Challenge: Remove numbers and puncs using re.sub\n",
    "# Approach with single regex\n",
    "\n",
    "def cleanText(text):\n",
    "    return ' '.join(re.findall(r'[A-Za-z]\\w+', text)) # only accepts letters (A-Z)\n",
    "\n",
    "messyString = 'You, 12{]$%are amazing 12 students:at@@! at @lambton 5 college ! ; '\n",
    "\n",
    "print(cleanText(messyString))\n"
   ]
  },
  {
   "cell_type": "markdown",
   "id": "c3a17b1d",
   "metadata": {},
   "source": [
    "### Whitespace removal"
   ]
  },
  {
   "cell_type": "code",
   "execution_count": 102,
   "id": "e956b7f7",
   "metadata": {},
   "outputs": [
    {
     "name": "stdout",
     "output_type": "stream",
     "text": [
      "Terminal \\t: \t a sample string \t\n",
      "Terminal double-space:   a sample string  \n",
      "Inline \\t:   a sample \t string  \n",
      "Terminal \\t: a sample string\n",
      "Terminal double-space: a sample string\n",
      "Inline \\t (without regex): a sample \t string\n",
      "Inline \\t (with regex): a sample string\n"
     ]
    }
   ],
   "source": [
    "text = '\\t a sample string \\t'\n",
    "text2 = '  a sample string  '\n",
    "text3 = '  a sample \\t string  '\n",
    "\n",
    "print('Terminal \\\\t:',text)\n",
    "print('Terminal double-space:',text2)\n",
    "print('Inline \\\\t:',text3)\n",
    "print('Terminal \\\\t:',text.strip())\n",
    "print('Terminal double-space:',text2.strip())\n",
    "print('Inline \\\\t (without regex):',text3.strip()) # inline whitespace is never detected by strip()\n",
    "\n",
    "print('Inline \\\\t (with regex):', re.sub('\\s+',' ',text3).strip()) # will remove inline, terminal whitespaces"
   ]
  },
  {
   "cell_type": "markdown",
   "id": "2cb3aa60",
   "metadata": {},
   "source": [
    "### Complete clean method"
   ]
  },
  {
   "cell_type": "code",
   "execution_count": 111,
   "id": "f2961086",
   "metadata": {},
   "outputs": [],
   "source": [
    "def cleanTextCompletely(text):\n",
    "    return ' '.join(re.findall(r'[A-Za-z]\\w+', re.sub('\\s+',' ',text).strip()))"
   ]
  },
  {
   "cell_type": "code",
   "execution_count": 113,
   "id": "dd6bcd09",
   "metadata": {},
   "outputs": [
    {
     "name": "stdout",
     "output_type": "stream",
     "text": [
      "Messy: You, \t12{]$%are amazing 12 students:at@@! at @lambton 5 college ! ;   \n",
      "Cleaned completely: You are amazing students at at lambton college\n"
     ]
    }
   ],
   "source": [
    "messyStringWithSpaces = 'You, \\t12{]$%are amazing 12 students:at@@! at @lambton 5 college ! ;   '\n",
    "\n",
    "print('Messy:',messyStringWithSpaces)\n",
    "print('Cleaned completely:', cleanTextCompletely(messyStringWithSpaces))"
   ]
  },
  {
   "cell_type": "code",
   "execution_count": null,
   "id": "631ce96d",
   "metadata": {},
   "outputs": [],
   "source": []
  }
 ],
 "metadata": {
  "kernelspec": {
   "display_name": "Python 3 (ipykernel)",
   "language": "python",
   "name": "python3"
  },
  "language_info": {
   "codemirror_mode": {
    "name": "ipython",
    "version": 3
   },
   "file_extension": ".py",
   "mimetype": "text/x-python",
   "name": "python",
   "nbconvert_exporter": "python",
   "pygments_lexer": "ipython3",
   "version": "3.10.8"
  }
 },
 "nbformat": 4,
 "nbformat_minor": 5
}

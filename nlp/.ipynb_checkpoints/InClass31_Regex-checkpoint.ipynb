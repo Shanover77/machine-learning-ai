{
 "cells": [
  {
   "cell_type": "markdown",
   "id": "c0fcf743",
   "metadata": {},
   "source": [
    "## Use Regex"
   ]
  },
  {
   "cell_type": "markdown",
   "id": "a2d91cac",
   "metadata": {},
   "source": [
    "## Using custom corpus for experimentation"
   ]
  },
  {
   "cell_type": "code",
   "execution_count": 20,
   "id": "3595d7c4",
   "metadata": {},
   "outputs": [
    {
     "name": "stdout",
     "output_type": "stream",
     "text": [
      "The Space exploration has always fascinated humankind. The vastness of the universe sparks curiosity and wonder. Astronauts venture into space to study celestial bodies, conduct experiments, and expand our knowledge. Satellites orbit Earth, providing valuable data for weather forecasts, communication, and navigation. Space agencies collaborate to discover new frontiers, with Mars being a prime target. The International Space Station serves as a research laboratory in microgravity. Rockets propel spacecraft into orbit, overcoming Earth's gravitational pull. Astronomers use powerful telescopes to observe distant galaxies and search for habitable planets. The beauty and mystery of space continue to captivate scientists and enthusiasts alike.\n"
     ]
    }
   ],
   "source": [
    "corpus = \"The Space exploration has always fascinated humankind. The vastness of the universe sparks curiosity and wonder. Astronauts venture into space to study celestial bodies, conduct experiments, and expand our knowledge. Satellites orbit Earth, providing valuable data for weather forecasts, communication, and navigation. Space agencies collaborate to discover new frontiers, with Mars being a prime target. The International Space Station serves as a research laboratory in microgravity. Rockets propel spacecraft into orbit, overcoming Earth's gravitational pull. Astronomers use powerful telescopes to observe distant galaxies and search for habitable planets. The beauty and mystery of space continue to captivate scientists and enthusiasts alike.\"\n",
    "print(corpus)"
   ]
  },
  {
   "cell_type": "code",
   "execution_count": 47,
   "id": "9e9a62ba",
   "metadata": {},
   "outputs": [],
   "source": [
    "import re\n",
    "\n",
    "def printelli(regex, text):\n",
    "    print('Regex:',regex)\n",
    "    matches = re.findall(regex,text)\n",
    "    word_matches = re.findall(regex,text)\n",
    "    print('Found:',len(matches))\n",
    "    print('Raw matches:',matches)\n",
    "    print('Words:',word_matches)"
   ]
  },
  {
   "cell_type": "markdown",
   "id": "d959ba6c",
   "metadata": {},
   "source": [
    "## [m-q]"
   ]
  },
  {
   "cell_type": "code",
   "execution_count": 3,
   "id": "547fac19",
   "metadata": {},
   "outputs": [
    {
     "name": "stdout",
     "output_type": "stream",
     "text": [
      "Only chars: ['p', 'p', 'o', 'o', 'n', 'n', 'm', 'n', 'n', 'n', 'o', 'n', 'p', 'o', 'n', 'o', 'n', 'o', 'n', 'n', 'n', 'o', 'p', 'o', 'o', 'o', 'n', 'p', 'm', 'n', 'n', 'p', 'n', 'o', 'n', 'o', 'o', 'p', 'o', 'n', 'o', 'o', 'o', 'm', 'm', 'n', 'o', 'n', 'n', 'n', 'o', 'n', 'p', 'n', 'o', 'o', 'o', 'o', 'n', 'o', 'n', 'n', 'p', 'm', 'n', 'n', 'o', 'n', 'p', 'o', 'n', 'o', 'o', 'n', 'm', 'o', 'o', 'p', 'o', 'p', 'p', 'n', 'o', 'o', 'o', 'o', 'm', 'n', 'o', 'n', 'p', 'o', 'n', 'o', 'm', 'p', 'o', 'o', 'p', 'o', 'o', 'n', 'n', 'o', 'p', 'n', 'n', 'm', 'o', 'p', 'o', 'n', 'n', 'o', 'p', 'n', 'n', 'n']\n",
      "\n",
      " Words: ['pace', 'ploration', 'nated', 'mankind', 'ness', 'of', 'niverse', 'parks', 'osity', 'nd', 'onder', 'onauts', 'nture', 'nto', 'pace', 'odies', 'onduct', 'periments', 'nd', 'pand', 'our', 'nowledge', 'orbit', 'providing', 'or', 'orecasts', 'ommunication', 'nd', 'navigation', 'pace', 'ncies', 'ollaborate', 'over', 'new', 'ontiers', 'ng', 'prime', 'nternational', 'pace', 'on', 'oratory', 'microgravity', 'ockets', 'propel', 'pacecraft', 'nto', 'orbit', 'overcoming', 'onal', 'pull', 'onomers', 'powerful', 'opes', 'observe', 'nt', 'nd', 'or', 'planets', 'nd', 'mystery', 'of', 'pace', 'ontinue', 'ptivate', 'ntists', 'nd', 'nthusiasts']\n"
     ]
    }
   ],
   "source": [
    "# get only characters\n",
    "print('Only chars:',re.findall('[m-q]', corpus))\n",
    "\n",
    "# get words with characters starting with\n",
    "print('\\n Words:',re.findall('[m-q]\\w+', corpus))"
   ]
  },
  {
   "cell_type": "code",
   "execution_count": 4,
   "id": "15a6a09c",
   "metadata": {},
   "outputs": [
    {
     "name": "stdout",
     "output_type": "stream",
     "text": [
      "Only Chars: ['p', 'p', 'o', 'o', 'n', 'n', 'm', 'n', 'n', 'n', 'o', 'n', 'p', 'o', 'n', 'o', 'n', 'o', 'n', 'n', 'n', 'o', 'p', 'o', 'o', 'o', 'n', 'p', 'm', 'n', 'n', 'p', 'n', 'o', 'n', 'o', 'o', 'p', 'o', 'n', 'o', 'o', 'o', 'm', 'm', 'n', 'o', 'n', 'n', 'n', 'o', 'n', 'p', 'n', 'o', 'o', 'o', 'o', 'n', 'o', 'n', 'M', 'n', 'p', 'm', 'n', 'n', 'o', 'n', 'p', 'o', 'n', 'o', 'o', 'n', 'm', 'o', 'o', 'p', 'o', 'p', 'p', 'n', 'o', 'o', 'o', 'o', 'm', 'n', 'o', 'n', 'p', 'o', 'n', 'o', 'm', 'p', 'o', 'o', 'p', 'o', 'o', 'n', 'n', 'o', 'p', 'n', 'n', 'm', 'o', 'p', 'o', 'n', 'n', 'o', 'p', 'n', 'n', 'n']\n",
      "\n",
      "Words ['pace', 'ploration', 'nated', 'mankind', 'ness', 'of', 'niverse', 'parks', 'osity', 'nd', 'onder', 'onauts', 'nture', 'nto', 'pace', 'odies', 'onduct', 'periments', 'nd', 'pand', 'our', 'nowledge', 'orbit', 'providing', 'or', 'orecasts', 'ommunication', 'nd', 'navigation', 'pace', 'ncies', 'ollaborate', 'over', 'new', 'ontiers', 'Mars', 'ng', 'prime', 'nternational', 'pace', 'on', 'oratory', 'microgravity', 'ockets', 'propel', 'pacecraft', 'nto', 'orbit', 'overcoming', 'onal', 'pull', 'onomers', 'powerful', 'opes', 'observe', 'nt', 'nd', 'or', 'planets', 'nd', 'mystery', 'of', 'pace', 'ontinue', 'ptivate', 'ntists', 'nd', 'nthusiasts']\n"
     ]
    }
   ],
   "source": [
    "# case-insensitive\n",
    "\n",
    "print('Only Chars:',re.findall('[m-q]', corpus, re.IGNORECASE))\n",
    "\n",
    "# get words with characters starting with\n",
    "print('\\nWords',re.findall('[m-q]\\w+', corpus,re.IGNORECASE))"
   ]
  },
  {
   "cell_type": "markdown",
   "id": "3c40afe0",
   "metadata": {},
   "source": [
    "## .(dot)"
   ]
  },
  {
   "cell_type": "code",
   "execution_count": 5,
   "id": "c9604ba5",
   "metadata": {},
   "outputs": [
    {
     "name": "stdout",
     "output_type": "stream",
     "text": [
      "['cies', 'ce S']\n"
     ]
    }
   ],
   "source": [
    "print(re.findall('c..s', corpus, re.IGNORECASE)) # case-insensitive"
   ]
  },
  {
   "cell_type": "code",
   "execution_count": 6,
   "id": "0a74e59e",
   "metadata": {},
   "outputs": [
    {
     "name": "stdout",
     "output_type": "stream",
     "text": [
      "['curios', 'celes', 'casts', 'cies', 'ckets', 'copes', 'cientists']\n"
     ]
    }
   ],
   "source": [
    "# Using \\w+\n",
    "print(re.findall('c\\w+s', corpus, re.IGNORECASE)) # case-insensitive"
   ]
  },
  {
   "cell_type": "markdown",
   "id": "ba605aae",
   "metadata": {},
   "source": [
    "## ^ (hat) _string starts with_"
   ]
  },
  {
   "cell_type": "code",
   "execution_count": 35,
   "id": "79d3c1fc",
   "metadata": {},
   "outputs": [
    {
     "name": "stdout",
     "output_type": "stream",
     "text": [
      "Found: 1\n",
      "Raw matches: ['Th']\n",
      "Words: ['This']\n"
     ]
    }
   ],
   "source": [
    "text = \"This is an amazing class_room, every one speaks ENGLISH 123. classy The c    s\"\n",
    "matches = re.findall('^Th',text, re.IGNORECASE)\n",
    "word_matches = re.findall('^A|^T\\w+',text)\n",
    "\n",
    "\n",
    "print('Found:',len(matches))\n",
    "print('Raw matches:',matches)\n",
    "print('Words:',word_matches)"
   ]
  },
  {
   "cell_type": "markdown",
   "id": "4e381e97",
   "metadata": {},
   "source": [
    "## | _or operator_"
   ]
  },
  {
   "cell_type": "code",
   "execution_count": 36,
   "id": "def385a1",
   "metadata": {},
   "outputs": [
    {
     "name": "stdout",
     "output_type": "stream",
     "text": [
      "Found: 0\n",
      "Raw matches: []\n",
      "Words: []\n"
     ]
    }
   ],
   "source": [
    "matches = re.findall('^A|^T',text)\n",
    "word_matches = re.findall('^A|^T\\w+',text)\n",
    "\n",
    "print('Found:',len(matches))\n",
    "print('Raw matches:',matches)\n",
    "print('Words:',word_matches)"
   ]
  },
  {
   "cell_type": "markdown",
   "id": "4f29e889",
   "metadata": {},
   "source": [
    "## & Operator"
   ]
  },
  {
   "cell_type": "code",
   "execution_count": 38,
   "id": "9424bda2",
   "metadata": {},
   "outputs": [
    {
     "name": "stdout",
     "output_type": "stream",
     "text": [
      "Found: 0\n",
      "Raw matches: []\n",
      "Words: []\n"
     ]
    }
   ],
   "source": [
    "matches = re.findall('^A&&^T',text)\n",
    "word_matches = re.findall('^A&&^T\\w+',text)\n",
    "\n",
    "print('Found:',len(matches))\n",
    "print('Raw matches:',matches)\n",
    "print('Words:',word_matches)"
   ]
  },
  {
   "cell_type": "markdown",
   "id": "6d748c3f",
   "metadata": {},
   "source": [
    "## Challenge question"
   ]
  },
  {
   "cell_type": "code",
   "execution_count": 49,
   "id": "a8cd7359",
   "metadata": {},
   "outputs": [
    {
     "name": "stdout",
     "output_type": "stream",
     "text": [
      "Regex: T..s\n",
      "Found: 1\n",
      "Raw matches: ['This']\n",
      "Words: ['This']\n"
     ]
    }
   ],
   "source": [
    "# Starts with capital T, two letters and ends with s\n",
    "regex = 'T..s' # not using ^, I want all the 4 letter words\n",
    "\n",
    "printelli(regex, text)"
   ]
  },
  {
   "cell_type": "markdown",
   "id": "2b1897dd",
   "metadata": {},
   "source": [
    "## Using [+]"
   ]
  },
  {
   "cell_type": "code",
   "execution_count": 51,
   "id": "655d66f9",
   "metadata": {},
   "outputs": [
    {
     "name": "stdout",
     "output_type": "stream",
     "text": [
      "Regex: [+]\n",
      "Found: 3\n",
      "Raw matches: ['+', '+', '+']\n",
      "Words: ['+', '+', '+']\n"
     ]
    }
   ],
   "source": [
    "regex = '[+]'\n",
    "text = \"This is an amazing++ class_room, @every #one *speaks !ENGLISH |123. classy c /+ s\"\n",
    "\n",
    "printelli(regex, text)"
   ]
  },
  {
   "cell_type": "markdown",
   "id": "c2c48da5",
   "metadata": {},
   "source": [
    "## Using ?"
   ]
  },
  {
   "cell_type": "code",
   "execution_count": 63,
   "id": "abcbe051",
   "metadata": {},
   "outputs": [
    {
     "name": "stdout",
     "output_type": "stream",
     "text": [
      "(\\d?\\d):(\\d?\\d)=> [('1', '30'), ('12', '30'), ('1', '5'), ('12', '5')]\n",
      "(\\d\\d):(\\d\\d)=> [('12', '30')]\n",
      "(\\d?\\d):(\\d\\d)=> [('1', '30'), ('12', '30')]\n",
      "(\\d\\d):(\\d?\\d)=> [('12', '30'), ('12', '5')]\n"
     ]
    }
   ],
   "source": [
    "text = \"\\nyes 1:30  no 12:30  mayb 1:5  test me 12:5\"\n",
    "\n",
    "print('(\\d?\\d):(\\d?\\d)=>', re.findall(r'(\\d?\\d):(\\d?\\d)',text))\n",
    "print('(\\d\\d):(\\d\\d)=>', re.findall(r'(\\d\\d):(\\d\\d)',text))\n",
    "print('(\\d?\\d):(\\d\\d)=>', re.findall(r'(\\d?\\d):(\\d\\d)',text))\n",
    "print('(\\d\\d):(\\d?\\d)=>', re.findall(r'(\\d\\d):(\\d?\\d)',text))"
   ]
  },
  {
   "cell_type": "markdown",
   "id": "8f482227",
   "metadata": {},
   "source": [
    "## Using backslash and +"
   ]
  },
  {
   "cell_type": "code",
   "execution_count": 91,
   "id": "e856b004",
   "metadata": {},
   "outputs": [
    {
     "name": "stdout",
     "output_type": "stream",
     "text": [
      "Regex: \\d+\n",
      "Found: 5\n",
      "Raw matches: ['12', '890', '3434', '12', '39']\n",
      "Words: ['12', '890', '3434', '12', '39']\n",
      "\n",
      "Temperature\n",
      "Regex: \\d+\\.\\d+\n",
      "Found: 1\n",
      "Raw matches: ['12.39']\n",
      "Words: ['12.39']\n"
     ]
    }
   ],
   "source": [
    "# \\d+\n",
    "\n",
    "text = 'hello 12 hi 890. Howdy 3434 12.39C'\n",
    "\n",
    "regex = '\\d+'\n",
    "printelli(regex, text)\n",
    "\n",
    "# get the temperature\n",
    "text = 'hello 12 hi 890. Howdy 3434 12.39C'\n",
    "print('\\nTemperature')\n",
    "regex = '\\d+\\.\\d+'\n",
    "printelli(regex, text)"
   ]
  },
  {
   "cell_type": "code",
   "execution_count": 84,
   "id": "1cafde6c",
   "metadata": {},
   "outputs": [
    {
     "name": "stdout",
     "output_type": "stream",
     "text": [
      "abc12de23f456\n"
     ]
    }
   ],
   "source": [
    "# \\s+\n",
    "\n",
    "text = 'abc 12 de   23 f45 6'\n",
    "regex = '\\s+'\n",
    "replace = ''\n",
    "\n",
    "new = re.sub(regex, replace, text)\n",
    "print(new)"
   ]
  },
  {
   "cell_type": "markdown",
   "id": "746890c1",
   "metadata": {},
   "source": [
    "## Advanced usage"
   ]
  },
  {
   "cell_type": "code",
   "execution_count": 92,
   "id": "c2c9448a",
   "metadata": {},
   "outputs": [
    {
     "data": {
      "text/plain": [
       "['@UN', '@UN_Women']"
      ]
     },
     "execution_count": 92,
     "metadata": {},
     "output_type": "execute_result"
    }
   ],
   "source": [
    "# Get all words with '@' tag\n",
    "\n",
    "text = '#UNSG @ NY Society for Ethical Culture bit.ly/2gyVelr @UN @UN_Women '\n",
    "tokens = text.split()\n",
    "[w for w in tokens if re.search('@[a-zA-z]+',w)]"
   ]
  },
  {
   "cell_type": "code",
   "execution_count": 101,
   "id": "a819bf1e",
   "metadata": {},
   "outputs": [
    {
     "data": {
      "text/plain": [
       "[('2', '45'), ('11', '30')]"
      ]
     },
     "execution_count": 101,
     "metadata": {},
     "output_type": "execute_result"
    }
   ],
   "source": [
    "# get times from text \n",
    "\n",
    "text = \"Monday: The doctor's appointment is at 2:45pm.Tuesday: The dentist's apoointment is at 11:30am\"\n",
    "re.findall(r'(\\d?\\d):(\\d\\d)',text)"
   ]
  },
  {
   "cell_type": "code",
   "execution_count": 104,
   "id": "a437e62c",
   "metadata": {},
   "outputs": [
    {
     "data": {
      "text/plain": [
       "[('11', '30')]"
      ]
     },
     "execution_count": 104,
     "metadata": {},
     "output_type": "execute_result"
    }
   ],
   "source": [
    "# Challenge question\n",
    "\n",
    "text = \"Monday: The doctor's appointment is at 2:45pm.Tuesday: The dentist's apoointment is at 11:30am\"\n",
    "re.findall(r'(\\d\\d):(\\d\\d)',text)"
   ]
  },
  {
   "cell_type": "markdown",
   "id": "eab73c8b",
   "metadata": {},
   "source": [
    "Discussion: The role of '?' is to be a placeholder of a regex. So it will consider it as match that 'may or may not match'"
   ]
  },
  {
   "cell_type": "code",
   "execution_count": null,
   "id": "85089f09",
   "metadata": {},
   "outputs": [],
   "source": []
  }
 ],
 "metadata": {
  "kernelspec": {
   "display_name": "Python 3 (ipykernel)",
   "language": "python",
   "name": "python3"
  },
  "language_info": {
   "codemirror_mode": {
    "name": "ipython",
    "version": 3
   },
   "file_extension": ".py",
   "mimetype": "text/x-python",
   "name": "python",
   "nbconvert_exporter": "python",
   "pygments_lexer": "ipython3",
   "version": "3.10.8"
  }
 },
 "nbformat": 4,
 "nbformat_minor": 5
}

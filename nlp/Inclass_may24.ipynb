{
 "cells": [
  {
   "cell_type": "markdown",
   "id": "3ad8cc51",
   "metadata": {},
   "source": [
    "# Stopwords"
   ]
  },
  {
   "cell_type": "code",
   "execution_count": 1,
   "id": "e13c1ce1",
   "metadata": {},
   "outputs": [],
   "source": [
    "# Install nltk if not\n",
    "# !pip install nltk"
   ]
  },
  {
   "cell_type": "code",
   "execution_count": 2,
   "id": "2624cdef",
   "metadata": {},
   "outputs": [
    {
     "name": "stdout",
     "output_type": "stream",
     "text": [
      "['i', 'me', 'my', 'myself', 'we', 'our', 'ours', 'ourselves', 'you', \"you're\", \"you've\", \"you'll\", \"you'd\", 'your', 'yours', 'yourself', 'yourselves', 'he', 'him', 'his', 'himself', 'she', \"she's\", 'her', 'hers', 'herself', 'it', \"it's\", 'its', 'itself', 'they', 'them', 'their', 'theirs', 'themselves', 'what', 'which', 'who', 'whom', 'this', 'that', \"that'll\", 'these', 'those', 'am', 'is', 'are', 'was', 'were', 'be', 'been', 'being', 'have', 'has', 'had', 'having', 'do', 'does', 'did', 'doing', 'a', 'an', 'the', 'and', 'but', 'if', 'or', 'because', 'as', 'until', 'while', 'of', 'at', 'by', 'for', 'with', 'about', 'against', 'between', 'into', 'through', 'during', 'before', 'after', 'above', 'below', 'to', 'from', 'up', 'down', 'in', 'out', 'on', 'off', 'over', 'under', 'again', 'further', 'then', 'once', 'here', 'there', 'when', 'where', 'why', 'how', 'all', 'any', 'both', 'each', 'few', 'more', 'most', 'other', 'some', 'such', 'no', 'nor', 'not', 'only', 'own', 'same', 'so', 'than', 'too', 'very', 's', 't', 'can', 'will', 'just', 'don', \"don't\", 'should', \"should've\", 'now', 'd', 'll', 'm', 'o', 're', 've', 'y', 'ain', 'aren', \"aren't\", 'couldn', \"couldn't\", 'didn', \"didn't\", 'doesn', \"doesn't\", 'hadn', \"hadn't\", 'hasn', \"hasn't\", 'haven', \"haven't\", 'isn', \"isn't\", 'ma', 'mightn', \"mightn't\", 'mustn', \"mustn't\", 'needn', \"needn't\", 'shan', \"shan't\", 'shouldn', \"shouldn't\", 'wasn', \"wasn't\", 'weren', \"weren't\", 'won', \"won't\", 'wouldn', \"wouldn't\"]\n"
     ]
    }
   ],
   "source": [
    "# Stop words\n",
    "\n",
    "from nltk.corpus import stopwords\n",
    "stopList = stopwords.words('english')\n",
    "\n",
    "print(stopList)"
   ]
  },
  {
   "cell_type": "code",
   "execution_count": 3,
   "id": "b4beddd5",
   "metadata": {},
   "outputs": [
    {
     "data": {
      "text/plain": [
       "['A',\n",
       " 'sentence',\n",
       " 'is',\n",
       " 'a',\n",
       " 'textual',\n",
       " 'unit',\n",
       " 'consisting',\n",
       " 'of',\n",
       " 'words',\n",
       " 'that',\n",
       " 'are',\n",
       " 'grammatically',\n",
       " 'linked',\n",
       " '.']"
      ]
     },
     "execution_count": 3,
     "metadata": {},
     "output_type": "execute_result"
    }
   ],
   "source": [
    "from nltk.tokenize import word_tokenize as wzer\n",
    "\n",
    "text = \"A sentence is a textual unit consisting of words that are grammatically linked.\"\n",
    "tokens = wzer(text)\n",
    "tokens"
   ]
  },
  {
   "cell_type": "code",
   "execution_count": 4,
   "id": "020fffbb",
   "metadata": {},
   "outputs": [
    {
     "data": {
      "text/plain": [
       "['sentence',\n",
       " 'textual',\n",
       " 'unit',\n",
       " 'consisting',\n",
       " 'words',\n",
       " 'grammatically',\n",
       " 'linked',\n",
       " '.']"
      ]
     },
     "execution_count": 4,
     "metadata": {},
     "output_type": "execute_result"
    }
   ],
   "source": [
    "sanitized = []\n",
    "\n",
    "for token in tokens:\n",
    "    if token.lower() not in stopList:\n",
    "        sanitized.append(token)\n",
    "        \n",
    "sanitized"
   ]
  },
  {
   "cell_type": "markdown",
   "id": "96d69847",
   "metadata": {},
   "source": [
    "## Regex"
   ]
  },
  {
   "cell_type": "code",
   "execution_count": 5,
   "id": "eb00a09e",
   "metadata": {},
   "outputs": [
    {
     "name": "stdout",
     "output_type": "stream",
     "text": [
      "Total hashtags : 4\n",
      "Hashtags : ['#tweet', '#nlp', '#machine', '#learning']\n"
     ]
    }
   ],
   "source": [
    "import re\n",
    "\n",
    "\n",
    "tweet = 'Hello guys, this is my first #tweet. Check this @ujjawal! #nlp #machine #learning'\n",
    "pattern  = '#\\w+'\n",
    "hashtags = re.findall(pattern,tweet)\n",
    "\n",
    "print('Total hashtags :',len(hashtags))\n",
    "print('Hashtags :',hashtags)"
   ]
  },
  {
   "cell_type": "code",
   "execution_count": 6,
   "id": "cf94aea7",
   "metadata": {},
   "outputs": [
    {
     "name": "stdout",
     "output_type": "stream",
     "text": [
      "Sub type: <class 'str'>\n",
      "Sub: Hello guys, this is my first _tweet. Check this @ujjawal! _nlp _machine _learning\n",
      "OG: Hello guys, this is my first #tweet. Check this @ujjawal! #nlp #machine #learning\n"
     ]
    }
   ],
   "source": [
    "# Substitue\n",
    "b = re.sub('#','_',tweet)\n",
    "print('Sub type:',type(b))\n",
    "print('Sub:',b)\n",
    "print('OG:',tweet)"
   ]
  },
  {
   "cell_type": "code",
   "execution_count": 7,
   "id": "4b2b8656",
   "metadata": {},
   "outputs": [
    {
     "name": "stdout",
     "output_type": "stream",
     "text": [
      "['The']\n",
      "[]\n"
     ]
    }
   ],
   "source": [
    "# Sequences\n",
    "\n",
    "# \\A - string starting with\n",
    "text = \"The categorical cat hello mycat\"\n",
    "text1 = \"categorical cat hello mycat\"\n",
    "\n",
    "print(re.findall(r'\\AThe',text))\n",
    "print(re.findall(r'\\AThe',text1))"
   ]
  },
  {
   "cell_type": "code",
   "execution_count": 8,
   "id": "2accce46",
   "metadata": {},
   "outputs": [
    {
     "data": {
      "text/plain": [
       "['cat', 'cat']"
      ]
     },
     "execution_count": 8,
     "metadata": {},
     "output_type": "execute_result"
    }
   ],
   "source": [
    "# \\b - sequence start/end\n",
    "text = \"The categorical cat hello mycat\"\n",
    "\n",
    "# words that start with cat\n",
    "re.findall(r'\\bcat',text)"
   ]
  },
  {
   "cell_type": "code",
   "execution_count": 9,
   "id": "73c026f5",
   "metadata": {},
   "outputs": [
    {
     "name": "stdout",
     "output_type": "stream",
     "text": [
      "Ending with cat ['cat', 'cat']\n",
      "Start index: 4\n",
      "(4, 7)\n"
     ]
    }
   ],
   "source": [
    "# words that start with cat\n",
    "print('Ending with cat',re.findall(r'cat\\b',text))\n",
    "\n",
    "# index \n",
    "print('Start index:',text.index('cat'))\n",
    "\n",
    "# index using search\n",
    "print(re.search(r'\\bcat',text).span())"
   ]
  },
  {
   "cell_type": "code",
   "execution_count": 10,
   "id": "c17664bb",
   "metadata": {},
   "outputs": [
    {
     "name": "stdout",
     "output_type": "stream",
     "text": [
      "['cat']\n",
      "(16, 19)\n"
     ]
    }
   ],
   "source": [
    "# words that start & end with cat\n",
    "print(re.findall(r'\\bcat\\b',text))\n",
    "\n",
    "\n",
    "# index using search\n",
    "print(re.search(r'cat\\b',text).span())"
   ]
  },
  {
   "cell_type": "code",
   "execution_count": 11,
   "id": "6f77b72f",
   "metadata": {},
   "outputs": [
    {
     "name": "stdout",
     "output_type": "stream",
     "text": [
      "['zi']\n",
      "[]\n"
     ]
    }
   ],
   "source": [
    "# \\B - returns matches that not begin of a word in the string\n",
    "\n",
    "text1 = 'This is an amazing classrom, every one speaks ENGLISH zizazo!'\n",
    "text2= 'This is a good classroom, every one speaks ENGLISH zizxzd'\n",
    "\n",
    "print(re.findall(r'\\Bzi',text1))\n",
    "print(re.findall(r'\\Bzi',text2))"
   ]
  },
  {
   "cell_type": "code",
   "execution_count": 12,
   "id": "ea0f3f47",
   "metadata": {},
   "outputs": [
    {
     "name": "stdout",
     "output_type": "stream",
     "text": [
      "['zi', 'zi']\n",
      "['zi']\n"
     ]
    }
   ],
   "source": [
    "# \\B - returns matches that not end of a word in the string\n",
    "\n",
    "text1 = 'This is an amazing classrom, every one speaks ENGLISH zizazo!'\n",
    "text2= 'This is a good classroom, every one speaks ENGLISH zizxzd'\n",
    "\n",
    "print(re.findall(r'zi\\B',text1))\n",
    "print(re.findall(r'zi\\B',text2))"
   ]
  },
  {
   "cell_type": "code",
   "execution_count": 13,
   "id": "44a41df4",
   "metadata": {},
   "outputs": [
    {
     "name": "stdout",
     "output_type": "stream",
     "text": [
      "['zi']\n",
      "[]\n"
     ]
    }
   ],
   "source": [
    "# \\B - returns matches that not start & end of a word in the string\n",
    "\n",
    "text1 = 'This is an amazing classrom, every one speaks ENGLISH zizazo!'\n",
    "text2= 'This is a good classroom, every one speaks ENGLISH zizxzd'\n",
    "\n",
    "print(re.findall(r'\\Bzi\\B',text1))\n",
    "print(re.findall(r'\\Bzi\\B',text2))"
   ]
  },
  {
   "cell_type": "markdown",
   "id": "05f7fae2",
   "metadata": {},
   "source": [
    "# Digits and spaces"
   ]
  },
  {
   "cell_type": "code",
   "execution_count": 14,
   "id": "daa70a2f",
   "metadata": {},
   "outputs": [
    {
     "data": {
      "text/plain": [
       "['9', '5', '1', '2', '3']"
      ]
     },
     "execution_count": 14,
     "metadata": {},
     "output_type": "execute_result"
    }
   ],
   "source": [
    "# \\d - digit matching\n",
    "\n",
    "text = 'This is an 9amazing 5classroom, every one speaks ENGLISH 123. classy!!'\n",
    "re.findall('\\d',text)"
   ]
  },
  {
   "cell_type": "code",
   "execution_count": 32,
   "id": "7436055a",
   "metadata": {},
   "outputs": [
    {
     "name": "stdout",
     "output_type": "stream",
     "text": [
      "This is an  amazing classroom,  every one speaks ENGLISH . classy!!\n"
     ]
    }
   ],
   "source": [
    "# \\D - matches any non-decimal\n",
    "text = 'This is an 2 amazing classroom, 4 every one speaks ENGLISH 123. classy!!'\n",
    "splits = re.findall('\\D', text)\n",
    "\n",
    "\n",
    "str = ''.join(splits) # nice!\n",
    "    \n",
    "print(str)"
   ]
  },
  {
   "cell_type": "code",
   "execution_count": 35,
   "id": "1c2d5e3e",
   "metadata": {},
   "outputs": [
    {
     "name": "stdout",
     "output_type": "stream",
     "text": [
      "[' ', ' ', ' ', ' ', ' ', ' ', ' ', ' ', ' ', ' ', ' ', ' ']  Total of : 12\n",
      "[' ', ' ', ' ', ' ', ' ', ' ', ' ', ' ', ' ', ' ', ' ', ' ']  Total of : 12\n"
     ]
    }
   ],
   "source": [
    "# \\s - returns all white spaces\n",
    "\n",
    "text = 'This is an 2 amazing classroom, 4 every one speaks ENGLISH 123. classy!!'\n",
    "print(re.findall('\\s', text),' Total of :', len(re.findall('\\s', text)))\n",
    "print(re.findall(' ', text),' Total of :', len(re.findall('\\s', text)))"
   ]
  },
  {
   "cell_type": "code",
   "execution_count": 22,
   "id": "6886c6d3",
   "metadata": {},
   "outputs": [
    {
     "name": "stdout",
     "output_type": "stream",
     "text": [
      "['T', 'h', 'i', 's', 'i', 's', 'a', 'n', '2', 'a', 'm', 'a', 'z', 'i', 'n', 'g', 'c', 'l', 'a', 's', 's', 'r', 'o', 'o', 'm', ',', '4', 'e', 'v', 'e', 'r', 'y', 'o', 'n', 'e', 's', 'p', 'e', 'a', 'k', 's', 'E', 'N', 'G', 'L', 'I', 'S', 'H', '1', '2', '3', '.', 'c', 'l', 'a', 's', 's', 'y', '!', '!'] \r\n",
      " Total of : 60\n"
     ]
    }
   ],
   "source": [
    "# \\S - returns all !(white spaces)\n",
    "\n",
    "text = 'This is an 2 amazing classroom, 4 every one speaks ENGLISH 123. classy!!'\n",
    "print(re.findall('\\S', text),'\\r\\n Total of :', len(re.findall('\\S', text)))"
   ]
  },
  {
   "cell_type": "markdown",
   "id": "cface9dd",
   "metadata": {},
   "source": [
    "# Only alphanumeric _ "
   ]
  },
  {
   "cell_type": "code",
   "execution_count": 36,
   "id": "8bd1fb49",
   "metadata": {},
   "outputs": [
    {
     "name": "stdout",
     "output_type": "stream",
     "text": [
      "['T', 'h', 'i', 's', 'i', 's', 'a', 'n', '2', 'a', 'm', 'a', 'z', 'i', 'n', 'g', 'c', 'l', 'a', 's', 's', 'r', 'o', 'o', 'm', '4', 'e', 'v', 'e', 'r', 'y', 'o', 'n', 'e', 's', 'p', 'e', 'a', 'k', 's', 'E', 'N', 'G', 'L', 'I', 'S', 'H', '1', '2', '3', 'c', 'l', 'a', 's', 's', 'y']\n"
     ]
    }
   ],
   "source": [
    "# \\w : . , ! white spaces = are not included (i.e. only alphanumeric and _)\n",
    "\n",
    "text = 'This is an 2 amazing classroom, 4 every one speaks ENGLISH 123. classy!!'\n",
    "print(re.findall('\\w',text))"
   ]
  },
  {
   "cell_type": "code",
   "execution_count": 38,
   "id": "d94a9d22",
   "metadata": {},
   "outputs": [
    {
     "name": "stdout",
     "output_type": "stream",
     "text": [
      "[' ', ' ', ' ', ' ', ' ', ',', ' ', ' ', ' ', ' ', ' ', ' ', '.', ' ', '!', '!']\n"
     ]
    }
   ],
   "source": [
    "# \\W - non-alphanumeric & non-_\n",
    "\n",
    "text = 'This is an 2 amazing classroom, 4 every one speaks ENGLISH 123. classy!!'\n",
    "print(re.findall('\\W',text))"
   ]
  },
  {
   "cell_type": "code",
   "execution_count": 49,
   "id": "5ee1908a",
   "metadata": {},
   "outputs": [
    {
     "name": "stdout",
     "output_type": "stream",
     "text": [
      "['classy']\n"
     ]
    }
   ],
   "source": [
    "# \\Z - end of string\n",
    "\n",
    "text = 'This is an 2 amazing classroom, 4 every one speaks ENGLISH 123. classy'\n",
    "print(re.findall('classy\\Z',text))"
   ]
  },
  {
   "cell_type": "code",
   "execution_count": 51,
   "id": "d66736f3",
   "metadata": {},
   "outputs": [
    {
     "name": "stdout",
     "output_type": "stream",
     "text": [
      "['a', 'a', 'a', 'c', 'a', 'e', 'e', 'e', 'e', 'a', 'c', 'a']\n"
     ]
    }
   ],
   "source": [
    "# [m-q] - range of letters to include\n",
    "\n",
    "text = 'This is an 2 amazing classroom, 4 every one speaks ENGLISH 123. classy'\n",
    "print(re.findall('[a-e]',text))"
   ]
  },
  {
   "cell_type": "code",
   "execution_count": 63,
   "id": "1a57768b",
   "metadata": {},
   "outputs": [
    {
     "name": "stdout",
     "output_type": "stream",
     "text": [
      "['class', 'class', 'cl./s']\n"
     ]
    }
   ],
   "source": [
    "# . (dot)\n",
    "\n",
    "text = 'This is an 2 amazing classroom, 4 every one speaks ENGLISH 123. classy cl./s'\n",
    "print(re.findall('c...s',text))"
   ]
  },
  {
   "cell_type": "code",
   "execution_count": 70,
   "id": "4a975f50",
   "metadata": {},
   "outputs": [
    {
     "name": "stdout",
     "output_type": "stream",
     "text": [
      "['This']\n"
     ]
    }
   ],
   "source": [
    "# ^ starts with\n",
    "\n",
    "text = 'This is an 2 amazing classroom, 4 every one speaks ENGLISH 123. classy cl./s'\n",
    "print(re.findall('^Th\\w+',text))"
   ]
  },
  {
   "cell_type": "code",
   "execution_count": null,
   "id": "bc210a80",
   "metadata": {},
   "outputs": [],
   "source": []
  }
 ],
 "metadata": {
  "kernelspec": {
   "display_name": "Python 3 (ipykernel)",
   "language": "python",
   "name": "python3"
  },
  "language_info": {
   "codemirror_mode": {
    "name": "ipython",
    "version": 3
   },
   "file_extension": ".py",
   "mimetype": "text/x-python",
   "name": "python",
   "nbconvert_exporter": "python",
   "pygments_lexer": "ipython3",
   "version": "3.10.8"
  }
 },
 "nbformat": 4,
 "nbformat_minor": 5
}

{
 "cells": [
  {
   "cell_type": "code",
   "execution_count": null,
   "metadata": {},
   "outputs": [],
   "source": [
    "# Disable SSL certificate verification\n",
    "import ssl\n",
    "\n",
    "ssl._create_default_https_context = ssl._create_unverified_context"
   ]
  },
  {
   "cell_type": "code",
   "execution_count": null,
   "metadata": {},
   "outputs": [],
   "source": [
    "# Import libraries\n",
    "import time\n",
    "from selenium import webdriver\n",
    "from bs4 import BeautifulSoup\n",
    "import pandas as pd"
   ]
  },
  {
   "cell_type": "code",
   "execution_count": 28,
   "metadata": {},
   "outputs": [
    {
     "name": "stdout",
     "output_type": "stream",
     "text": [
      "<class 'pandas.core.frame.DataFrame'>\n",
      "RangeIndex: 0 entries\n",
      "Empty DataFrame\n",
      "<class 'pandas.core.frame.DataFrame'>\n",
      "RangeIndex: 0 entries\n",
      "Empty DataFrame\n",
      "<class 'pandas.core.frame.DataFrame'>\n",
      "RangeIndex: 0 entries\n",
      "Empty DataFrame\n",
      "<class 'pandas.core.frame.DataFrame'>\n",
      "RangeIndex: 0 entries\n",
      "Empty DataFrame\n",
      "<class 'pandas.core.frame.DataFrame'>\n",
      "RangeIndex: 0 entries\n",
      "Empty DataFrame\n",
      "<class 'pandas.core.frame.DataFrame'>\n",
      "RangeIndex: 0 entries\n",
      "Empty DataFrame\n",
      "<class 'pandas.core.frame.DataFrame'>\n",
      "RangeIndex: 0 entries\n",
      "Empty DataFrame\n",
      "<class 'pandas.core.frame.DataFrame'>\n",
      "RangeIndex: 0 entries\n",
      "Empty DataFrame\n",
      "<class 'pandas.core.frame.DataFrame'>\n",
      "RangeIndex: 0 entries\n",
      "Empty DataFrame\n",
      "<class 'pandas.core.frame.DataFrame'>\n",
      "RangeIndex: 0 entries\n",
      "Empty DataFrame\n",
      "<class 'pandas.core.frame.DataFrame'>\n",
      "RangeIndex: 0 entries\n",
      "Empty DataFrame\n"
     ]
    }
   ],
   "source": [
    "# Define the URLs to scrape\n",
    "topic_url_dict = {\n",
    "    \"health\": [],\n",
    "    \"science\": [],\n",
    "    \"technology\": [],\n",
    "    \"politics\": [],\n",
    "    \"sports\": [],\n",
    "    \"business\": [],\n",
    "    \"entertainment\": [],\n",
    "    \"environment\": [],\n",
    "    \"lifestyle\": [],\n",
    "    \"programming\": [],\n",
    "    \"education\": [],\n",
    "}\n",
    "\n",
    "for topic, urls in topic_url_dict.items():\n",
    "    news_df = pd.DataFrame({})\n",
    "    for url in urls:\n",
    "        # Configure Selenium WebDriver\n",
    "        driver = webdriver.Chrome()  # Use appropriate WebDriver (e.g., Chrome, Firefox)\n",
    "        driver.get(url)\n",
    "\n",
    "        # Wait for the page to load and scroll to the bottom to trigger content loading\n",
    "        time.sleep(10)  # Adjust the delay as needed\n",
    "        driver.execute_script(\"window.scrollTo(0, document.body.scrollHeight);\")\n",
    "        time.sleep(10)  # Adjust the delay as needed\n",
    "\n",
    "        # Get the updated HTML content after scrolling\n",
    "        html_content = driver.page_source\n",
    "\n",
    "        # Close the browser\n",
    "        driver.quit()\n",
    "\n",
    "        # Create a BeautifulSoup object to parse the HTML\n",
    "        soup = BeautifulSoup(html_content, \"html.parser\")\n",
    "\n",
    "        # Find all the h2 elements with the specified class\n",
    "        h2_elements = soup.find_all(\n",
    "            \"h2\",\n",
    "            class_=\"be ik ka kb kc kd ke kf kg kh ki kj kk kl km kn ko kp kq kr ks kt ku kv kw kx ky fg fh fi fk fl bj\",\n",
    "        )\n",
    "\n",
    "        # Iterate over the h2 elements and extract the title and writer\n",
    "        for h2_element in h2_elements:\n",
    "            writer_element = h2_element.find_next(\n",
    "                class_=\"be b bf z fg jl fh fi fj fk di fl bj\"\n",
    "            )\n",
    "            if writer_element:\n",
    "                writer = writer_element.get_text()\n",
    "            else:\n",
    "                writer = \"Unknown\"\n",
    "            title = h2_element.get_text()\n",
    "            news_df = news_df.append(\n",
    "                {\"title\": title, \"topic\": topic}, ignore_index=True\n",
    "            )\n",
    "            print(f\"Title: {title}\\n\")\n",
    "    news_df.to_csv(f\"{topic}_news_data.csv\")\n",
    "    news_df.info()"
   ]
  },
  {
   "cell_type": "code",
   "execution_count": null,
   "metadata": {},
   "outputs": [],
   "source": []
  }
 ],
 "metadata": {
  "kernelspec": {
   "display_name": "Python 3 (ipykernel)",
   "language": "python",
   "name": "python3"
  },
  "language_info": {
   "codemirror_mode": {
    "name": "ipython",
    "version": 3
   },
   "file_extension": ".py",
   "mimetype": "text/x-python",
   "name": "python",
   "nbconvert_exporter": "python",
   "pygments_lexer": "ipython3",
   "version": "3.11.1"
  }
 },
 "nbformat": 4,
 "nbformat_minor": 2
}

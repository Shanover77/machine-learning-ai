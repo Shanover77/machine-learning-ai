{
 "cells": [
  {
   "cell_type": "code",
   "execution_count": 1,
   "id": "cf44b1b3",
   "metadata": {},
   "outputs": [
    {
     "name": "stdout",
     "output_type": "stream",
     "text": [
      "Collecting FastAPI\n",
      "  Downloading fastapi-0.98.0-py3-none-any.whl (56 kB)\n",
      "     ---------------------------------------- 57.0/57.0 kB 1.5 MB/s eta 0:00:00\n",
      "Requirement already satisfied: pydantic!=1.8,!=1.8.1,<2.0.0,>=1.7.4 in c:\\users\\shanover\\appdata\\local\\programs\\python\\python310\\lib\\site-packages (from FastAPI) (1.10.9)\n",
      "Collecting starlette<0.28.0,>=0.27.0 (from FastAPI)\n",
      "  Downloading starlette-0.27.0-py3-none-any.whl (66 kB)\n",
      "     ---------------------------------------- 67.0/67.0 kB 1.8 MB/s eta 0:00:00\n",
      "Requirement already satisfied: typing-extensions>=4.2.0 in c:\\users\\shanover\\appdata\\local\\programs\\python\\python310\\lib\\site-packages (from pydantic!=1.8,!=1.8.1,<2.0.0,>=1.7.4->FastAPI) (4.5.0)\n",
      "Requirement already satisfied: anyio<5,>=3.4.0 in c:\\users\\shanover\\appdata\\local\\programs\\python\\python310\\lib\\site-packages (from starlette<0.28.0,>=0.27.0->FastAPI) (3.6.2)\n",
      "Requirement already satisfied: idna>=2.8 in c:\\users\\shanover\\appdata\\local\\programs\\python\\python310\\lib\\site-packages (from anyio<5,>=3.4.0->starlette<0.28.0,>=0.27.0->FastAPI) (3.4)\n",
      "Requirement already satisfied: sniffio>=1.1 in c:\\users\\shanover\\appdata\\local\\programs\\python\\python310\\lib\\site-packages (from anyio<5,>=3.4.0->starlette<0.28.0,>=0.27.0->FastAPI) (1.3.0)\n",
      "Installing collected packages: starlette, FastAPI\n",
      "Successfully installed FastAPI-0.98.0 starlette-0.27.0\n"
     ]
    }
   ],
   "source": [
    "# !pip install FastAPI"
   ]
  },
  {
   "cell_type": "code",
   "execution_count": 18,
   "id": "ba9e7150",
   "metadata": {},
   "outputs": [],
   "source": [
    "# Import Python libraries\n",
    "import nltk\n",
    "from nltk.corpus import stopwords\n",
    "from nltk.stem import WordNetLemmatizer # instead we will use lemmatizer\n",
    "from sklearn.feature_extraction.text import TfidfVectorizer"
   ]
  },
  {
   "cell_type": "code",
   "execution_count": 19,
   "id": "9a6bf4ff",
   "metadata": {},
   "outputs": [
    {
     "name": "stderr",
     "output_type": "stream",
     "text": [
      "[nltk_data] Downloading package stopwords to\n",
      "[nltk_data]     C:\\Users\\Shanover\\AppData\\Roaming\\nltk_data...\n",
      "[nltk_data]   Package stopwords is already up-to-date!\n"
     ]
    }
   ],
   "source": [
    "# Perform text preprocessing\n",
    "nltk.download(\"stopwords\")\n",
    "stop_words = set(stopwords.words(\"english\"))\n",
    "stemmer = SnowballStemmer(\"english\")"
   ]
  },
  {
   "cell_type": "code",
   "execution_count": 20,
   "id": "63c98296",
   "metadata": {},
   "outputs": [],
   "source": [
    "# methods\n",
    "\n",
    "# Create a function to perform text preprocessing\n",
    "\n",
    "import re\n",
    "import string\n",
    "from nltk.stem import WordNetLemmatizer # instead we will use lemmatizer\n",
    "from nltk.stem import SnowballStemmer # let's remove this @ujjawal\n",
    "\n",
    "lemmatizer = WordNetLemmatizer()\n",
    "\n",
    "def remove_punctuations(text):\n",
    "    # Remove punctuations and special characters using regex and string module\n",
    "    text = re.sub(f\"[{re.escape(string.punctuation)}]\", \"\", text)\n",
    "    text = re.sub(r\"[\\–\\—]\", \"\", text)  # Remove special characters like dashes\n",
    "    return text\n",
    "\n",
    "def preprocess_text(text):\n",
    "    # Convert to lowercase\n",
    "    text = text.lower()\n",
    "    \n",
    "    # remove punctuation and special chars\n",
    "    text = remove_punctuations(text)\n",
    "\n",
    "    # Tokenization\n",
    "    tokens = nltk.word_tokenize(text)\n",
    "\n",
    "    # Remove stopwords\n",
    "    tokens = [token for token in tokens if token not in stop_words]\n",
    "\n",
    "    # Stemming\n",
    "    #stemmed_tokens = [stemmer.stem(token) for token in tokens]\n",
    "    \n",
    "    lemmatized_tokens = []\n",
    "    \n",
    "    # Apply lemma\n",
    "    for token, pos_tag in nltk.pos_tag(tokens):\n",
    "        # Map POS tag to WordNet tag\n",
    "        wn_tag = nltk.corpus.wordnet.NOUN\n",
    "        if pos_tag.startswith('J'):\n",
    "            wn_tag = nltk.corpus.wordnet.ADJ\n",
    "        elif pos_tag.startswith('V'):\n",
    "            wn_tag = nltk.corpus.wordnet.VERB\n",
    "        elif pos_tag.startswith('R'):\n",
    "            wn_tag = nltk.corpus.wordnet.ADV\n",
    "        # Lemmatize token\n",
    "        lemmatized_token = lemmatizer.lemmatize(token, pos=wn_tag)\n",
    "        lemmatized_tokens.append(lemmatized_token)\n",
    "    lemmatized_text = ' '.join(lemmatized_tokens)\n",
    "    return lemmatized_text"
   ]
  },
  {
   "cell_type": "code",
   "execution_count": 3,
   "id": "eb564beb",
   "metadata": {},
   "outputs": [],
   "source": [
    "from fastapi import FastAPI\n",
    "from pydantic import BaseModel\n",
    "import joblib"
   ]
  },
  {
   "cell_type": "code",
   "execution_count": 4,
   "id": "cbd8f0aa",
   "metadata": {},
   "outputs": [],
   "source": [
    "# define and load model\n",
    "\n",
    "\n",
    "# Define the input parameter using Pydantic BaseModel\n",
    "class PredictionInput(BaseModel):\n",
    "    input_string: str\n",
    "\n",
    "# Load the pre-trained model\n",
    "model = joblib.load(\"../models/svc_title_to_category_55.joblib\")"
   ]
  },
  {
   "cell_type": "code",
   "execution_count": 21,
   "id": "625c482b",
   "metadata": {},
   "outputs": [],
   "source": [
    "# check if model is running\n",
    "\n",
    "from sklearn.feature_extraction.text import TfidfVectorizer\n",
    "\n",
    "new_titles = ['Critiano scores a hattrick']\n",
    "new_titles_preprocessed = [preprocess_text(title) for title in new_titles]"
   ]
  },
  {
   "cell_type": "code",
   "execution_count": null,
   "id": "c20c8f17",
   "metadata": {},
   "outputs": [],
   "source": []
  }
 ],
 "metadata": {
  "kernelspec": {
   "display_name": "Python 3 (ipykernel)",
   "language": "python",
   "name": "python3"
  },
  "language_info": {
   "codemirror_mode": {
    "name": "ipython",
    "version": 3
   },
   "file_extension": ".py",
   "mimetype": "text/x-python",
   "name": "python",
   "nbconvert_exporter": "python",
   "pygments_lexer": "ipython3",
   "version": "3.10.8"
  }
 },
 "nbformat": 4,
 "nbformat_minor": 5
}

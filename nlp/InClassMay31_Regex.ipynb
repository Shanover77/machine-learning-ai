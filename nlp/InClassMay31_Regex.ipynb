{
 "cells": [
  {
   "cell_type": "markdown",
   "id": "113a44a8",
   "metadata": {},
   "source": [
    "## Use Regex"
   ]
  },
  {
   "cell_type": "markdown",
   "id": "674e690f",
   "metadata": {},
   "source": [
    "## Using custom corpus for experimentation"
   ]
  },
  {
   "cell_type": "code",
   "execution_count": 20,
   "id": "d66a2082",
   "metadata": {},
   "outputs": [
    {
     "name": "stdout",
     "output_type": "stream",
     "text": [
      "The Space exploration has always fascinated humankind. The vastness of the universe sparks curiosity and wonder. Astronauts venture into space to study celestial bodies, conduct experiments, and expand our knowledge. Satellites orbit Earth, providing valuable data for weather forecasts, communication, and navigation. Space agencies collaborate to discover new frontiers, with Mars being a prime target. The International Space Station serves as a research laboratory in microgravity. Rockets propel spacecraft into orbit, overcoming Earth's gravitational pull. Astronomers use powerful telescopes to observe distant galaxies and search for habitable planets. The beauty and mystery of space continue to captivate scientists and enthusiasts alike.\n"
     ]
    }
   ],
   "source": [
    "corpus = \"The Space exploration has always fascinated humankind. The vastness of the universe sparks curiosity and wonder. Astronauts venture into space to study celestial bodies, conduct experiments, and expand our knowledge. Satellites orbit Earth, providing valuable data for weather forecasts, communication, and navigation. Space agencies collaborate to discover new frontiers, with Mars being a prime target. The International Space Station serves as a research laboratory in microgravity. Rockets propel spacecraft into orbit, overcoming Earth's gravitational pull. Astronomers use powerful telescopes to observe distant galaxies and search for habitable planets. The beauty and mystery of space continue to captivate scientists and enthusiasts alike.\"\n",
    "print(corpus)"
   ]
  },
  {
   "cell_type": "code",
   "execution_count": 47,
   "id": "186d6b7a",
   "metadata": {},
   "outputs": [],
   "source": [
    "import re\n",
    "\n",
    "def printelli(regex, text):\n",
    "    print('Regex:',regex)\n",
    "    matches = re.findall(regex,text)\n",
    "    word_matches = re.findall(regex,text)\n",
    "    print('Found:',len(matches))\n",
    "    print('Raw matches:',matches)\n",
    "    print('Words:',word_matches)"
   ]
  },
  {
   "cell_type": "markdown",
   "id": "d65e55f2",
   "metadata": {},
   "source": [
    "## [m-q]"
   ]
  },
  {
   "cell_type": "code",
   "execution_count": 3,
   "id": "7834038d",
   "metadata": {},
   "outputs": [
    {
     "name": "stdout",
     "output_type": "stream",
     "text": [
      "Only chars: ['p', 'p', 'o', 'o', 'n', 'n', 'm', 'n', 'n', 'n', 'o', 'n', 'p', 'o', 'n', 'o', 'n', 'o', 'n', 'n', 'n', 'o', 'p', 'o', 'o', 'o', 'n', 'p', 'm', 'n', 'n', 'p', 'n', 'o', 'n', 'o', 'o', 'p', 'o', 'n', 'o', 'o', 'o', 'm', 'm', 'n', 'o', 'n', 'n', 'n', 'o', 'n', 'p', 'n', 'o', 'o', 'o', 'o', 'n', 'o', 'n', 'n', 'p', 'm', 'n', 'n', 'o', 'n', 'p', 'o', 'n', 'o', 'o', 'n', 'm', 'o', 'o', 'p', 'o', 'p', 'p', 'n', 'o', 'o', 'o', 'o', 'm', 'n', 'o', 'n', 'p', 'o', 'n', 'o', 'm', 'p', 'o', 'o', 'p', 'o', 'o', 'n', 'n', 'o', 'p', 'n', 'n', 'm', 'o', 'p', 'o', 'n', 'n', 'o', 'p', 'n', 'n', 'n']\n",
      "\n",
      " Words: ['pace', 'ploration', 'nated', 'mankind', 'ness', 'of', 'niverse', 'parks', 'osity', 'nd', 'onder', 'onauts', 'nture', 'nto', 'pace', 'odies', 'onduct', 'periments', 'nd', 'pand', 'our', 'nowledge', 'orbit', 'providing', 'or', 'orecasts', 'ommunication', 'nd', 'navigation', 'pace', 'ncies', 'ollaborate', 'over', 'new', 'ontiers', 'ng', 'prime', 'nternational', 'pace', 'on', 'oratory', 'microgravity', 'ockets', 'propel', 'pacecraft', 'nto', 'orbit', 'overcoming', 'onal', 'pull', 'onomers', 'powerful', 'opes', 'observe', 'nt', 'nd', 'or', 'planets', 'nd', 'mystery', 'of', 'pace', 'ontinue', 'ptivate', 'ntists', 'nd', 'nthusiasts']\n"
     ]
    }
   ],
   "source": [
    "# get only characters\n",
    "print('Only chars:',re.findall('[m-q]', corpus))\n",
    "\n",
    "# get words with characters starting with\n",
    "print('\\n Words:',re.findall('[m-q]\\w+', corpus))"
   ]
  },
  {
   "cell_type": "code",
   "execution_count": 4,
   "id": "d9ac9a0c",
   "metadata": {},
   "outputs": [
    {
     "name": "stdout",
     "output_type": "stream",
     "text": [
      "Only Chars: ['p', 'p', 'o', 'o', 'n', 'n', 'm', 'n', 'n', 'n', 'o', 'n', 'p', 'o', 'n', 'o', 'n', 'o', 'n', 'n', 'n', 'o', 'p', 'o', 'o', 'o', 'n', 'p', 'm', 'n', 'n', 'p', 'n', 'o', 'n', 'o', 'o', 'p', 'o', 'n', 'o', 'o', 'o', 'm', 'm', 'n', 'o', 'n', 'n', 'n', 'o', 'n', 'p', 'n', 'o', 'o', 'o', 'o', 'n', 'o', 'n', 'M', 'n', 'p', 'm', 'n', 'n', 'o', 'n', 'p', 'o', 'n', 'o', 'o', 'n', 'm', 'o', 'o', 'p', 'o', 'p', 'p', 'n', 'o', 'o', 'o', 'o', 'm', 'n', 'o', 'n', 'p', 'o', 'n', 'o', 'm', 'p', 'o', 'o', 'p', 'o', 'o', 'n', 'n', 'o', 'p', 'n', 'n', 'm', 'o', 'p', 'o', 'n', 'n', 'o', 'p', 'n', 'n', 'n']\n",
      "\n",
      "Words ['pace', 'ploration', 'nated', 'mankind', 'ness', 'of', 'niverse', 'parks', 'osity', 'nd', 'onder', 'onauts', 'nture', 'nto', 'pace', 'odies', 'onduct', 'periments', 'nd', 'pand', 'our', 'nowledge', 'orbit', 'providing', 'or', 'orecasts', 'ommunication', 'nd', 'navigation', 'pace', 'ncies', 'ollaborate', 'over', 'new', 'ontiers', 'Mars', 'ng', 'prime', 'nternational', 'pace', 'on', 'oratory', 'microgravity', 'ockets', 'propel', 'pacecraft', 'nto', 'orbit', 'overcoming', 'onal', 'pull', 'onomers', 'powerful', 'opes', 'observe', 'nt', 'nd', 'or', 'planets', 'nd', 'mystery', 'of', 'pace', 'ontinue', 'ptivate', 'ntists', 'nd', 'nthusiasts']\n"
     ]
    }
   ],
   "source": [
    "# case-insensitive\n",
    "\n",
    "print('Only Chars:',re.findall('[m-q]', corpus, re.IGNORECASE))\n",
    "\n",
    "# get words with characters starting with\n",
    "print('\\nWords',re.findall('[m-q]\\w+', corpus,re.IGNORECASE))"
   ]
  },
  {
   "cell_type": "markdown",
   "id": "ccfb522c",
   "metadata": {},
   "source": [
    "## .(dot)"
   ]
  },
  {
   "cell_type": "code",
   "execution_count": 5,
   "id": "2b290fc3",
   "metadata": {},
   "outputs": [
    {
     "name": "stdout",
     "output_type": "stream",
     "text": [
      "['cies', 'ce S']\n"
     ]
    }
   ],
   "source": [
    "print(re.findall('c..s', corpus, re.IGNORECASE)) # case-insensitive"
   ]
  },
  {
   "cell_type": "code",
   "execution_count": 6,
   "id": "4fee89bd",
   "metadata": {},
   "outputs": [
    {
     "name": "stdout",
     "output_type": "stream",
     "text": [
      "['curios', 'celes', 'casts', 'cies', 'ckets', 'copes', 'cientists']\n"
     ]
    }
   ],
   "source": [
    "# Using \\w+\n",
    "print(re.findall('c\\w+s', corpus, re.IGNORECASE)) # case-insensitive"
   ]
  },
  {
   "cell_type": "markdown",
   "id": "ee9df83c",
   "metadata": {},
   "source": [
    "## ^ (hat) _string starts with_"
   ]
  },
  {
   "cell_type": "code",
   "execution_count": 35,
   "id": "61f555ed",
   "metadata": {},
   "outputs": [
    {
     "name": "stdout",
     "output_type": "stream",
     "text": [
      "Found: 1\n",
      "Raw matches: ['Th']\n",
      "Words: ['This']\n"
     ]
    }
   ],
   "source": [
    "text = \"This is an amazing class_room, every one speaks ENGLISH 123. classy The c    s\"\n",
    "matches = re.findall('^Th',text, re.IGNORECASE)\n",
    "word_matches = re.findall('^A|^T\\w+',text)\n",
    "\n",
    "\n",
    "print('Found:',len(matches))\n",
    "print('Raw matches:',matches)\n",
    "print('Words:',word_matches)"
   ]
  },
  {
   "cell_type": "markdown",
   "id": "624077f1",
   "metadata": {},
   "source": [
    "## | _or operator_"
   ]
  },
  {
   "cell_type": "code",
   "execution_count": 36,
   "id": "c9fe0e03",
   "metadata": {},
   "outputs": [
    {
     "name": "stdout",
     "output_type": "stream",
     "text": [
      "Found: 0\n",
      "Raw matches: []\n",
      "Words: []\n"
     ]
    }
   ],
   "source": [
    "matches = re.findall('^A|^T',text)\n",
    "word_matches = re.findall('^A|^T\\w+',text)\n",
    "\n",
    "print('Found:',len(matches))\n",
    "print('Raw matches:',matches)\n",
    "print('Words:',word_matches)"
   ]
  },
  {
   "cell_type": "markdown",
   "id": "614121aa",
   "metadata": {},
   "source": [
    "## & Operator"
   ]
  },
  {
   "cell_type": "code",
   "execution_count": 38,
   "id": "4126c93e",
   "metadata": {},
   "outputs": [
    {
     "name": "stdout",
     "output_type": "stream",
     "text": [
      "Found: 0\n",
      "Raw matches: []\n",
      "Words: []\n"
     ]
    }
   ],
   "source": [
    "matches = re.findall('^A&&^T',text)\n",
    "word_matches = re.findall('^A&&^T\\w+',text)\n",
    "\n",
    "print('Found:',len(matches))\n",
    "print('Raw matches:',matches)\n",
    "print('Words:',word_matches)"
   ]
  },
  {
   "cell_type": "markdown",
   "id": "f439b991",
   "metadata": {},
   "source": [
    "## Challenge question"
   ]
  },
  {
   "cell_type": "code",
   "execution_count": 49,
   "id": "d70e777c",
   "metadata": {},
   "outputs": [
    {
     "name": "stdout",
     "output_type": "stream",
     "text": [
      "Regex: T..s\n",
      "Found: 1\n",
      "Raw matches: ['This']\n",
      "Words: ['This']\n"
     ]
    }
   ],
   "source": [
    "# Starts with capital T, two letters and ends with s\n",
    "regex = 'T..s' # not using ^, I want all the 4 letter words\n",
    "\n",
    "printelli(regex, text)"
   ]
  },
  {
   "cell_type": "markdown",
   "id": "111265ac",
   "metadata": {},
   "source": [
    "## Using [+]"
   ]
  },
  {
   "cell_type": "code",
   "execution_count": 51,
   "id": "8f985511",
   "metadata": {},
   "outputs": [
    {
     "name": "stdout",
     "output_type": "stream",
     "text": [
      "Regex: [+]\n",
      "Found: 3\n",
      "Raw matches: ['+', '+', '+']\n",
      "Words: ['+', '+', '+']\n"
     ]
    }
   ],
   "source": [
    "regex = '[+]'\n",
    "text = \"This is an amazing++ class_room, @every #one *speaks !ENGLISH |123. classy c /+ s\"\n",
    "\n",
    "printelli(regex, text)"
   ]
  },
  {
   "cell_type": "markdown",
   "id": "f2f47c4f",
   "metadata": {},
   "source": [
    "## Using ?"
   ]
  },
  {
   "cell_type": "code",
   "execution_count": 63,
   "id": "cec7a584",
   "metadata": {},
   "outputs": [
    {
     "name": "stdout",
     "output_type": "stream",
     "text": [
      "(\\d?\\d):(\\d?\\d)=> [('1', '30'), ('12', '30'), ('1', '5'), ('12', '5')]\n",
      "(\\d\\d):(\\d\\d)=> [('12', '30')]\n",
      "(\\d?\\d):(\\d\\d)=> [('1', '30'), ('12', '30')]\n",
      "(\\d\\d):(\\d?\\d)=> [('12', '30'), ('12', '5')]\n"
     ]
    }
   ],
   "source": [
    "text = \"\\nyes 1:30  no 12:30  mayb 1:5  test me 12:5\"\n",
    "\n",
    "print('(\\d?\\d):(\\d?\\d)=>', re.findall(r'(\\d?\\d):(\\d?\\d)',text))\n",
    "print('(\\d\\d):(\\d\\d)=>', re.findall(r'(\\d\\d):(\\d\\d)',text))\n",
    "print('(\\d?\\d):(\\d\\d)=>', re.findall(r'(\\d?\\d):(\\d\\d)',text))\n",
    "print('(\\d\\d):(\\d?\\d)=>', re.findall(r'(\\d\\d):(\\d?\\d)',text))"
   ]
  },
  {
   "cell_type": "markdown",
   "id": "267ae094",
   "metadata": {},
   "source": [
    "## Using backslash and +"
   ]
  },
  {
   "cell_type": "code",
   "execution_count": 91,
   "id": "22cb3056",
   "metadata": {},
   "outputs": [
    {
     "name": "stdout",
     "output_type": "stream",
     "text": [
      "Regex: \\d+\n",
      "Found: 5\n",
      "Raw matches: ['12', '890', '3434', '12', '39']\n",
      "Words: ['12', '890', '3434', '12', '39']\n",
      "\n",
      "Temperature\n",
      "Regex: \\d+\\.\\d+\n",
      "Found: 1\n",
      "Raw matches: ['12.39']\n",
      "Words: ['12.39']\n"
     ]
    }
   ],
   "source": [
    "# \\d+\n",
    "\n",
    "text = 'hello 12 hi 890. Howdy 3434 12.39C'\n",
    "\n",
    "regex = '\\d+'\n",
    "printelli(regex, text)\n",
    "\n",
    "# get the temperature\n",
    "text = 'hello 12 hi 890. Howdy 3434 12.39C'\n",
    "print('\\nTemperature')\n",
    "regex = '\\d+\\.\\d+'\n",
    "printelli(regex, text)"
   ]
  },
  {
   "cell_type": "code",
   "execution_count": 84,
   "id": "671169c5",
   "metadata": {},
   "outputs": [
    {
     "name": "stdout",
     "output_type": "stream",
     "text": [
      "abc12de23f456\n"
     ]
    }
   ],
   "source": [
    "# \\s+\n",
    "\n",
    "text = 'abc 12 de   23 f45 6'\n",
    "regex = '\\s+'\n",
    "replace = ''\n",
    "\n",
    "new = re.sub(regex, replace, text)\n",
    "print(new)"
   ]
  },
  {
   "cell_type": "markdown",
   "id": "65db36a2",
   "metadata": {},
   "source": [
    "## Advanced usage"
   ]
  },
  {
   "cell_type": "code",
   "execution_count": 110,
   "id": "41341fd1",
   "metadata": {},
   "outputs": [
    {
     "name": "stdout",
     "output_type": "stream",
     "text": [
      "@UN\n",
      "@UN_Women\n",
      "better: ['@UN', '@UN_Women']\n"
     ]
    }
   ],
   "source": [
    "# Get all words with '@' tag\n",
    "\n",
    "text = '#UNSG @ NY Society for Ethical Culture bit.ly/2gyVelr @UN @UN_Women '\n",
    "tokens = text.split()\n",
    "[print(w) for w in tokens if re.search('@[a-zA-z]+',w)]\n",
    "\n",
    "# better approach = 1-liner\n",
    "print('better:',re.findall('@\\w+',text))"
   ]
  },
  {
   "cell_type": "code",
   "execution_count": 101,
   "id": "f36da782",
   "metadata": {},
   "outputs": [
    {
     "data": {
      "text/plain": [
       "[('2', '45'), ('11', '30')]"
      ]
     },
     "execution_count": 101,
     "metadata": {},
     "output_type": "execute_result"
    }
   ],
   "source": [
    "# get times from text \n",
    "\n",
    "text = \"Monday: The doctor's appointment is at 2:45pm.Tuesday: The dentist's apoointment is at 11:30am\"\n",
    "re.findall(r'(\\d?\\d):(\\d\\d)',text)"
   ]
  },
  {
   "cell_type": "code",
   "execution_count": 104,
   "id": "4e5f568a",
   "metadata": {},
   "outputs": [
    {
     "data": {
      "text/plain": [
       "[('11', '30')]"
      ]
     },
     "execution_count": 104,
     "metadata": {},
     "output_type": "execute_result"
    }
   ],
   "source": [
    "# Challenge question\n",
    "\n",
    "text = \"Monday: The doctor's appointment is at 2:45pm.Tuesday: The dentist's apoointment is at 11:30am\"\n",
    "re.findall(r'(\\d\\d):(\\d\\d)',text)"
   ]
  },
  {
   "cell_type": "markdown",
   "id": "adc3ec34",
   "metadata": {},
   "source": [
    "Discussion: The role of '?' is to be a placeholder of a regex. So it will consider it as match that 'may or may not match'"
   ]
  },
  {
   "cell_type": "code",
   "execution_count": null,
   "id": "a5dc3e0a",
   "metadata": {},
   "outputs": [],
   "source": []
  }
 ],
 "metadata": {
  "kernelspec": {
   "display_name": "Python 3 (ipykernel)",
   "language": "python",
   "name": "python3"
  },
  "language_info": {
   "codemirror_mode": {
    "name": "ipython",
    "version": 3
   },
   "file_extension": ".py",
   "mimetype": "text/x-python",
   "name": "python",
   "nbconvert_exporter": "python",
   "pygments_lexer": "ipython3",
   "version": "3.10.8"
  }
 },
 "nbformat": 4,
 "nbformat_minor": 5
}

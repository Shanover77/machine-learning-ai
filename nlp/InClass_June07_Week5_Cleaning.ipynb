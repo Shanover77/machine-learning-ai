{
 "cells": [
  {
   "cell_type": "markdown",
   "id": "8e962d5f",
   "metadata": {},
   "source": [
    "### Week 5, NLP"
   ]
  },
  {
   "cell_type": "code",
   "execution_count": 63,
   "id": "b1a65215",
   "metadata": {},
   "outputs": [],
   "source": [
    "# Subject string\n",
    "\n",
    "str1 = \"The 5 countries include China, United States, Indonesia, India, and Brazil\"\n",
    "mainStr = str1"
   ]
  },
  {
   "cell_type": "code",
   "execution_count": 64,
   "id": "ca4e0ac1",
   "metadata": {},
   "outputs": [],
   "source": [
    "# Object method to modular method for easy usage and clarity\n",
    "\n",
    "def tolower(str):\n",
    "    return str.lower()"
   ]
  },
  {
   "cell_type": "code",
   "execution_count": 65,
   "id": "04a97293",
   "metadata": {},
   "outputs": [
    {
     "name": "stdout",
     "output_type": "stream",
     "text": [
      "the 5 countries include china, united states, indonesia, india, and brazil\n"
     ]
    }
   ],
   "source": [
    "text = tolower(str1)\n",
    "print(text)"
   ]
  },
  {
   "cell_type": "code",
   "execution_count": 66,
   "id": "83cff354",
   "metadata": {},
   "outputs": [
    {
     "name": "stdout",
     "output_type": "stream",
     "text": [
      "Len: 15  tokens\n",
      "Words: ['THE', '5', 'COUNTRIES', 'INCLUDE', 'CHINA', ',', 'UNITED', 'STATES', ',', 'INDONESIA', ',', 'INDIA', ',', 'AND', 'BRAZIL']\n"
     ]
    }
   ],
   "source": [
    "# tokenize the string\n",
    "\n",
    "from nltk.tokenize import word_tokenize as tzer # shorthand name for word_tokenize for easy access\n",
    "\n",
    "def tokenUpper(text):\n",
    "    return tzer(text.upper()) # upper casing\n",
    "\n",
    "print('Len:',len(tokenUpper(text)), ' tokens')\n",
    "print('Words:',tokenUpper(text))"
   ]
  },
  {
   "cell_type": "code",
   "execution_count": 67,
   "id": "5327db4b",
   "metadata": {},
   "outputs": [
    {
     "name": "stdout",
     "output_type": "stream",
     "text": [
      "Len: 15  tokens\n",
      "Words: The 5 Countries Include China , United States , Indonesia , India , And Brazil\n"
     ]
    }
   ],
   "source": [
    "# Capitalize\n",
    "\n",
    "def tokenCapitalize(text):\n",
    "    words = []\n",
    "    for i in tzer(text):\n",
    "        words.append(i.capitalize()) #capitalizing\n",
    "    return words\n",
    "\n",
    "print('Len:',len(tokenCapitalize(text)), ' tokens')\n",
    "print('Words:',' '.join(tokenCapitalize(text)))"
   ]
  },
  {
   "cell_type": "markdown",
   "id": "b32c4253",
   "metadata": {},
   "source": [
    "  \n",
    "  ## Remove clutter (numbers, punctuations, etc..)"
   ]
  },
  {
   "cell_type": "code",
   "execution_count": 34,
   "id": "c1668887",
   "metadata": {},
   "outputs": [],
   "source": [
    "import re"
   ]
  },
  {
   "cell_type": "code",
   "execution_count": 59,
   "id": "d3e0a711",
   "metadata": {},
   "outputs": [],
   "source": [
    "text = 'Box A as 4 red and 6 white balls, while Box B has 3 red and 5 blue balls.'"
   ]
  },
  {
   "cell_type": "code",
   "execution_count": 60,
   "id": "19410e2d",
   "metadata": {},
   "outputs": [],
   "source": [
    "def removeNums(text):\n",
    "    return re.sub(r'\\d+',' ', text)"
   ]
  },
  {
   "cell_type": "code",
   "execution_count": 61,
   "id": "63f75ab9",
   "metadata": {},
   "outputs": [
    {
     "name": "stdout",
     "output_type": "stream",
     "text": [
      "Box A as   red and   white balls, while Box B has   red and   blue balls.\n"
     ]
    }
   ],
   "source": [
    "cleanedStr = removeNums(text)\n",
    "print(cleanedStr)"
   ]
  },
  {
   "cell_type": "markdown",
   "id": "60525988",
   "metadata": {},
   "source": [
    "### Punctuation removal"
   ]
  },
  {
   "cell_type": "code",
   "execution_count": 117,
   "id": "fe25bc10",
   "metadata": {},
   "outputs": [],
   "source": [
    "import string\n",
    "text = 'You, {]$%are amazing students:at@@! at @lambton college ! ; '"
   ]
  },
  {
   "cell_type": "code",
   "execution_count": 118,
   "id": "4c70621c",
   "metadata": {},
   "outputs": [
    {
     "name": "stdout",
     "output_type": "stream",
     "text": [
      "Messy: You, {]$%are amazing students:at@@! at @lambton college ! ; \n",
      "Cleaned: You are amazing studentsat at lambton college   \n"
     ]
    }
   ],
   "source": [
    "test_str = text.translate(str.maketrans('','', string.punctuation))\n",
    "\n",
    "print('Messy:', text)\n",
    "print('Cleaned:',test_str)"
   ]
  },
  {
   "cell_type": "code",
   "execution_count": 119,
   "id": "2788a2f4",
   "metadata": {},
   "outputs": [
    {
     "name": "stdout",
     "output_type": "stream",
     "text": [
      "Messy: You, 12{]$%are amazing 12 students:at@@! at @lambton 5 college ! ; \n",
      "Cleaned: You  are amazing   studentsat at lambton   college   \n"
     ]
    }
   ],
   "source": [
    "# Challenge: Remove numbers and puncs using re.sub\n",
    "\n",
    "def cleanText(text):\n",
    "    return re.sub(r'\\d+',' ', text).translate(str.maketrans('','', string.punctuation))\n",
    "\n",
    "messyString = 'You, 12{]$%are amazing 12 students:at@@! at @lambton 5 college ! ; '\n",
    "\n",
    "print('Messy:',messyString)\n",
    "print('Cleaned:',cleanText(messyString))\n"
   ]
  },
  {
   "cell_type": "code",
   "execution_count": 120,
   "id": "8f60af06",
   "metadata": {},
   "outputs": [
    {
     "name": "stdout",
     "output_type": "stream",
     "text": [
      "Messy: You, 12{]$%are amazing 12 students:at@@! at @lambton 5 college ! ; \n",
      "Cleaned: You are amazing students at at lambton college\n"
     ]
    }
   ],
   "source": [
    "# Challenge: Remove numbers and puncs using re.sub\n",
    "# Approach with single regex\n",
    "\n",
    "def cleanText(text):\n",
    "    return ' '.join(re.findall(r'[A-Za-z]\\w+', text)) # only accepts letters (A-Z)\n",
    "\n",
    "messyString = 'You, 12{]$%are amazing 12 students:at@@! at @lambton 5 college ! ; '\n",
    "\n",
    "print('Messy:',messyString)\n",
    "print('Cleaned:',cleanText(messyString))\n"
   ]
  },
  {
   "cell_type": "markdown",
   "id": "952c3ee0",
   "metadata": {},
   "source": [
    "### Whitespace removal"
   ]
  },
  {
   "cell_type": "code",
   "execution_count": 121,
   "id": "a805be9a",
   "metadata": {},
   "outputs": [
    {
     "name": "stdout",
     "output_type": "stream",
     "text": [
      "Terminal \\t: \t a sample string \t\n",
      "Terminal double-space:   a sample string  \n",
      "Inline \\t:   a sample \t string  \n",
      "Terminal \\t: a sample string\n",
      "Terminal double-space: a sample string\n",
      "Inline \\t (without regex): a sample \t string\n",
      "Inline \\t (with regex): a sample string\n"
     ]
    }
   ],
   "source": [
    "text = '\\t a sample string \\t'\n",
    "text2 = '  a sample string  '\n",
    "text3 = '  a sample \\t string  '\n",
    "\n",
    "print('Terminal \\\\t:',text)\n",
    "print('Terminal double-space:',text2)\n",
    "print('Inline \\\\t:',text3)\n",
    "print('Terminal \\\\t:',text.strip())\n",
    "print('Terminal double-space:',text2.strip())\n",
    "print('Inline \\\\t (without regex):',text3.strip()) # inline whitespace is never detected by strip()\n",
    "\n",
    "print('Inline \\\\t (with regex):', re.sub('\\s+',' ',text3).strip()) # will remove inline, terminal whitespaces"
   ]
  },
  {
   "cell_type": "markdown",
   "id": "f3a05dcd",
   "metadata": {},
   "source": [
    "### Complete clean method"
   ]
  },
  {
   "cell_type": "code",
   "execution_count": 122,
   "id": "eb89a2ef",
   "metadata": {},
   "outputs": [],
   "source": [
    "def cleanTextCompletely(text):\n",
    "    return ' '.join(re.findall(r'[A-Za-z]\\w+', re.sub('\\s+',' ',text).strip()))"
   ]
  },
  {
   "cell_type": "code",
   "execution_count": 123,
   "id": "2a387bbe",
   "metadata": {},
   "outputs": [
    {
     "name": "stdout",
     "output_type": "stream",
     "text": [
      "Messy: You, \t12{]$%are amazing 12 students:at@@! at @lambton 5 college ! ;   \n",
      "Cleaned completely: You are amazing students at at lambton college\n"
     ]
    }
   ],
   "source": [
    "messyStringWithSpaces = 'You, \\t12{]$%are amazing 12 students:at@@! at @lambton 5 college ! ;   '\n",
    "\n",
    "print('Messy:',messyStringWithSpaces)\n",
    "print('Cleaned completely:', cleanTextCompletely(messyStringWithSpaces))"
   ]
  },
  {
   "cell_type": "code",
   "execution_count": null,
   "id": "b8d8e870",
   "metadata": {},
   "outputs": [],
   "source": []
  }
 ],
 "metadata": {
  "kernelspec": {
   "display_name": "Python 3 (ipykernel)",
   "language": "python",
   "name": "python3"
  },
  "language_info": {
   "codemirror_mode": {
    "name": "ipython",
    "version": 3
   },
   "file_extension": ".py",
   "mimetype": "text/x-python",
   "name": "python",
   "nbconvert_exporter": "python",
   "pygments_lexer": "ipython3",
   "version": "3.10.8"
  }
 },
 "nbformat": 4,
 "nbformat_minor": 5
}

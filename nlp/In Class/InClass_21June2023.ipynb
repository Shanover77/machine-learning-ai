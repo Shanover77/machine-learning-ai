{
 "cells": [
  {
   "cell_type": "markdown",
   "id": "b1bd4fb3",
   "metadata": {},
   "source": [
    "## Wordnet\n",
    "\n",
    "21 June 2023\n",
    "\n",
    "**Topics:**  \n",
    "#nlp #wordnet #spellings #nltk #regex #wordlength #autocorrect"
   ]
  },
  {
   "cell_type": "code",
   "execution_count": 1,
   "id": "155b889c",
   "metadata": {},
   "outputs": [],
   "source": [
    "# imports\n",
    "\n",
    "from nltk.corpus import wordnet"
   ]
  },
  {
   "cell_type": "code",
   "execution_count": 24,
   "id": "ba9b74a7",
   "metadata": {},
   "outputs": [
    {
     "name": "stdout",
     "output_type": "stream",
     "text": [
      "Syns for sprint: [Synset('spring.n.01'), Synset('spring.n.02'), Synset('spring.n.03'), Synset('spring.n.04'), Synset('give.n.01'), Synset('leap.n.01'), Synset('jump.v.01'), Synset('form.v.03'), Synset('bounce.v.01'), Synset('spring.v.04'), Synset('spring.v.05')]\n"
     ]
    }
   ],
   "source": [
    "syns = wordnet.synsets('spring')\n",
    "print('Syns for sprint:', syns)"
   ]
  },
  {
   "cell_type": "code",
   "execution_count": 30,
   "id": "288ff30f",
   "metadata": {},
   "outputs": [
    {
     "name": "stdout",
     "output_type": "stream",
     "text": [
      "spring.n.01\n"
     ]
    }
   ],
   "source": [
    "# name of synset\n",
    "\n",
    "print(syns[0].name())"
   ]
  },
  {
   "cell_type": "code",
   "execution_count": 26,
   "id": "48aa0fbb",
   "metadata": {},
   "outputs": [
    {
     "name": "stdout",
     "output_type": "stream",
     "text": [
      "spring\n"
     ]
    }
   ],
   "source": [
    "# just the word\n",
    "\n",
    "print(syns[0].lemmas()[0].name())"
   ]
  },
  {
   "cell_type": "code",
   "execution_count": 31,
   "id": "23bb1dea",
   "metadata": {},
   "outputs": [
    {
     "name": "stdout",
     "output_type": "stream",
     "text": [
      "Definition of syn `** spring **` is : the season of growth\n"
     ]
    }
   ],
   "source": [
    "# definition of the word\n",
    "\n",
    "print('Definition of syn `**',syns[0].lemmas()[0].name(),'**` is :',syns[0].definition())"
   ]
  },
  {
   "cell_type": "code",
   "execution_count": 40,
   "id": "7f6d628f",
   "metadata": {},
   "outputs": [
    {
     "name": "stdout",
     "output_type": "stream",
     "text": [
      "Definition of syn \" spring \" is : ['the emerging buds were a sure sign of spring', 'he will hold office until the spring of next year']\n"
     ]
    }
   ],
   "source": [
    "# examples of the word\n",
    "\n",
    "print('Definition of syn \\\"',syns[0].lemmas()[0].name(),'\\\" is :',syns[0].examples())"
   ]
  },
  {
   "cell_type": "markdown",
   "id": "7fbc8935",
   "metadata": {},
   "source": [
    "### Similarity between words using WordNet"
   ]
  },
  {
   "cell_type": "code",
   "execution_count": 39,
   "id": "e1d02a4d",
   "metadata": {},
   "outputs": [
    {
     "name": "stdout",
     "output_type": "stream",
     "text": [
      "90.9090909090909 %\n"
     ]
    }
   ],
   "source": [
    "w1 = wordnet.synset('ship.n.01') # using a synset, and pack details\n",
    "w2 = wordnet.synset('boat.n.01')\n",
    "\n",
    "print(w1.wup_similarity(w2)*100,'%')"
   ]
  },
  {
   "cell_type": "markdown",
   "id": "1aa6f19f",
   "metadata": {},
   "source": [
    "## re.compile()\n",
    "\n",
    "*Context:* The re.compile() function is used to compile a regular expression pattern into a pattern object, which can then be used for various operations such as searching, matching, and replacing strings based on the specified pattern."
   ]
  },
  {
   "cell_type": "code",
   "execution_count": 51,
   "id": "a5ef0090",
   "metadata": {},
   "outputs": [
    {
     "name": "stdout",
     "output_type": "stream",
     "text": [
      "<class 're.Pattern'>\n"
     ]
    }
   ],
   "source": [
    "import re\n",
    "\n",
    "str1 = \"Emma's luck 4 numbers are 251 761 231 451\"\n",
    "\n",
    "# pattern as string\n",
    "str_pattern = r\"\\d{3}\" # get digits with length 3\n",
    "\n",
    "# re.compile() to get a regex.Pattern object\n",
    "reg_pattern = re.compile(str_pattern)\n",
    "\n",
    "print(type(reg_pattern))"
   ]
  },
  {
   "cell_type": "code",
   "execution_count": 52,
   "id": "11c24467",
   "metadata": {},
   "outputs": [
    {
     "name": "stdout",
     "output_type": "stream",
     "text": [
      "Results from reg_pattern(str1): ['251', '761', '231', '451']\n"
     ]
    }
   ],
   "source": [
    "# apply the regex pattern object\n",
    "\n",
    "result = reg_pattern.findall(str1)\n",
    "print('Results from reg_pattern(str1):', result)"
   ]
  },
  {
   "cell_type": "code",
   "execution_count": 53,
   "id": "aca5de55",
   "metadata": {},
   "outputs": [
    {
     "name": "stdout",
     "output_type": "stream",
     "text": [
      "Results from reg_pattern(str2****): ['111', '212', '415', '121']\n"
     ]
    }
   ],
   "source": [
    "# Another string\n",
    "str2 = \"Kelly's 33 luck numbers are 111 212 415 12124\"\n",
    "\n",
    "result = reg_pattern.findall(str2)\n",
    "print('Results from reg_pattern(str2****):', result)"
   ]
  },
  {
   "cell_type": "markdown",
   "id": "95e81267",
   "metadata": {},
   "source": [
    "## Fixing Word Lengthening \n",
    "\n",
    "_We will use regex for this_\n",
    "\n",
    "Tip: No english word have any word with a letter repeating more than twice. i.e. wood, speed, letter"
   ]
  },
  {
   "cell_type": "code",
   "execution_count": 55,
   "id": "e8831e59",
   "metadata": {},
   "outputs": [],
   "source": [
    "# import re\n",
    "\n",
    "# a functino to fix the lengthening of a string\n",
    "def fix_lengthening(string):\n",
    "    ptr  = re.compile(r\"(.)\\1{2,}\")\n",
    "    return ptr.sub(r\"\\1\\1\", string)"
   ]
  },
  {
   "cell_type": "code",
   "execution_count": 65,
   "id": "8a2625ec",
   "metadata": {},
   "outputs": [
    {
     "name": "stdout",
     "output_type": "stream",
     "text": [
      "brook\n"
     ]
    }
   ],
   "source": [
    "# 💀🎩 - taking example of 'Brook' a character's name from one-piece\n",
    "\n",
    "print(fix_lengthening('brooook'))"
   ]
  },
  {
   "cell_type": "code",
   "execution_count": 62,
   "id": "713f0028",
   "metadata": {},
   "outputs": [
    {
     "name": "stdout",
     "output_type": "stream",
     "text": [
      "brookk\n"
     ]
    }
   ],
   "source": [
    "# checking with two letters repetions instead of one\n",
    "\n",
    "print(fix_lengthening('brooookkkkkkk')) # works fine"
   ]
  },
  {
   "cell_type": "markdown",
   "id": "df75d421",
   "metadata": {},
   "source": [
    "### 📝 Spell Correction\n",
    "\n",
    "We will use library : *autocorrect*  \n",
    "\n",
    "**!pip install autocorrect**"
   ]
  },
  {
   "cell_type": "code",
   "execution_count": 68,
   "id": "a0f8c335",
   "metadata": {},
   "outputs": [
    {
     "name": "stdout",
     "output_type": "stream",
     "text": [
      "<class 'autocorrect.Speller'>\n"
     ]
    }
   ],
   "source": [
    "from autocorrect import Speller\n",
    "\n",
    "spell = Speller(lang = 'en') # initiate a speller object\n",
    "print(type(spell))"
   ]
  },
  {
   "cell_type": "markdown",
   "id": "ea105764",
   "metadata": {},
   "source": [
    "**Spell check on different words**"
   ]
  },
  {
   "cell_type": "code",
   "execution_count": 69,
   "id": "c8872f76",
   "metadata": {},
   "outputs": [
    {
     "name": "stdout",
     "output_type": "stream",
     "text": [
      "message\n"
     ]
    }
   ],
   "source": [
    "print(spell('mussage'))"
   ]
  },
  {
   "cell_type": "code",
   "execution_count": 70,
   "id": "5edc6884",
   "metadata": {},
   "outputs": [
    {
     "name": "stdout",
     "output_type": "stream",
     "text": [
      "service\n"
     ]
    }
   ],
   "source": [
    "print(spell('survice'))"
   ]
  },
  {
   "cell_type": "code",
   "execution_count": 71,
   "id": "60f78fdb",
   "metadata": {},
   "outputs": [
    {
     "name": "stdout",
     "output_type": "stream",
     "text": [
      "the\n"
     ]
    }
   ],
   "source": [
    "print(spell('hte'))"
   ]
  },
  {
   "cell_type": "code",
   "execution_count": 81,
   "id": "0d1c8f93",
   "metadata": {},
   "outputs": [
    {
     "name": "stdout",
     "output_type": "stream",
     "text": [
      "aaaaaa\n"
     ]
    }
   ],
   "source": [
    "print(spell('caaaaaar')) # does not give a proper result when there is letter-repetion in string, \n",
    "# word_lengthening is required here"
   ]
  },
  {
   "cell_type": "markdown",
   "id": "f952f9b5",
   "metadata": {},
   "source": [
    "### Spell Checker (pattern.en)\n",
    "\n",
    "**!pip install pattern**"
   ]
  },
  {
   "cell_type": "code",
   "execution_count": 85,
   "id": "d637b072",
   "metadata": {},
   "outputs": [],
   "source": [
    "from pattern.en import suggest"
   ]
  },
  {
   "cell_type": "code",
   "execution_count": 86,
   "id": "e5af11ac",
   "metadata": {},
   "outputs": [
    {
     "name": "stdout",
     "output_type": "stream",
     "text": [
      "[('message', 0.6216216216216216), ('massage', 0.3783783783783784)]\n"
     ]
    }
   ],
   "source": [
    "print(suggest('mussage'))"
   ]
  },
  {
   "cell_type": "code",
   "execution_count": 87,
   "id": "83eb4585",
   "metadata": {},
   "outputs": [
    {
     "name": "stdout",
     "output_type": "stream",
     "text": [
      "[('service', 0.9253112033195021), ('survive', 0.07468879668049792)]\n"
     ]
    }
   ],
   "source": [
    "print(suggest('survice'))"
   ]
  },
  {
   "cell_type": "code",
   "execution_count": 88,
   "id": "d1e7d35c",
   "metadata": {},
   "outputs": [
    {
     "name": "stdout",
     "output_type": "stream",
     "text": [
      "[('the', 0.8653201565642368), ('he', 0.13408515883485067), ('ate', 0.00022706139307570876), ('hate', 0.0002162489457863893), ('hue', 0.00012974936747183358), ('te', 1.0812447289319465e-05), ('htm', 1.0812447289319465e-05)]\n"
     ]
    }
   ],
   "source": [
    "print(suggest('hte'))"
   ]
  },
  {
   "cell_type": "code",
   "execution_count": 90,
   "id": "750d3143",
   "metadata": {},
   "outputs": [
    {
     "name": "stdout",
     "output_type": "stream",
     "text": [
      "[('caesar', 0.6666666666666666), ('bazaar', 0.3333333333333333)]\n"
     ]
    }
   ],
   "source": [
    "print(suggest('caaaar'))"
   ]
  },
  {
   "cell_type": "markdown",
   "id": "23001b3b",
   "metadata": {},
   "source": [
    "**Side note:**  \n",
    "\n",
    "The suggest function in pattern.en utilizes a statistical approach to generate spelling suggestions based on known words and their frequencies in a given corpus. It considers various factors, such as edit distance (the number of character changes required to convert one word into another) and word frequency, to determine possible correct spellings for a misspelled word.  \n",
    "_Source: Internet_  \n",
    "_Purpose: To learn the underlying concepts and understand as to why some words has more weight/scores than the others_"
   ]
  },
  {
   "cell_type": "code",
   "execution_count": null,
   "id": "4e6c7166",
   "metadata": {},
   "outputs": [],
   "source": []
  }
 ],
 "metadata": {
  "kernelspec": {
   "display_name": "Python 3 (ipykernel)",
   "language": "python",
   "name": "python3"
  },
  "language_info": {
   "codemirror_mode": {
    "name": "ipython",
    "version": 3
   },
   "file_extension": ".py",
   "mimetype": "text/x-python",
   "name": "python",
   "nbconvert_exporter": "python",
   "pygments_lexer": "ipython3",
   "version": "3.10.8"
  }
 },
 "nbformat": 4,
 "nbformat_minor": 5
}

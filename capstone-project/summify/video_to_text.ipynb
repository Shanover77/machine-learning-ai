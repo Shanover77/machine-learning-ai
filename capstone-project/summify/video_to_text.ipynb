{
 "cells": [
  {
   "cell_type": "markdown",
   "id": "0315439f",
   "metadata": {
    "id": "0315439f"
   },
   "source": [
    "#### pytube test"
   ]
  },
  {
   "cell_type": "code",
   "execution_count": 1,
   "id": "DAz9Mp6HGdYZ",
   "metadata": {
    "colab": {
     "base_uri": "https://localhost:8080/"
    },
    "id": "DAz9Mp6HGdYZ",
    "outputId": "c20f571b-340d-4911-8044-1cb25222c777"
   },
   "outputs": [
    {
     "name": "stdout",
     "output_type": "stream",
     "text": [
      "Collecting pytube\n",
      "  Downloading pytube-15.0.0-py3-none-any.whl (57 kB)\n",
      "     ---------------------------------------- 57.6/57.6 kB 3.0 MB/s eta 0:00:00\n",
      "Installing collected packages: pytube\n",
      "Successfully installed pytube-15.0.0\n"
     ]
    },
    {
     "name": "stderr",
     "output_type": "stream",
     "text": [
      "\n",
      "[notice] A new release of pip is available: 23.0.1 -> 23.1.2\n",
      "[notice] To update, run: python.exe -m pip install --upgrade pip\n"
     ]
    }
   ],
   "source": [
    "!pip install pytube"
   ]
  },
  {
   "cell_type": "code",
   "execution_count": 2,
   "id": "569f3945",
   "metadata": {
    "colab": {
     "base_uri": "https://localhost:8080/"
    },
    "id": "569f3945",
    "outputId": "1956f3bb-579d-4053-d06c-a5bf6c1e2cbf"
   },
   "outputs": [
    {
     "name": "stdout",
     "output_type": "stream",
     "text": [
      "K:\\ai-notebooks\\lambton\\capstone-project\\summify\\Write an Incredible Resume 5 Golden Rules!.mp4\n",
      "Jeff Su\n"
     ]
    }
   ],
   "source": [
    "from pytube import YouTube\n",
    "\n",
    "url = \"https://www.youtube.com/watch?v=Tt08KmFfIYQ\"\n",
    "\n",
    "yt = YouTube(url)\n",
    "video = yt.streams.filter(progressive=True, file_extension='mp4').order_by('resolution').desc().first().download()\n",
    "print(video) #prints video location. #default location is the place where project is running.\n",
    "print(yt.author)"
   ]
  },
  {
   "cell_type": "code",
   "execution_count": 4,
   "id": "bd269e50",
   "metadata": {},
   "outputs": [
    {
     "name": "stdout",
     "output_type": "stream",
     "text": [
      "Collecting moviepy\n",
      "  Downloading moviepy-1.0.3.tar.gz (388 kB)\n",
      "     -------------------------------------- 388.3/388.3 kB 3.4 MB/s eta 0:00:00\n",
      "  Preparing metadata (setup.py): started\n",
      "  Preparing metadata (setup.py): finished with status 'done'\n",
      "Collecting decorator<5.0,>=4.0.2\n",
      "  Downloading decorator-4.4.2-py2.py3-none-any.whl (9.2 kB)\n",
      "Requirement already satisfied: tqdm<5.0,>=4.11.2 in c:\\users\\shanover\\appdata\\local\\programs\\python\\python310\\lib\\site-packages (from moviepy) (4.65.0)\n",
      "Requirement already satisfied: requests<3.0,>=2.8.1 in c:\\users\\shanover\\appdata\\local\\programs\\python\\python310\\lib\\site-packages (from moviepy) (2.28.2)\n",
      "Collecting proglog<=1.0.0\n",
      "  Downloading proglog-0.1.10-py3-none-any.whl (6.1 kB)\n",
      "Requirement already satisfied: numpy>=1.17.3 in c:\\users\\shanover\\appdata\\local\\programs\\python\\python310\\lib\\site-packages (from moviepy) (1.23.5)\n",
      "Collecting imageio<3.0,>=2.5\n",
      "  Downloading imageio-2.31.0-py3-none-any.whl (313 kB)\n",
      "     -------------------------------------- 313.2/313.2 kB 3.9 MB/s eta 0:00:00\n",
      "Collecting imageio_ffmpeg>=0.2.0\n",
      "  Downloading imageio_ffmpeg-0.4.8-py3-none-win_amd64.whl (22.6 MB)\n",
      "     ---------------------------------------- 22.6/22.6 MB 8.3 MB/s eta 0:00:00\n",
      "Requirement already satisfied: pillow>=8.3.2 in c:\\users\\shanover\\appdata\\local\\programs\\python\\python310\\lib\\site-packages (from imageio<3.0,>=2.5->moviepy) (9.4.0)\n",
      "Requirement already satisfied: urllib3<1.27,>=1.21.1 in c:\\users\\shanover\\appdata\\local\\programs\\python\\python310\\lib\\site-packages (from requests<3.0,>=2.8.1->moviepy) (1.26.15)\n",
      "Requirement already satisfied: certifi>=2017.4.17 in c:\\users\\shanover\\appdata\\local\\programs\\python\\python310\\lib\\site-packages (from requests<3.0,>=2.8.1->moviepy) (2022.12.7)\n",
      "Requirement already satisfied: charset-normalizer<4,>=2 in c:\\users\\shanover\\appdata\\local\\programs\\python\\python310\\lib\\site-packages (from requests<3.0,>=2.8.1->moviepy) (3.1.0)\n",
      "Requirement already satisfied: idna<4,>=2.5 in c:\\users\\shanover\\appdata\\local\\programs\\python\\python310\\lib\\site-packages (from requests<3.0,>=2.8.1->moviepy) (3.4)\n",
      "Requirement already satisfied: colorama in c:\\users\\shanover\\appdata\\local\\programs\\python\\python310\\lib\\site-packages (from tqdm<5.0,>=4.11.2->moviepy) (0.4.6)\n",
      "Building wheels for collected packages: moviepy\n",
      "  Building wheel for moviepy (setup.py): started\n",
      "  Building wheel for moviepy (setup.py): finished with status 'done'\n",
      "  Created wheel for moviepy: filename=moviepy-1.0.3-py3-none-any.whl size=110773 sha256=ca3fed30669cfdb302e8e81412a649abf4ecf40dcbd9eed67645d5a0feb17a48\n",
      "  Stored in directory: c:\\users\\shanover\\appdata\\local\\pip\\cache\\wheels\\96\\32\\2d\\e10123bd88fbfc02fed53cc18c80a171d3c87479ed845fa7c1\n",
      "Successfully built moviepy\n",
      "Installing collected packages: imageio_ffmpeg, imageio, decorator, proglog, moviepy\n",
      "  Attempting uninstall: decorator\n",
      "    Found existing installation: decorator 5.1.1\n",
      "    Uninstalling decorator-5.1.1:\n",
      "      Successfully uninstalled decorator-5.1.1\n",
      "Successfully installed decorator-4.4.2 imageio-2.31.0 imageio_ffmpeg-0.4.8 moviepy-1.0.3 proglog-0.1.10\n"
     ]
    },
    {
     "name": "stderr",
     "output_type": "stream",
     "text": [
      "\n",
      "[notice] A new release of pip is available: 23.0.1 -> 23.1.2\n",
      "[notice] To update, run: python.exe -m pip install --upgrade pip\n"
     ]
    }
   ],
   "source": [
    "!pip install moviepy"
   ]
  },
  {
   "cell_type": "code",
   "execution_count": 6,
   "id": "ed8c817b",
   "metadata": {
    "colab": {
     "base_uri": "https://localhost:8080/"
    },
    "id": "ed8c817b",
    "outputId": "e355c0b5-30f0-4602-e06e-eb88df1276cf"
   },
   "outputs": [
    {
     "name": "stdout",
     "output_type": "stream",
     "text": [
      "MoviePy - Writing audio in resume_output_audio.wav\n"
     ]
    },
    {
     "name": "stderr",
     "output_type": "stream",
     "text": [
      "                                                                                                                       "
     ]
    },
    {
     "name": "stdout",
     "output_type": "stream",
     "text": [
      "MoviePy - Done.\n"
     ]
    },
    {
     "name": "stderr",
     "output_type": "stream",
     "text": [
      "\r"
     ]
    }
   ],
   "source": [
    "from moviepy.editor import VideoFileClip\n",
    "\n",
    "inputvideofile = \"resume_input_video.mp4\"\n",
    "outputaudiofile = \"resume_output_audio.wav\"\n",
    "\n",
    "videoclip = VideoFileClip(inputvideofile)\n",
    "\n",
    "audioclip = videoclip.audio\n",
    "\n",
    "audioclip.write_audiofile(outputaudiofile, codec='pcm_s16le', ffmpeg_params=['-ar', '16000'])"
   ]
  },
  {
   "cell_type": "markdown",
   "id": "eb384a5e",
   "metadata": {
    "id": "eb384a5e"
   },
   "source": [
    "### Whisper OpenAI Model"
   ]
  },
  {
   "cell_type": "code",
   "execution_count": 8,
   "id": "1b20e413",
   "metadata": {
    "colab": {
     "base_uri": "https://localhost:8080/"
    },
    "id": "1b20e413",
    "outputId": "d037f9f9-8e67-46d4-8c4d-f6aa06242e97"
   },
   "outputs": [
    {
     "name": "stdout",
     "output_type": "stream",
     "text": [
      "Requirement already satisfied: openai-whisper in c:\\users\\shanover\\appdata\\local\\programs\\python\\python310\\lib\\site-packages (20230314)\n",
      "Requirement already satisfied: torch in c:\\users\\shanover\\appdata\\local\\programs\\python\\python310\\lib\\site-packages (from openai-whisper) (2.0.1)\n",
      "Requirement already satisfied: numpy in c:\\users\\shanover\\appdata\\local\\programs\\python\\python310\\lib\\site-packages (from openai-whisper) (1.23.5)\n",
      "Requirement already satisfied: numba in c:\\users\\shanover\\appdata\\local\\programs\\python\\python310\\lib\\site-packages (from openai-whisper) (0.57.0)\n",
      "Requirement already satisfied: more-itertools in c:\\users\\shanover\\appdata\\local\\programs\\python\\python310\\lib\\site-packages (from openai-whisper) (9.1.0)\n",
      "Requirement already satisfied: ffmpeg-python==0.2.0 in c:\\users\\shanover\\appdata\\local\\programs\\python\\python310\\lib\\site-packages (from openai-whisper) (0.2.0)\n",
      "Requirement already satisfied: tqdm in c:\\users\\shanover\\appdata\\local\\programs\\python\\python310\\lib\\site-packages (from openai-whisper) (4.65.0)\n",
      "Requirement already satisfied: tiktoken==0.3.1 in c:\\users\\shanover\\appdata\\local\\programs\\python\\python310\\lib\\site-packages (from openai-whisper) (0.3.1)\n",
      "Requirement already satisfied: future in c:\\users\\shanover\\appdata\\local\\programs\\python\\python310\\lib\\site-packages (from ffmpeg-python==0.2.0->openai-whisper) (0.18.3)\n",
      "Requirement already satisfied: regex>=2022.1.18 in c:\\users\\shanover\\appdata\\local\\programs\\python\\python310\\lib\\site-packages (from tiktoken==0.3.1->openai-whisper) (2023.5.5)\n",
      "Requirement already satisfied: requests>=2.26.0 in c:\\users\\shanover\\appdata\\local\\programs\\python\\python310\\lib\\site-packages (from tiktoken==0.3.1->openai-whisper) (2.28.2)\n",
      "Requirement already satisfied: llvmlite<0.41,>=0.40.0dev0 in c:\\users\\shanover\\appdata\\local\\programs\\python\\python310\\lib\\site-packages (from numba->openai-whisper) (0.40.0)\n",
      "Requirement already satisfied: sympy in c:\\users\\shanover\\appdata\\local\\programs\\python\\python310\\lib\\site-packages (from torch->openai-whisper) (1.12)\n",
      "Requirement already satisfied: filelock in c:\\users\\shanover\\appdata\\local\\programs\\python\\python310\\lib\\site-packages (from torch->openai-whisper) (3.12.0)\n",
      "Requirement already satisfied: jinja2 in c:\\users\\shanover\\appdata\\local\\programs\\python\\python310\\lib\\site-packages (from torch->openai-whisper) (3.1.2)\n",
      "Requirement already satisfied: typing-extensions in c:\\users\\shanover\\appdata\\local\\programs\\python\\python310\\lib\\site-packages (from torch->openai-whisper) (4.5.0)\n",
      "Requirement already satisfied: networkx in c:\\users\\shanover\\appdata\\local\\programs\\python\\python310\\lib\\site-packages (from torch->openai-whisper) (3.1)\n",
      "Requirement already satisfied: colorama in c:\\users\\shanover\\appdata\\local\\programs\\python\\python310\\lib\\site-packages (from tqdm->openai-whisper) (0.4.6)\n",
      "Requirement already satisfied: urllib3<1.27,>=1.21.1 in c:\\users\\shanover\\appdata\\local\\programs\\python\\python310\\lib\\site-packages (from requests>=2.26.0->tiktoken==0.3.1->openai-whisper) (1.26.15)\n",
      "Requirement already satisfied: certifi>=2017.4.17 in c:\\users\\shanover\\appdata\\local\\programs\\python\\python310\\lib\\site-packages (from requests>=2.26.0->tiktoken==0.3.1->openai-whisper) (2022.12.7)\n",
      "Requirement already satisfied: charset-normalizer<4,>=2 in c:\\users\\shanover\\appdata\\local\\programs\\python\\python310\\lib\\site-packages (from requests>=2.26.0->tiktoken==0.3.1->openai-whisper) (3.1.0)\n",
      "Requirement already satisfied: idna<4,>=2.5 in c:\\users\\shanover\\appdata\\local\\programs\\python\\python310\\lib\\site-packages (from requests>=2.26.0->tiktoken==0.3.1->openai-whisper) (3.4)\n",
      "Requirement already satisfied: MarkupSafe>=2.0 in c:\\users\\shanover\\appdata\\local\\programs\\python\\python310\\lib\\site-packages (from jinja2->torch->openai-whisper) (2.1.1)\n",
      "Requirement already satisfied: mpmath>=0.19 in c:\\users\\shanover\\appdata\\local\\programs\\python\\python310\\lib\\site-packages (from sympy->torch->openai-whisper) (1.3.0)\n"
     ]
    },
    {
     "name": "stderr",
     "output_type": "stream",
     "text": [
      "\n",
      "[notice] A new release of pip is available: 23.0.1 -> 23.1.2\n",
      "[notice] To update, run: python.exe -m pip install --upgrade pip\n"
     ]
    }
   ],
   "source": [
    "!pip install -U openai-whisper"
   ]
  },
  {
   "cell_type": "code",
   "execution_count": 13,
   "id": "L8Bn5ilMO8PW",
   "metadata": {
    "colab": {
     "base_uri": "https://localhost:8080/"
    },
    "id": "L8Bn5ilMO8PW",
    "outputId": "8872ffa7-67ed-4004-e496-1c041cc6c596"
   },
   "outputs": [
    {
     "name": "stdout",
     "output_type": "stream",
     "text": [
      "Get:1 http://security.ubuntu.com/ubuntu focal-security InRelease [114 kB]\n",
      "Hit:2 https://developer.download.nvidia.com/compute/cuda/repos/ubuntu2004/x86_64  InRelease\n",
      "Hit:3 http://ppa.launchpad.net/c2d4u.team/c2d4u4.0+/ubuntu focal InRelease\n",
      "Get:4 https://cloud.r-project.org/bin/linux/ubuntu focal-cran40/ InRelease [3,622 B]\n",
      "Hit:5 http://archive.ubuntu.com/ubuntu focal InRelease\n",
      "Get:6 http://archive.ubuntu.com/ubuntu focal-updates InRelease [114 kB]\n",
      "Hit:7 http://ppa.launchpad.net/cran/libgit2/ubuntu focal InRelease\n",
      "Get:8 http://security.ubuntu.com/ubuntu focal-security/universe amd64 Packages [1,058 kB]\n",
      "Hit:9 http://ppa.launchpad.net/deadsnakes/ppa/ubuntu focal InRelease\n",
      "Hit:10 http://ppa.launchpad.net/graphics-drivers/ppa/ubuntu focal InRelease\n",
      "Get:11 http://archive.ubuntu.com/ubuntu focal-backports InRelease [108 kB]\n",
      "Hit:12 http://ppa.launchpad.net/ubuntugis/ppa/ubuntu focal InRelease\n",
      "Get:13 http://archive.ubuntu.com/ubuntu focal-updates/main amd64 Packages [3,255 kB]\n",
      "Get:14 http://archive.ubuntu.com/ubuntu focal-updates/universe amd64 Packages [1,354 kB]\n",
      "Fetched 6,007 kB in 3s (2,342 kB/s)\n",
      "Reading package lists... Done\n",
      "Building dependency tree       \n",
      "Reading state information... Done\n",
      "38 packages can be upgraded. Run 'apt list --upgradable' to see them.\n",
      "Reading package lists... Done\n",
      "Building dependency tree       \n",
      "Reading state information... Done\n",
      "ffmpeg is already the newest version (7:4.2.7-0ubuntu0.1).\n",
      "0 upgraded, 0 newly installed, 0 to remove and 38 not upgraded.\n"
     ]
    }
   ],
   "source": [
    "!sudo apt update && sudo apt install ffmpeg"
   ]
  },
  {
   "cell_type": "code",
   "execution_count": 15,
   "id": "n7y_HrhmPKVr",
   "metadata": {
    "colab": {
     "base_uri": "https://localhost:8080/"
    },
    "id": "n7y_HrhmPKVr",
    "outputId": "1ffc89e3-bb2b-409f-bba9-407606df0988"
   },
   "outputs": [
    {
     "name": "stderr",
     "output_type": "stream",
     "text": [
      "100%|███████████████████████████████████████| 139M/139M [00:01<00:00, 93.4MiB/s]\n",
      "WARNING:py.warnings:/usr/local/lib/python3.10/dist-packages/whisper/transcribe.py:114: UserWarning: FP16 is not supported on CPU; using FP32 instead\n",
      "  warnings.warn(\"FP16 is not supported on CPU; using FP32 instead\")\n",
      "\n"
     ]
    },
    {
     "name": "stdout",
     "output_type": "stream",
     "text": [
      " One of the biggest issues with resume tips from the internet is that most of it is subjective. What works for me might not work for you and vice versa. So one awesome bell sack released his findings from analyzing 125,484 resumes, I got excited because data to a large extent takes the guesswork out of the equation. In my opinion his findings are pure gold because I basically confirm my suspicions that in order to write an incredible resume, there are some proven foundational principles we should follow whether we're making a resume for our first job or improving upon a good resume we've had for years. As usual I care about your time so I'm going to share the five key learnings up front, then talk about the implications of the study and end with practical resume writing tips you can use immediately to stand out. So let's get started. Hi friends welcome back to the channel if you're new here my name is Jeff and we're all about practical career interview and productivity tips so if you're working professional consider subscribing for more actionable content. Full disclosure Austin did not ask me make this video he does even know who I am the data geek and me just got so excited about all the numbers that I just had to share it in a video format. Without further ado the five key learnings from Austin's study. Number one resumes with a LinkedIn profile see higher interview rates but only 48% of resumes included a LinkedIn profile. Number two candidates only include 51% of important keywords and skills heavily under indexing on soft skills. Number three measurable metrics improve resume outcomes but only 26% of resumes included five or more metrics. Number four research shows that the ideal resume length is 475 to 600 words. 77% of resumes fell outside of that range. And number five fluffy content takes away from a resume's value but 51% of resumes included buzzwords, cliches or incorrect pronouns. I'm gonna link the original article and all other resources I mentioned down in the description below so feel free to check that out if you want more perspective on how to write great resumes. Now you know the key takeaways what does this actually mean for you? Let's start with number one including a LinkedIn profile on your resume and here's a graph that completely blew me away. At first glance the implication seems to be pretty simple. Having a LinkedIn profile linked on your resume gives you a much higher chance of landing a job interview. But if you take a closer look having a bare bones or basic LinkedIn profile actually decreases your chances of getting a callback meaning you're better off hiding your LinkedIn profile if you're not putting any effort into it. In my opinion the differences between a comprehensive profile and a basic one boil down to number one having a professional headshot and LinkedIn banner. Number two how informative your work detail section is and number three how much effort you put into building meaningful connections. I actually have a LinkedIn tips and tricks playlist that walks you through all those points and I also share how to get a custom LinkedIn URL to put on your resume so that it looks clean. Make sure to check that out after this video and that's not all. You might also notice that as job level increased the gap in callback rates decreased between job applicants. This suggests that having a strong LinkedIn profile is more important for entry level job seekers compared to their higher level peers. If you're finding this video helpful so far please drop a like and if not keep watching because it only gets better. Number two including the right keywords and skills when writing a resume or CV. While I'm not a big fan of just submitting applications online it is a fact of life that applicant tracking systems scan for certain keywords and experiences to filter out what they define as low potential candidates. According to the research the average job description includes 43 keywords but most candidates only match 51% on their resume meaning the only included 20 or so relevant keywords. In order to overcome this you want to use free online word cloud tools. I'll link a few down below. Copy and paste the job description in there and identify the keywords that pop up most frequently and make sure to include those in a natural way when writing your resume. Furthermore we see that candidates resumes included 60% of the necessary hard skills and only 28% of the necessary soft skills when compared to their target roles job description. This makes sense because there's usually a skill slash interest section at the bottom of your resume where you highlight your capabilities in Excel, Python, SQL, the hard skills right. To make sure you're also including relevant soft skills you can take a look at Udemy's workplace trends report or CNBC summary and see which of the top 10 in demand soft skills are applicable to youth and include those as well. Number three include measurable results in your bullet points. The study shows that 26% resumes included five or more instances of measurable metrics while 36% more than a third didn't include a single quantifiable result. Why do companies prefer resumes with metrics? Because metrics make value easier to understand and quantify. I cannot stress this enough. If 10 candidates all say they're responsible for planning and executing social media campaigns it's very hard to tell who did it well and who didn't. The one person that says, Hey, my campaign show of 30% year-to-year increase in sales revenue is going to stand out. There's a popular XYZ resume bullet point formula that goes like this. Accomplished X as measured by Y by doing Z. For example, if your content marketing manager your bullet point might look like this. Drove 2500 organic signups to our monthly newsletter by AB testing content layout and collaborating with co-marketing partners representing a 43% quarter on quarter increase. Pro tip, a lot of you might be working on projects that might not have a direct impact on growth or revenue. Let's say you're working on your company's internal tools. In that case you can say your improvements led to a 33% increase in productivity for the sales team which translates to X amount of incremental revenue. Number four, keep your resume length between 475 and 600 words. A, this is because the research has shown that resumes in that sweet spot saw double the interviews of those that were outside of those ranges. B, 77% of the resumes from Austin study had either fewer than 475 words or more than 600. Meaning from a purely statistical standpoint, you are automatically in a stronger position versus other candidates if you have a 500 word resume. Of course, I do want to point out there are definitely exceptions when it comes to career level and academic roles. If you're a professor, federal employee or sea level executive, you might have a 2-3 page resume or CV with well over a thousand five-minute words. And that's perfectly fine. For those of you who do not fall in that category though, this finding means that number one, do not keyword stuff your resume. It's not about the number of keywords you have in your resume, right? It's about having the ones that match the job. And of course, number two, something a lot of us have been doing since middle school, using the work count tool in word or Google Docs to make sure we're staying within that sweet spot. And number five, the bane of all recruiters, hiring managers and just resume readers in general. Buzzwords and cliches, do not use them. We're all super motivated by our passions. We're all detailed oriented team players. We all have creative mindsets. And who doesn't like to talk about the synergies between different products? If you found that hard to listen to, imagine the recruiter going over 30 resumes a day. And according to the study, 51% of resumes in the dataset included some sort of buzzword or cliché. Buzzwords, fluff, cliches are unnecessary and take away from your message. Your writing should always be selling your experience, not summarizing it. As a very practical solution, go ahead and Google resume cliches and buzzwords and remove all the ones you find in your resume to give it an instant upgrade. Were some of the findings from Austin's study pretty basic? Yeah, you should always include measurable results in your bullet points, optimize and add your LinkedIn profile, and avoid using buzzwords to write a good resume. But hopefully, the numbers behind the research have convinced you that these non-negotiable aspects lay very solid groundwork for you to make additional tweaks and adjustments. I've actually made quite a few of these mistakes myself back in the day, so make sure to check out my video on the top five resume mistakes I made when applying to management consulting and Google. See you on the next video and in the meantime, have a great one.\n"
     ]
    }
   ],
   "source": [
    "import whisper\n",
    "\n",
    "model = whisper.load_model(\"base\")\n",
    "result = model.transcribe(\"/content/resume_output_file.wav\")\n",
    "print(result[\"text\"])"
   ]
  }
 ],
 "metadata": {
  "colab": {
   "provenance": []
  },
  "kernelspec": {
   "display_name": "Python 3 (ipykernel)",
   "language": "python",
   "name": "python3"
  },
  "language_info": {
   "codemirror_mode": {
    "name": "ipython",
    "version": 3
   },
   "file_extension": ".py",
   "mimetype": "text/x-python",
   "name": "python",
   "nbconvert_exporter": "python",
   "pygments_lexer": "ipython3",
   "version": "3.10.8"
  }
 },
 "nbformat": 4,
 "nbformat_minor": 5
}

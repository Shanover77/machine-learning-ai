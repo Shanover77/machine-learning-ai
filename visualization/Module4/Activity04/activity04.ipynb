{
 "cells": [
  {
   "cell_type": "markdown",
   "metadata": {},
   "source": [
    "## Activity 04: Use Pandas to compute the Mean, Median, and Variance"
   ]
  },
  {
   "cell_type": "markdown",
   "metadata": {},
   "source": [
    "In this activity, you will consolidate the skills you've acquired in the last exercise and use Pandas to do some very basic mathematical calculations on our `world_population.csv` dataset.   \n",
    "Pandas have a consistent API, so it should be rather easy to transfer your knowledge of the mean method to median and variance.    \n",
    "Your already existing knowledge of NumPy will also help."
   ]
  },
  {
   "cell_type": "markdown",
   "metadata": {},
   "source": [
    "#### Loading the dataset"
   ]
  },
  {
   "cell_type": "code",
   "execution_count": 1,
   "metadata": {},
   "outputs": [],
   "source": [
    "# importing the necessary dependencies\n",
    "import pandas as pd\n",
    "import numpy as np"
   ]
  },
  {
   "cell_type": "code",
   "execution_count": 13,
   "metadata": {},
   "outputs": [
    {
     "data": {
      "text/html": [
       "<div>\n",
       "<style scoped>\n",
       "    .dataframe tbody tr th:only-of-type {\n",
       "        vertical-align: middle;\n",
       "    }\n",
       "\n",
       "    .dataframe tbody tr th {\n",
       "        vertical-align: top;\n",
       "    }\n",
       "\n",
       "    .dataframe thead th {\n",
       "        text-align: right;\n",
       "    }\n",
       "</style>\n",
       "<table border=\"1\" class=\"dataframe\">\n",
       "  <thead>\n",
       "    <tr style=\"text-align: right;\">\n",
       "      <th></th>\n",
       "      <th>Country Code</th>\n",
       "      <th>Indicator Name</th>\n",
       "      <th>Indicator Code</th>\n",
       "      <th>1960</th>\n",
       "      <th>1961</th>\n",
       "      <th>1962</th>\n",
       "      <th>1963</th>\n",
       "      <th>1964</th>\n",
       "      <th>1965</th>\n",
       "      <th>1966</th>\n",
       "      <th>...</th>\n",
       "      <th>2007</th>\n",
       "      <th>2008</th>\n",
       "      <th>2009</th>\n",
       "      <th>2010</th>\n",
       "      <th>2011</th>\n",
       "      <th>2012</th>\n",
       "      <th>2013</th>\n",
       "      <th>2014</th>\n",
       "      <th>2015</th>\n",
       "      <th>2016</th>\n",
       "    </tr>\n",
       "    <tr>\n",
       "      <th>Country Name</th>\n",
       "      <th></th>\n",
       "      <th></th>\n",
       "      <th></th>\n",
       "      <th></th>\n",
       "      <th></th>\n",
       "      <th></th>\n",
       "      <th></th>\n",
       "      <th></th>\n",
       "      <th></th>\n",
       "      <th></th>\n",
       "      <th></th>\n",
       "      <th></th>\n",
       "      <th></th>\n",
       "      <th></th>\n",
       "      <th></th>\n",
       "      <th></th>\n",
       "      <th></th>\n",
       "      <th></th>\n",
       "      <th></th>\n",
       "      <th></th>\n",
       "      <th></th>\n",
       "    </tr>\n",
       "  </thead>\n",
       "  <tbody>\n",
       "    <tr>\n",
       "      <th>Yemen, Rep.</th>\n",
       "      <td>YEM</td>\n",
       "      <td>Population density (people per sq. km of land ...</td>\n",
       "      <td>EN.POP.DNST</td>\n",
       "      <td>NaN</td>\n",
       "      <td>9.946897</td>\n",
       "      <td>10.112857</td>\n",
       "      <td>10.283730</td>\n",
       "      <td>10.460234</td>\n",
       "      <td>10.642972</td>\n",
       "      <td>10.834968</td>\n",
       "      <td>...</td>\n",
       "      <td>41.102913</td>\n",
       "      <td>42.280241</td>\n",
       "      <td>43.476383</td>\n",
       "      <td>44.684304</td>\n",
       "      <td>45.902116</td>\n",
       "      <td>47.129178</td>\n",
       "      <td>48.361113</td>\n",
       "      <td>49.593113</td>\n",
       "      <td>50.821477</td>\n",
       "      <td>NaN</td>\n",
       "    </tr>\n",
       "    <tr>\n",
       "      <th>South Africa</th>\n",
       "      <td>ZAF</td>\n",
       "      <td>Population density (people per sq. km of land ...</td>\n",
       "      <td>EN.POP.DNST</td>\n",
       "      <td>NaN</td>\n",
       "      <td>14.796892</td>\n",
       "      <td>15.216878</td>\n",
       "      <td>15.609838</td>\n",
       "      <td>15.984431</td>\n",
       "      <td>16.348334</td>\n",
       "      <td>16.708236</td>\n",
       "      <td>...</td>\n",
       "      <td>40.060326</td>\n",
       "      <td>40.636905</td>\n",
       "      <td>41.234300</td>\n",
       "      <td>41.853305</td>\n",
       "      <td>42.494751</td>\n",
       "      <td>43.159519</td>\n",
       "      <td>43.848532</td>\n",
       "      <td>44.562767</td>\n",
       "      <td>45.303251</td>\n",
       "      <td>NaN</td>\n",
       "    </tr>\n",
       "    <tr>\n",
       "      <th>Congo, Dem. Rep.</th>\n",
       "      <td>COD</td>\n",
       "      <td>Population density (people per sq. km of land ...</td>\n",
       "      <td>EN.POP.DNST</td>\n",
       "      <td>NaN</td>\n",
       "      <td>6.897825</td>\n",
       "      <td>7.075824</td>\n",
       "      <td>7.261381</td>\n",
       "      <td>7.456342</td>\n",
       "      <td>7.661877</td>\n",
       "      <td>7.878900</td>\n",
       "      <td>...</td>\n",
       "      <td>26.393275</td>\n",
       "      <td>27.264188</td>\n",
       "      <td>28.162192</td>\n",
       "      <td>29.085689</td>\n",
       "      <td>30.033469</td>\n",
       "      <td>31.005562</td>\n",
       "      <td>32.003203</td>\n",
       "      <td>33.028398</td>\n",
       "      <td>34.082536</td>\n",
       "      <td>NaN</td>\n",
       "    </tr>\n",
       "    <tr>\n",
       "      <th>Zambia</th>\n",
       "      <td>ZMB</td>\n",
       "      <td>Population density (people per sq. km of land ...</td>\n",
       "      <td>EN.POP.DNST</td>\n",
       "      <td>NaN</td>\n",
       "      <td>4.227724</td>\n",
       "      <td>4.359305</td>\n",
       "      <td>4.496824</td>\n",
       "      <td>4.639914</td>\n",
       "      <td>4.788452</td>\n",
       "      <td>4.942343</td>\n",
       "      <td>...</td>\n",
       "      <td>17.135926</td>\n",
       "      <td>17.641587</td>\n",
       "      <td>18.170609</td>\n",
       "      <td>18.721585</td>\n",
       "      <td>19.294752</td>\n",
       "      <td>19.890745</td>\n",
       "      <td>20.508866</td>\n",
       "      <td>21.148177</td>\n",
       "      <td>21.807890</td>\n",
       "      <td>NaN</td>\n",
       "    </tr>\n",
       "    <tr>\n",
       "      <th>Zimbabwe</th>\n",
       "      <td>ZWE</td>\n",
       "      <td>Population density (people per sq. km of land ...</td>\n",
       "      <td>EN.POP.DNST</td>\n",
       "      <td>NaN</td>\n",
       "      <td>10.021037</td>\n",
       "      <td>10.356112</td>\n",
       "      <td>10.703901</td>\n",
       "      <td>11.062585</td>\n",
       "      <td>11.431128</td>\n",
       "      <td>11.809022</td>\n",
       "      <td>...</td>\n",
       "      <td>34.374559</td>\n",
       "      <td>34.885516</td>\n",
       "      <td>35.468520</td>\n",
       "      <td>36.122262</td>\n",
       "      <td>36.850438</td>\n",
       "      <td>37.651498</td>\n",
       "      <td>38.511289</td>\n",
       "      <td>39.410249</td>\n",
       "      <td>40.332819</td>\n",
       "      <td>NaN</td>\n",
       "    </tr>\n",
       "  </tbody>\n",
       "</table>\n",
       "<p>5 rows × 60 columns</p>\n",
       "</div>"
      ],
      "text/plain": [
       "                 Country Code   \n",
       "Country Name                    \n",
       "Yemen, Rep.               YEM  \\\n",
       "South Africa              ZAF   \n",
       "Congo, Dem. Rep.          COD   \n",
       "Zambia                    ZMB   \n",
       "Zimbabwe                  ZWE   \n",
       "\n",
       "                                                     Indicator Name   \n",
       "Country Name                                                          \n",
       "Yemen, Rep.       Population density (people per sq. km of land ...  \\\n",
       "South Africa      Population density (people per sq. km of land ...   \n",
       "Congo, Dem. Rep.  Population density (people per sq. km of land ...   \n",
       "Zambia            Population density (people per sq. km of land ...   \n",
       "Zimbabwe          Population density (people per sq. km of land ...   \n",
       "\n",
       "                 Indicator Code  1960       1961       1962       1963   \n",
       "Country Name                                                             \n",
       "Yemen, Rep.         EN.POP.DNST   NaN   9.946897  10.112857  10.283730  \\\n",
       "South Africa        EN.POP.DNST   NaN  14.796892  15.216878  15.609838   \n",
       "Congo, Dem. Rep.    EN.POP.DNST   NaN   6.897825   7.075824   7.261381   \n",
       "Zambia              EN.POP.DNST   NaN   4.227724   4.359305   4.496824   \n",
       "Zimbabwe            EN.POP.DNST   NaN  10.021037  10.356112  10.703901   \n",
       "\n",
       "                       1964       1965       1966  ...       2007       2008   \n",
       "Country Name                                       ...                         \n",
       "Yemen, Rep.       10.460234  10.642972  10.834968  ...  41.102913  42.280241  \\\n",
       "South Africa      15.984431  16.348334  16.708236  ...  40.060326  40.636905   \n",
       "Congo, Dem. Rep.   7.456342   7.661877   7.878900  ...  26.393275  27.264188   \n",
       "Zambia             4.639914   4.788452   4.942343  ...  17.135926  17.641587   \n",
       "Zimbabwe          11.062585  11.431128  11.809022  ...  34.374559  34.885516   \n",
       "\n",
       "                       2009       2010       2011       2012       2013   \n",
       "Country Name                                                              \n",
       "Yemen, Rep.       43.476383  44.684304  45.902116  47.129178  48.361113  \\\n",
       "South Africa      41.234300  41.853305  42.494751  43.159519  43.848532   \n",
       "Congo, Dem. Rep.  28.162192  29.085689  30.033469  31.005562  32.003203   \n",
       "Zambia            18.170609  18.721585  19.294752  19.890745  20.508866   \n",
       "Zimbabwe          35.468520  36.122262  36.850438  37.651498  38.511289   \n",
       "\n",
       "                       2014       2015  2016  \n",
       "Country Name                                  \n",
       "Yemen, Rep.       49.593113  50.821477   NaN  \n",
       "South Africa      44.562767  45.303251   NaN  \n",
       "Congo, Dem. Rep.  33.028398  34.082536   NaN  \n",
       "Zambia            21.148177  21.807890   NaN  \n",
       "Zimbabwe          39.410249  40.332819   NaN  \n",
       "\n",
       "[5 rows x 60 columns]"
      ]
     },
     "execution_count": 13,
     "metadata": {},
     "output_type": "execute_result"
    }
   ],
   "source": [
    "# loading the Dataset\n",
    "dataset = pd.read_csv('./data/world_population.csv', index_col=0)\n",
    "df = dataset\n",
    "dataset.tail()"
   ]
  },
  {
   "cell_type": "code",
   "execution_count": 20,
   "metadata": {},
   "outputs": [
    {
     "data": {
      "text/html": [
       "<div>\n",
       "<style scoped>\n",
       "    .dataframe tbody tr th:only-of-type {\n",
       "        vertical-align: middle;\n",
       "    }\n",
       "\n",
       "    .dataframe tbody tr th {\n",
       "        vertical-align: top;\n",
       "    }\n",
       "\n",
       "    .dataframe thead th {\n",
       "        text-align: right;\n",
       "    }\n",
       "</style>\n",
       "<table border=\"1\" class=\"dataframe\">\n",
       "  <thead>\n",
       "    <tr style=\"text-align: right;\">\n",
       "      <th></th>\n",
       "      <th>Country Code</th>\n",
       "      <th>Indicator Name</th>\n",
       "      <th>Indicator Code</th>\n",
       "      <th>1960</th>\n",
       "      <th>1961</th>\n",
       "      <th>1962</th>\n",
       "      <th>1963</th>\n",
       "      <th>1964</th>\n",
       "      <th>1965</th>\n",
       "      <th>1966</th>\n",
       "      <th>...</th>\n",
       "      <th>2007</th>\n",
       "      <th>2008</th>\n",
       "      <th>2009</th>\n",
       "      <th>2010</th>\n",
       "      <th>2011</th>\n",
       "      <th>2012</th>\n",
       "      <th>2013</th>\n",
       "      <th>2014</th>\n",
       "      <th>2015</th>\n",
       "      <th>2016</th>\n",
       "    </tr>\n",
       "    <tr>\n",
       "      <th>Country Name</th>\n",
       "      <th></th>\n",
       "      <th></th>\n",
       "      <th></th>\n",
       "      <th></th>\n",
       "      <th></th>\n",
       "      <th></th>\n",
       "      <th></th>\n",
       "      <th></th>\n",
       "      <th></th>\n",
       "      <th></th>\n",
       "      <th></th>\n",
       "      <th></th>\n",
       "      <th></th>\n",
       "      <th></th>\n",
       "      <th></th>\n",
       "      <th></th>\n",
       "      <th></th>\n",
       "      <th></th>\n",
       "      <th></th>\n",
       "      <th></th>\n",
       "      <th></th>\n",
       "    </tr>\n",
       "  </thead>\n",
       "  <tbody>\n",
       "    <tr>\n",
       "      <th>Aruba</th>\n",
       "      <td>ABW</td>\n",
       "      <td>Population density (people per sq. km of land ...</td>\n",
       "      <td>EN.POP.DNST</td>\n",
       "      <td>NaN</td>\n",
       "      <td>307.972222</td>\n",
       "      <td>312.366667</td>\n",
       "      <td>314.983333</td>\n",
       "      <td>316.827778</td>\n",
       "      <td>318.666667</td>\n",
       "      <td>320.622222</td>\n",
       "      <td>...</td>\n",
       "      <td>562.322222</td>\n",
       "      <td>563.011111</td>\n",
       "      <td>563.422222</td>\n",
       "      <td>564.427778</td>\n",
       "      <td>566.311111</td>\n",
       "      <td>568.850000</td>\n",
       "      <td>571.783333</td>\n",
       "      <td>574.672222</td>\n",
       "      <td>577.161111</td>\n",
       "      <td>NaN</td>\n",
       "    </tr>\n",
       "    <tr>\n",
       "      <th>Andorra</th>\n",
       "      <td>AND</td>\n",
       "      <td>Population density (people per sq. km of land ...</td>\n",
       "      <td>EN.POP.DNST</td>\n",
       "      <td>NaN</td>\n",
       "      <td>30.587234</td>\n",
       "      <td>32.714894</td>\n",
       "      <td>34.914894</td>\n",
       "      <td>37.170213</td>\n",
       "      <td>39.470213</td>\n",
       "      <td>41.800000</td>\n",
       "      <td>...</td>\n",
       "      <td>180.591489</td>\n",
       "      <td>182.161702</td>\n",
       "      <td>181.859574</td>\n",
       "      <td>179.614894</td>\n",
       "      <td>175.161702</td>\n",
       "      <td>168.757447</td>\n",
       "      <td>161.493617</td>\n",
       "      <td>154.863830</td>\n",
       "      <td>149.942553</td>\n",
       "      <td>NaN</td>\n",
       "    </tr>\n",
       "  </tbody>\n",
       "</table>\n",
       "<p>2 rows × 60 columns</p>\n",
       "</div>"
      ],
      "text/plain": [
       "             Country Code                                     Indicator Name   \n",
       "Country Name                                                                   \n",
       "Aruba                 ABW  Population density (people per sq. km of land ...  \\\n",
       "Andorra               AND  Population density (people per sq. km of land ...   \n",
       "\n",
       "             Indicator Code  1960        1961        1962        1963   \n",
       "Country Name                                                            \n",
       "Aruba           EN.POP.DNST   NaN  307.972222  312.366667  314.983333  \\\n",
       "Andorra         EN.POP.DNST   NaN   30.587234   32.714894   34.914894   \n",
       "\n",
       "                    1964        1965        1966  ...        2007        2008   \n",
       "Country Name                                      ...                           \n",
       "Aruba         316.827778  318.666667  320.622222  ...  562.322222  563.011111  \\\n",
       "Andorra        37.170213   39.470213   41.800000  ...  180.591489  182.161702   \n",
       "\n",
       "                    2009        2010        2011        2012        2013   \n",
       "Country Name                                                               \n",
       "Aruba         563.422222  564.427778  566.311111  568.850000  571.783333  \\\n",
       "Andorra       181.859574  179.614894  175.161702  168.757447  161.493617   \n",
       "\n",
       "                    2014        2015  2016  \n",
       "Country Name                                \n",
       "Aruba         574.672222  577.161111   NaN  \n",
       "Andorra       154.863830  149.942553   NaN  \n",
       "\n",
       "[2 rows x 60 columns]"
      ]
     },
     "execution_count": 20,
     "metadata": {},
     "output_type": "execute_result"
    }
   ],
   "source": [
    "# looking at the first two rows of the dataset\n",
    "\n",
    "dataset[:2]"
   ]
  },
  {
   "cell_type": "markdown",
   "metadata": {},
   "source": [
    "---"
   ]
  },
  {
   "cell_type": "markdown",
   "metadata": {},
   "source": [
    "#### Mean"
   ]
  },
  {
   "cell_type": "code",
   "execution_count": 37,
   "metadata": {},
   "outputs": [
    {
     "name": "stdout",
     "output_type": "stream",
     "text": [
      "Mean of third row: 25.373378700152898\n"
     ]
    },
    {
     "data": {
      "text/plain": [
       "Country Name\n",
       "Afghanistan    25.373379\n",
       "dtype: float64"
      ]
     },
     "execution_count": 37,
     "metadata": {},
     "output_type": "execute_result"
    }
   ],
   "source": [
    "# calculate the mean of the third row\n",
    "\n",
    "third = df.iloc[2,3:]\n",
    "\n",
    "print('Mean of third row:',third.mean())\n",
    "\n",
    "# second approach\n",
    "index = 2\n",
    "df.iloc[[index]].mean(axis=1,numeric_only=True) # axis=1 means across rows, axis=0 means across columns\n",
    "\n",
    "\n",
    "## NOTE: .iloc[] and .iloc[[]], difference is you can mention specific rows in the double-bracket, and you can splice in the single bracket"
   ]
  },
  {
   "cell_type": "code",
   "execution_count": 56,
   "metadata": {},
   "outputs": [
    {
     "data": {
      "text/plain": [
       "Country Name\n",
       "Zimbabwe    24.520532\n",
       "dtype: float64"
      ]
     },
     "execution_count": 56,
     "metadata": {},
     "output_type": "execute_result"
    }
   ],
   "source": [
    "# calculate the mean of the last row\n",
    "\n",
    "index = -1\n",
    "df.iloc[[index]].mean(axis=1,numeric_only=True) # axis=1 means across rows, axis=0 means across columns"
   ]
  },
  {
   "cell_type": "code",
   "execution_count": 84,
   "metadata": {},
   "outputs": [
    {
     "name": "stdout",
     "output_type": "stream",
     "text": [
      "Using label .loc single bracket: Country Name\n",
      "Germany    227.773688\n",
      "dtype: float64\n",
      "\n",
      "\n",
      "Int index of germany: 52\n",
      "Using int index .iloc double bracket: Country Name\n",
      "Germany    227.773688\n",
      "dtype: float64\n"
     ]
    }
   ],
   "source": [
    "# calculate the mean of the country Germany\n",
    "\n",
    "# using double bracket and label index\n",
    "index = 'Germany'\n",
    "df.loc[[index]].mean(axis=1,numeric_only=True) # axis=1 means across rows, axis=0 means across columns\n",
    "print('Using label .loc single bracket:',df.loc[[index]].mean(axis=1, numeric_only=True))\n",
    "print('\\n')\n",
    "\n",
    "# using single bracket and .iloc[]\n",
    "int_index = df.index.get_loc('Germany')\n",
    "print('Int index of germany:',int_index)\n",
    "\n",
    "print('Using int index .iloc double bracket:',df.iloc[int_index:int_index+1].mean(axis=1,numeric_only=True))"
   ]
  },
  {
   "cell_type": "markdown",
   "metadata": {},
   "source": [
    "**Note:**   \n",
    "`.iloc()` and `.loc()` are two important methods when indexing with Pandas. They allow making precise selections of data based on either the integer value index (`iloc`) or the index column (`loc`), which in our case is the country name column."
   ]
  },
  {
   "cell_type": "markdown",
   "metadata": {},
   "source": [
    "---"
   ]
  },
  {
   "cell_type": "markdown",
   "metadata": {},
   "source": [
    "#### Median"
   ]
  },
  {
   "cell_type": "code",
   "execution_count": 43,
   "metadata": {},
   "outputs": [
    {
     "data": {
      "text/plain": [
       "Country Name\n",
       "Zimbabwe    25.505431\n",
       "dtype: float64"
      ]
     },
     "execution_count": 43,
     "metadata": {},
     "output_type": "execute_result"
    }
   ],
   "source": [
    "# calculate the median of the last row\n",
    "\n",
    "index = -1\n",
    "df.iloc[[index]].median(axis=1,numeric_only=True) # axis=1 means across rows, axis=0 means across columns"
   ]
  },
  {
   "cell_type": "code",
   "execution_count": 85,
   "metadata": {},
   "outputs": [
    {
     "data": {
      "text/plain": [
       "Country Name\n",
       "Congo, Dem. Rep.    14.419050\n",
       "Zambia              10.352668\n",
       "Zimbabwe            25.505431\n",
       "dtype: float64"
      ]
     },
     "execution_count": 85,
     "metadata": {},
     "output_type": "execute_result"
    }
   ],
   "source": [
    "# calculate the median of the last 3 rows\n",
    "\n",
    "index = -3\n",
    "df.tail(3).median(axis=1, numeric_only=True)"
   ]
  },
  {
   "cell_type": "markdown",
   "metadata": {},
   "source": [
    "**Note:**   \n",
    "Slicing can be done in the same way as with NumPy.   \n",
    "`dataset[1:3]` will return the second and third row of our dataset."
   ]
  },
  {
   "cell_type": "code",
   "execution_count": 87,
   "metadata": {},
   "outputs": [
    {
     "name": "stdout",
     "output_type": "stream",
     "text": [
      "Median of first ten: Country Name\n",
      "Aruba                   348.022222\n",
      "Andorra                 107.300000\n",
      "Afghanistan              19.998926\n",
      "Angola                    8.458253\n",
      "Albania                 106.001058\n",
      "Arab World               15.307283\n",
      "United Arab Emirates     19.305072\n",
      "Argentina                11.618238\n",
      "Armenia                 105.898033\n",
      "American Samoa          220.245000\n",
      "dtype: float64\n"
     ]
    }
   ],
   "source": [
    "# calculate the median of the first 10 countries\n",
    "\n",
    "first10 = df.head(10)\n",
    "print('Median of first ten:', first10.median(axis=1, numeric_only=True))"
   ]
  },
  {
   "cell_type": "markdown",
   "metadata": {},
   "source": [
    "**Note:**   \n",
    "When handling larger datasets, the order in which methods get executed definitely matters.   \n",
    "Think about what `.head(10)` does for a moment, it simply takes your dataset and returns the first 10 rows of it, cutting down your input to the `.mean()` method drastically.   \n",
    "This will definitely have an impact when using more memory intensive calculations, so keep an eye on the order."
   ]
  },
  {
   "cell_type": "markdown",
   "metadata": {},
   "source": [
    "---"
   ]
  },
  {
   "cell_type": "markdown",
   "metadata": {},
   "source": [
    "#### Variance"
   ]
  },
  {
   "cell_type": "code",
   "execution_count": 93,
   "metadata": {},
   "outputs": [
    {
     "data": {
      "text/plain": [
       "Country Name\n",
       "Yemen, Rep.         167.395631\n",
       "South Africa         88.468099\n",
       "Congo, Dem. Rep.     62.352027\n",
       "Zambia               25.865800\n",
       "Zimbabwe             87.068470\n",
       "dtype: float64"
      ]
     },
     "execution_count": 93,
     "metadata": {},
     "output_type": "execute_result"
    }
   ],
   "source": [
    "# calculate the variance of the last 5 columns\n",
    "\n",
    "df.iloc[-5:].var(axis=1,numeric_only=True)"
   ]
  },
  {
   "cell_type": "markdown",
   "metadata": {},
   "source": [
    "---"
   ]
  },
  {
   "cell_type": "markdown",
   "metadata": {},
   "source": [
    "As mentioned in the introduction of Pandas, it's interoperable with several of NumPy's features.   \n",
    "Here's an example of how to use NumPy's `mean` method with a Pandas DataFrame."
   ]
  },
  {
   "cell_type": "code",
   "execution_count": 34,
   "metadata": {},
   "outputs": [
    {
     "name": "stdout",
     "output_type": "stream",
     "text": [
      "Pandas 368.7066010400187\n",
      "NumPy 368.7066010400187\n"
     ]
    }
   ],
   "source": [
    "# NumPy Pandas interoperability\n",
    "import numpy as np\n",
    "\n",
    "print(\"Pandas\", dataset[\"2015\"].mean())\n",
    "print(\"NumPy\", np.mean(dataset[\"2015\"]))"
   ]
  }
 ],
 "metadata": {
  "kernelspec": {
   "display_name": "Python 3 (ipykernel)",
   "language": "python",
   "name": "python3"
  },
  "language_info": {
   "codemirror_mode": {
    "name": "ipython",
    "version": 3
   },
   "file_extension": ".py",
   "mimetype": "text/x-python",
   "name": "python",
   "nbconvert_exporter": "python",
   "pygments_lexer": "ipython3",
   "version": "3.10.8"
  }
 },
 "nbformat": 4,
 "nbformat_minor": 4
}

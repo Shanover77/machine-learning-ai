{
 "cells": [
  {
   "cell_type": "markdown",
   "metadata": {},
   "source": [
    "## Activity 03: Filtering, Sorting, and Reshaping"
   ]
  },
  {
   "cell_type": "markdown",
   "metadata": {},
   "source": [
    "Following up on the last activity, we are asked to deliver some more complex operations.   \n",
    "We will, therefore, continue to work with the same dataset, our `normal_distribution.csv`."
   ]
  },
  {
   "cell_type": "markdown",
   "metadata": {},
   "source": [
    "#### Loading the dataset"
   ]
  },
  {
   "cell_type": "code",
   "execution_count": 1,
   "metadata": {},
   "outputs": [],
   "source": [
    "# importing the necessary dependencies\n",
    "import numpy as np"
   ]
  },
  {
   "cell_type": "code",
   "execution_count": 2,
   "metadata": {},
   "outputs": [],
   "source": [
    "# loading the Dataset\n",
    "dataset = np.genfromtxt('./data/normal_distribution.csv', delimiter=',')"
   ]
  },
  {
   "cell_type": "markdown",
   "metadata": {},
   "source": [
    "---"
   ]
  },
  {
   "cell_type": "markdown",
   "metadata": {},
   "source": [
    "#### Filtering"
   ]
  },
  {
   "cell_type": "markdown",
   "metadata": {},
   "source": [
    "To get better insights into our dataset, we want to only look at the value that fulfills certain conditions.   \n",
    "Our client reaches out to us and asks us to provide lists of values that fulfills these conditions:\n",
    "- all values greater than 105 (>105)\n",
    "- all values that are between 90 and 95 (>90 and <95)\n",
    "- the indices of all values that have a delta of less than 1 to 100 (x-100 < 1)"
   ]
  },
  {
   "cell_type": "code",
   "execution_count": 3,
   "metadata": {},
   "outputs": [
    {
     "data": {
      "text/plain": [
       "array([107.43534677, 105.7197853 , 110.18889465, 105.95297652,\n",
       "       106.54654286, 107.22482426, 113.42090475, 105.48508838,\n",
       "       106.1472841 , 105.85269352, 108.57980357, 106.71751618,\n",
       "       106.39798503, 106.83273763, 106.47551845, 105.30350449,\n",
       "       106.03868807, 110.44484313, 106.6471081 , 105.0320535 ,\n",
       "       107.02874163, 105.07475277, 106.57364584, 107.22482426,\n",
       "       107.19119932, 108.09423367, 109.40523174, 106.11454989,\n",
       "       106.57052697, 105.13668343, 105.37011896, 110.44484313,\n",
       "       105.86078488, 106.89005002, 106.57364584, 107.40064604,\n",
       "       106.38276709, 106.46476468, 110.43976681, 105.02389857,\n",
       "       106.05042487, 106.89005002])"
      ]
     },
     "execution_count": 3,
     "metadata": {},
     "output_type": "execute_result"
    }
   ],
   "source": [
    "# values that are greater than 105\n",
    "\n",
    "dataset[dataset > 105]"
   ]
  },
  {
   "cell_type": "code",
   "execution_count": 4,
   "metadata": {},
   "outputs": [
    {
     "data": {
      "text/plain": [
       "array([92.02628776, 92.9267508 , 92.65657752, 93.87155456, 90.93318132,\n",
       "       91.37294597, 91.6604946 , 93.37126331, 94.20019732, 93.24376389,\n",
       "       94.35373179, 92.5748759 , 91.37294597, 92.87730812, 93.87155456,\n",
       "       92.75048583, 93.97853495, 91.32093303, 92.0108226 , 93.18884302,\n",
       "       93.83969256, 94.5081787 , 94.59300658, 93.04610867, 91.6779221 ,\n",
       "       91.37294597, 94.76253572, 94.57421727, 94.11176915, 93.97853495])"
      ]
     },
     "execution_count": 4,
     "metadata": {},
     "output_type": "execute_result"
    }
   ],
   "source": [
    "# values that are between 90 and 95\n",
    "\n",
    "dataset[(dataset > 90) & (dataset < 95)]"
   ]
  },
  {
   "cell_type": "code",
   "execution_count": 5,
   "metadata": {},
   "outputs": [
    {
     "data": {
      "text/plain": [
       "array([92.02628776, 92.9267508 , 92.65657752, 93.87155456, 90.93318132,\n",
       "       91.37294597, 91.6604946 , 93.37126331, 94.20019732, 93.24376389,\n",
       "       94.35373179, 92.5748759 , 91.37294597, 92.87730812, 93.87155456,\n",
       "       92.75048583, 93.97853495, 91.32093303, 92.0108226 , 93.18884302,\n",
       "       93.83969256, 94.5081787 , 94.59300658, 93.04610867, 91.6779221 ,\n",
       "       91.37294597, 94.76253572, 94.57421727, 94.11176915, 93.97853495])"
      ]
     },
     "execution_count": 5,
     "metadata": {},
     "output_type": "execute_result"
    }
   ],
   "source": [
    "# using extract\n",
    "\n",
    "np.extract((dataset > 90) & (dataset < 95), dataset)"
   ]
  },
  {
   "cell_type": "markdown",
   "metadata": {},
   "source": [
    "> **Note:**    \n",
    "Conditional filtering can be done either using the brackets syntax or NumPys `extract` method"
   ]
  },
  {
   "cell_type": "code",
   "execution_count": 6,
   "metadata": {},
   "outputs": [],
   "source": [
    "# indices of values that have a delta of less than 1 to 100\n",
    "\n"
   ]
  },
  {
   "cell_type": "markdown",
   "metadata": {},
   "source": [
    "---"
   ]
  },
  {
   "cell_type": "markdown",
   "metadata": {},
   "source": [
    "#### Sorting"
   ]
  },
  {
   "cell_type": "markdown",
   "metadata": {},
   "source": [
    "They also want to experiment with some more plotting techniques so they ask you to also deliver these datasets:\n",
    "- values sorted in ascending order for each row\n",
    "- values sorted in ascending order for each column\n",
    "- the matrix of indices indicating the position in a sorted list of each value   \n",
    "```\n",
    "[3, 1, 2, 5, 4]  =>  [1, 2, 0, 4, 3]\n",
    "```"
   ]
  },
  {
   "cell_type": "code",
   "execution_count": 7,
   "metadata": {},
   "outputs": [
    {
     "name": "stdout",
     "output_type": "stream",
     "text": [
      "[[ 96.81964892  97.85230675  98.56783189  98.74986914  98.80833412\n",
      "   99.14931546 101.34745901 104.03852715 107.43534677]\n",
      " [ 92.02628776  92.65657752  92.9267508   93.87155456  97.10439252\n",
      "   97.24584816  99.32066924 101.23162942 105.7197853 ]\n",
      " [ 90.93318132  95.17750125  95.66253664  98.37481387  98.80084371\n",
      "  105.95297652 106.54654286 107.22482426 110.18889465]\n",
      " [ 91.37294597  91.6604946   95.08715803 100.40118279 100.96781394\n",
      "  103.40412146 105.48508838 106.1472841  113.42090475]\n",
      " [ 93.37126331  94.20019732  96.10020311 100.28690912 100.79478953\n",
      "  101.20862522 103.5730309  105.85269352 108.57980357]\n",
      " [ 89.03452725  93.24376389  96.2832753   97.24130034  97.62787811\n",
      "   98.29687616 101.13442416 102.80387079 104.60344836]\n",
      " [ 94.35373179  95.46493436  98.45723272 100.07721494 100.72418901\n",
      "  102.97585605 106.39798503 106.71751618 106.83273763]\n",
      " [ 91.37294597  92.5748759   96.02548256  97.57544275  98.74767493\n",
      "  101.34745901 102.45651798 102.82360856 106.47551845]\n",
      " [ 92.87730812  97.85230675 100.85447132 101.2226037  101.29326772\n",
      "  103.19258339 104.40518318 105.30350449 106.03868807]\n",
      " [ 92.75048583  93.87155456  96.96851209  97.65393524  99.14931546\n",
      "  101.5363647  101.72074646 103.29147111 110.44484313]\n",
      " [ 93.97853495  95.85284217  98.87007532  99.35999981 100.37372248\n",
      "  100.61742813 101.3514185  105.0320535  106.6471081 ]\n",
      " [ 95.93799169  96.74630281  97.21315663  97.59572169 102.17642112\n",
      "  102.62384733 105.07475277 106.57364584 107.02874163]\n",
      " [ 85.98839623  91.32093303  95.19184343  95.65982034 100.39303522\n",
      "  102.35313953 102.93039474 107.19119932 107.22482426]\n",
      " [ 92.0108226   93.18884302  95.19184343  96.50342927  97.75887636\n",
      "   99.58664719 100.39303522 100.44940274 108.09423367]\n",
      " [ 93.83969256  99.69982772  99.95827854 101.83462816 103.05289628\n",
      "  103.1521596  103.93383957 104.15899829 109.40523174]\n",
      " [ 88.80221141  94.5081787   94.59300658  96.34622848  96.89244283\n",
      "   98.07122664 100.28690912 101.08830521 106.11454989]\n",
      " [ 96.78266211  98.75108352  99.07551254  99.84251605 104.03478031\n",
      "  104.15899829 105.13668343 105.37011896 106.57052697]\n",
      " [ 98.65912661  98.72774132  99.4889538   99.57859892 101.86186193\n",
      "  103.05541444 103.61720152 104.70526438 110.44484313]\n",
      " [ 93.04610867  96.5937781   96.59385486  97.49594839  99.92159953\n",
      "  100.96781394 102.55198606 104.63817694 105.86078488]\n",
      " [ 91.37294597  91.6779221   96.76814836  97.94046856  98.29243952\n",
      "  101.20773355 101.79132774 101.83845792 102.20618501]\n",
      " [ 97.10439252  98.00253006  99.94318168 102.26648279 103.40412146\n",
      "  106.38276709 106.57364584 106.89005002 107.40064604]\n",
      " [ 94.76253572  97.24130034  99.80873105  99.99579473 100.69156231\n",
      "  101.32113654 101.63973121 106.46476468 110.43976681]\n",
      " [ 94.57421727  95.62359311  96.10020311  97.99762409  98.61325194\n",
      "  100.80409326 101.2226037  103.83852459 105.02389857]\n",
      " [ 93.97853495  94.11176915  97.62787811  98.75108352  99.62387832\n",
      "  100.07721494 104.51786419 106.05042487 106.89005002]]\n"
     ]
    }
   ],
   "source": [
    "# values sorted for each row\n",
    "\n",
    "sorted = np.sort(dataset)\n",
    "print(sorted)"
   ]
  },
  {
   "cell_type": "markdown",
   "metadata": {},
   "source": [
    "> **Note:**   \n",
    "By default, sorting will always be done along the last axis. In our case this is 1, leading to each row being sorted."
   ]
  },
  {
   "cell_type": "code",
   "execution_count": 8,
   "metadata": {},
   "outputs": [
    {
     "name": "stdout",
     "output_type": "stream",
     "text": [
      "[[ 91.37294597  88.80221141  90.93318132  93.18884302  85.98839623\n",
      "   91.6604946   91.32093303  92.5748759   91.37294597]\n",
      " [ 92.02628776  91.6779221   93.24376389  94.59300658  89.03452725\n",
      "   92.65657752  93.04610867  94.20019732  91.37294597]\n",
      " [ 94.11176915  92.0108226   93.83969256  96.74630281  92.75048583\n",
      "   95.19184343  94.35373179  94.76253572  93.87155456]\n",
      " [ 95.65982034  92.87730812  94.5081787   97.24130034  92.9267508\n",
      "   95.46493436  96.50342927  95.08715803  93.97853495]\n",
      " [ 95.66253664  93.87155456  97.75887636  97.24584816  93.37126331\n",
      "   95.62359311  96.81964892  95.85284217  95.19184343]\n",
      " [ 96.02548256  94.57421727  98.45723272  97.62787811  93.97853495\n",
      "   96.2832753   96.89244283  97.59572169  96.10020311]\n",
      " [ 96.10020311  95.17750125  99.32066924  97.65393524  95.93799169\n",
      "   96.34622848  96.96851209  98.00253006  97.10439252]\n",
      " [ 96.76814836  96.59385486  99.57859892  97.85230675  98.29243952\n",
      "   96.5937781   97.57544275  98.07122664  97.24130034]\n",
      " [ 96.78266211  97.10439252 100.28690912  99.4889538   98.61325194\n",
      "   98.65912661  97.94046856  98.56783189  97.62787811]\n",
      " [ 97.21315663  98.29687616 100.40118279  99.95827854  98.74986914\n",
      "   98.74767493  97.99762409  99.58664719  97.85230675]\n",
      " [ 97.49594839  99.62387832 100.80409326 100.61742813  98.80084371\n",
      "   98.75108352  98.37481387  99.92159953  98.75108352]\n",
      " [ 99.14931546  99.84251605 101.5363647  100.72418901  99.94318168\n",
      "   98.80833412  98.72774132 100.07721494  99.14931546]\n",
      " [ 99.80873105 100.37372248 101.79132774 101.20773355 100.44940274\n",
      "   99.35999981  98.87007532 101.13442416 100.07721494]\n",
      " [100.39303522 100.96781394 102.17642112 101.34745901 100.69156231\n",
      "   99.69982772  99.07551254 101.23162942 100.28690912]\n",
      " [101.20862522 101.63973121 102.26648279 102.55198606 101.08830521\n",
      "   99.99579473 100.79478953 102.20618501 100.39303522]\n",
      " [101.3514185  102.82360856 103.19258339 102.93039474 101.29326772\n",
      "  100.85447132 101.2226037  102.35313953 100.96781394]\n",
      " [101.86186193 102.97585605 104.03478031 104.40518318 101.83462816\n",
      "  101.72074646 101.32113654 103.29147111 101.2226037 ]\n",
      " [102.80387079 103.5730309  104.51786419 105.02389857 102.45651798\n",
      "  101.83845792 103.05289628 103.83852459 101.34745901]\n",
      " [103.1521596  103.61720152 104.63817694 105.85269352 103.05541444\n",
      "  102.62384733 104.60344836 103.93383957 103.40412146]\n",
      " [105.30350449 104.03852715 106.46476468 106.57052697 105.0320535\n",
      "  103.40412146 105.07475277 104.15899829 104.15899829]\n",
      " [106.11454989 106.57364584 106.47551845 107.40064604 105.13668343\n",
      "  105.37011896 105.7197853  104.70526438 106.57364584]\n",
      " [106.71751618 107.02874163 106.6471081  110.18889465 105.48508838\n",
      "  105.95297652 106.05042487 106.03868807 106.89005002]\n",
      " [106.89005002 107.22482426 107.19119932 110.43976681 105.86078488\n",
      "  108.09423367 106.1472841  106.54654286 107.22482426]\n",
      " [110.44484313 109.40523174 107.43534677 113.42090475 106.39798503\n",
      "  108.57980357 106.38276709 106.83273763 110.44484313]]\n"
     ]
    }
   ],
   "source": [
    "# values sorted for each column\n",
    "\n",
    "sorted = np.sort(dataset, axis=0) # axis = 0 column wise; axis = 1, row-wise sorting\n",
    "print(sorted)"
   ]
  },
  {
   "cell_type": "code",
   "execution_count": 9,
   "metadata": {},
   "outputs": [
    {
     "name": "stdout",
     "output_type": "stream",
     "text": [
      "[ 0  1  2  3  4  5  6  7  8  9 10 11 12 13 14 15 16 17 18 19 20 21 22 23]\n"
     ]
    }
   ],
   "source": [
    "# indices of positions for each row\n",
    "\n",
    "row_indices = np.arange(dataset.shape[0])\n",
    "print(row_indices)"
   ]
  },
  {
   "cell_type": "markdown",
   "metadata": {},
   "source": [
    "---"
   ]
  },
  {
   "cell_type": "markdown",
   "metadata": {},
   "source": [
    "#### Combining"
   ]
  },
  {
   "cell_type": "markdown",
   "metadata": {},
   "source": [
    "After finishing their visualization and doing ask you to deliver a way they can incrementally add the split parts of the dataset to make sure it works with every subset, too.   \n",
    "They want you to send them examples for:\n",
    "- adding the second half of the first column\n",
    "- adding the second column\n",
    "- adding the third and last separate column\n"
   ]
  },
  {
   "cell_type": "code",
   "execution_count": 10,
   "metadata": {},
   "outputs": [
    {
     "data": {
      "text/plain": [
       "array([[ 99.14931546, 104.03852715, 107.43534677],\n",
       "       [ 92.02628776,  97.10439252,  99.32066924],\n",
       "       [ 95.66253664,  95.17750125,  90.93318132],\n",
       "       [ 91.37294597, 100.96781394, 100.40118279],\n",
       "       [101.20862522, 103.5730309 , 100.28690912],\n",
       "       [102.80387079,  98.29687616,  93.24376389],\n",
       "       [106.71751618, 102.97585605,  98.45723272],\n",
       "       [ 96.02548256, 102.82360856, 106.47551845],\n",
       "       [105.30350449,  92.87730812, 103.19258339],\n",
       "       [110.44484313,  93.87155456, 101.5363647 ],\n",
       "       [101.3514185 , 100.37372248, 106.6471081 ],\n",
       "       [ 97.21315663, 107.02874163, 102.17642112]])"
      ]
     },
     "execution_count": 10,
     "metadata": {},
     "output_type": "execute_result"
    }
   ],
   "source": [
    "# split up dataset from activity03\n",
    "thirds = np.hsplit(dataset, (3))\n",
    "halfed_first = np.vsplit(thirds[0], (2))\n",
    "\n",
    "# this is the part we've sent the client in activity03\n",
    "halfed_first[0]"
   ]
  },
  {
   "cell_type": "code",
   "execution_count": 11,
   "metadata": {},
   "outputs": [],
   "source": [
    "# adding the second half of the first column to the data\n"
   ]
  },
  {
   "cell_type": "code",
   "execution_count": 12,
   "metadata": {},
   "outputs": [],
   "source": [
    "# adding the second column to our combined dataset\n"
   ]
  },
  {
   "cell_type": "code",
   "execution_count": 13,
   "metadata": {},
   "outputs": [],
   "source": [
    "# adding the third column to our combined dataset\n"
   ]
  },
  {
   "cell_type": "markdown",
   "metadata": {},
   "source": [
    "> **Note:**    \n",
    "The same results can be achieved with `np.concatenate` and `np.stack`.    \n",
    "For both methods, you need to provide the axis onto which it should be appended.   \n",
    "Depending on your preferences you might want to use those."
   ]
  },
  {
   "cell_type": "markdown",
   "metadata": {},
   "source": [
    "---"
   ]
  },
  {
   "cell_type": "markdown",
   "metadata": {},
   "source": [
    "#### Reshaping"
   ]
  },
  {
   "cell_type": "markdown",
   "metadata": {},
   "source": [
    "For their internal AI algorithms, they need the dataset in a reshaped manner that reduces the number of columns.   \n",
    "They asked us to deliver the whole dataset in the following shapes:\n",
    "- reshaped in a one-dimensional list with all values\n",
    "- reshaped in a matrix with only 2 columns"
   ]
  },
  {
   "cell_type": "code",
   "execution_count": 14,
   "metadata": {},
   "outputs": [],
   "source": [
    "# reshaping to a list of values\n"
   ]
  },
  {
   "cell_type": "code",
   "execution_count": 15,
   "metadata": {},
   "outputs": [],
   "source": [
    "# reshaping to a matrix with two columns\n"
   ]
  },
  {
   "cell_type": "markdown",
   "metadata": {},
   "source": [
    "> **Note:**   \n",
    "-1 in the dimension definition means that it figures out the other dimension on its own"
   ]
  }
 ],
 "metadata": {
  "kernelspec": {
   "display_name": "Python 3 (ipykernel)",
   "language": "python",
   "name": "python3"
  },
  "language_info": {
   "codemirror_mode": {
    "name": "ipython",
    "version": 3
   },
   "file_extension": ".py",
   "mimetype": "text/x-python",
   "name": "python",
   "nbconvert_exporter": "python",
   "pygments_lexer": "ipython3",
   "version": "3.10.8"
  }
 },
 "nbformat": 4,
 "nbformat_minor": 4
}

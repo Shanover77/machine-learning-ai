{
 "cells": [
  {
   "cell_type": "markdown",
   "metadata": {},
   "source": [
    "## Activity 02: Indexing, Slicing, and Iterating"
   ]
  },
  {
   "cell_type": "markdown",
   "metadata": {},
   "source": [
    "Our client wants to prove that our dataset is nicely distributed around the mean value of 100.   \n",
    "They asked us to run some tests on several subsections of it to make sure they won't get a non-descriptive section of our data.\n",
    "\n",
    "Look at the mean value of each subtask."
   ]
  },
  {
   "cell_type": "markdown",
   "metadata": {},
   "source": [
    "#### Loading the dataset"
   ]
  },
  {
   "cell_type": "code",
   "execution_count": 1,
   "metadata": {},
   "outputs": [],
   "source": [
    "# importing the necessary dependencies\n",
    "import numpy as np"
   ]
  },
  {
   "cell_type": "code",
   "execution_count": 2,
   "metadata": {},
   "outputs": [],
   "source": [
    "# loading the Dataset\n",
    "dataset = np.genfromtxt('./data/normal_distribution.csv', delimiter=',')"
   ]
  },
  {
   "cell_type": "code",
   "execution_count": 3,
   "metadata": {},
   "outputs": [
    {
     "data": {
      "text/plain": [
       "array([[ 99.14931546, 104.03852715, 107.43534677,  97.85230675,\n",
       "         98.74986914,  98.80833412,  96.81964892,  98.56783189,\n",
       "        101.34745901],\n",
       "       [ 92.02628776,  97.10439252,  99.32066924,  97.24584816,\n",
       "         92.9267508 ,  92.65657752, 105.7197853 , 101.23162942,\n",
       "         93.87155456],\n",
       "       [ 95.66253664,  95.17750125,  90.93318132, 110.18889465,\n",
       "         98.80084371, 105.95297652,  98.37481387, 106.54654286,\n",
       "        107.22482426],\n",
       "       [ 91.37294597, 100.96781394, 100.40118279, 113.42090475,\n",
       "        105.48508838,  91.6604946 , 106.1472841 ,  95.08715803,\n",
       "        103.40412146],\n",
       "       [101.20862522, 103.5730309 , 100.28690912, 105.85269352,\n",
       "         93.37126331, 108.57980357, 100.79478953,  94.20019732,\n",
       "         96.10020311],\n",
       "       [102.80387079,  98.29687616,  93.24376389,  97.24130034,\n",
       "         89.03452725,  96.2832753 , 104.60344836, 101.13442416,\n",
       "         97.62787811],\n",
       "       [106.71751618, 102.97585605,  98.45723272, 100.72418901,\n",
       "        106.39798503,  95.46493436,  94.35373179, 106.83273763,\n",
       "        100.07721494],\n",
       "       [ 96.02548256, 102.82360856, 106.47551845, 101.34745901,\n",
       "        102.45651798,  98.74767493,  97.57544275,  92.5748759 ,\n",
       "         91.37294597],\n",
       "       [105.30350449,  92.87730812, 103.19258339, 104.40518318,\n",
       "        101.29326772, 100.85447132, 101.2226037 , 106.03868807,\n",
       "         97.85230675],\n",
       "       [110.44484313,  93.87155456, 101.5363647 ,  97.65393524,\n",
       "         92.75048583, 101.72074646,  96.96851209, 103.29147111,\n",
       "         99.14931546],\n",
       "       [101.3514185 , 100.37372248, 106.6471081 , 100.61742813,\n",
       "        105.0320535 ,  99.35999981,  98.87007532,  95.85284217,\n",
       "         93.97853495],\n",
       "       [ 97.21315663, 107.02874163, 102.17642112,  96.74630281,\n",
       "         95.93799169, 102.62384733, 105.07475277,  97.59572169,\n",
       "        106.57364584],\n",
       "       [ 95.65982034, 107.22482426, 107.19119932, 102.93039474,\n",
       "         85.98839623,  95.19184343,  91.32093303, 102.35313953,\n",
       "        100.39303522],\n",
       "       [100.39303522,  92.0108226 ,  97.75887636,  93.18884302,\n",
       "        100.44940274, 108.09423367,  96.50342927,  99.58664719,\n",
       "         95.19184343],\n",
       "       [103.1521596 , 109.40523174,  93.83969256,  99.95827854,\n",
       "        101.83462816,  99.69982772, 103.05289628, 103.93383957,\n",
       "        104.15899829],\n",
       "       [106.11454989,  88.80221141,  94.5081787 ,  94.59300658,\n",
       "        101.08830521,  96.34622848,  96.89244283,  98.07122664,\n",
       "        100.28690912],\n",
       "       [ 96.78266211,  99.84251605, 104.03478031, 106.57052697,\n",
       "        105.13668343, 105.37011896,  99.07551254, 104.15899829,\n",
       "         98.75108352],\n",
       "       [101.86186193, 103.61720152,  99.57859892,  99.4889538 ,\n",
       "        103.05541444,  98.65912661,  98.72774132, 104.70526438,\n",
       "        110.44484313],\n",
       "       [ 97.49594839,  96.59385486, 104.63817694, 102.55198606,\n",
       "        105.86078488,  96.5937781 ,  93.04610867,  99.92159953,\n",
       "        100.96781394],\n",
       "       [ 96.76814836,  91.6779221 , 101.79132774, 101.20773355,\n",
       "         98.29243952, 101.83845792,  97.94046856, 102.20618501,\n",
       "         91.37294597],\n",
       "       [106.89005002, 106.57364584, 102.26648279, 107.40064604,\n",
       "         99.94318168, 103.40412146, 106.38276709,  98.00253006,\n",
       "         97.10439252],\n",
       "       [ 99.80873105, 101.63973121, 106.46476468, 110.43976681,\n",
       "        100.69156231,  99.99579473, 101.32113654,  94.76253572,\n",
       "         97.24130034],\n",
       "       [ 96.10020311,  94.57421727, 100.80409326, 105.02389857,\n",
       "         98.61325194,  95.62359311,  97.99762409, 103.83852459,\n",
       "        101.2226037 ],\n",
       "       [ 94.11176915,  99.62387832, 104.51786419,  97.62787811,\n",
       "         93.97853495,  98.75108352, 106.05042487, 100.07721494,\n",
       "        106.89005002]])"
      ]
     },
     "execution_count": 3,
     "metadata": {},
     "output_type": "execute_result"
    }
   ],
   "source": [
    "dataset"
   ]
  },
  {
   "cell_type": "markdown",
   "metadata": {},
   "source": [
    "---"
   ]
  },
  {
   "cell_type": "markdown",
   "metadata": {},
   "source": [
    "#### Indexing"
   ]
  },
  {
   "cell_type": "markdown",
   "metadata": {},
   "source": [
    "Since we need several rows of our dataset to complete the given task, we have to use indexing to get the right rows.   \n",
    "To recap, we need: \n",
    "- the second row \n",
    "- the last row\n",
    "- the first value of the first row\n",
    "- the last value of the second to the last row"
   ]
  },
  {
   "cell_type": "code",
   "execution_count": 4,
   "metadata": {},
   "outputs": [
    {
     "name": "stdout",
     "output_type": "stream",
     "text": [
      "[ 92.02628776  97.10439252  99.32066924  97.24584816  92.9267508\n",
      "  92.65657752 105.7197853  101.23162942  93.87155456]\n"
     ]
    }
   ],
   "source": [
    "# indexing the second row of the dataset (2nd row)\n",
    "\n",
    "second_row = dataset[1]\n",
    "print(second_row)"
   ]
  },
  {
   "cell_type": "code",
   "execution_count": 5,
   "metadata": {},
   "outputs": [
    {
     "name": "stdout",
     "output_type": "stream",
     "text": [
      "[[ 94.11176915  99.62387832 104.51786419  97.62787811  93.97853495\n",
      "   98.75108352 106.05042487 100.07721494 106.89005002]]\n"
     ]
    }
   ],
   "source": [
    "# indexing the last element of the dataset (last row)\n",
    "\n",
    "last_element = dataset[-1:]\n",
    "print(last_element)"
   ]
  },
  {
   "cell_type": "code",
   "execution_count": 18,
   "metadata": {},
   "outputs": [
    {
     "name": "stdout",
     "output_type": "stream",
     "text": [
      "92.02628776\n"
     ]
    }
   ],
   "source": [
    "# indexing the first value of the second row (1st row, 1st value)\n",
    "\n",
    "print(dataset[1][0])"
   ]
  },
  {
   "cell_type": "code",
   "execution_count": 7,
   "metadata": {},
   "outputs": [
    {
     "name": "stdout",
     "output_type": "stream",
     "text": [
      "101.2226037\n"
     ]
    }
   ],
   "source": [
    "# indexing the last value of the second to last row (we want to use the combined access syntax here) \n",
    "\n",
    "print(dataset[-2,-1])"
   ]
  },
  {
   "cell_type": "markdown",
   "metadata": {},
   "source": [
    "---"
   ]
  },
  {
   "cell_type": "markdown",
   "metadata": {},
   "source": [
    "#### Slicing"
   ]
  },
  {
   "cell_type": "markdown",
   "metadata": {},
   "source": [
    "Other than the single rows and values we also need to get some subsets of the dataset.   \n",
    "Here we want slices:\n",
    "- a 2x2 slice starting from the second row and second element to the 4th element in the 4th row\n",
    "- every other element of the 5th row\n",
    "- the content of the last row in reversed order"
   ]
  },
  {
   "cell_type": "code",
   "execution_count": 8,
   "metadata": {},
   "outputs": [
    {
     "name": "stdout",
     "output_type": "stream",
     "text": [
      "[[ 99.14931546 104.03852715]\n",
      " [ 92.02628776  97.10439252]]\n"
     ]
    }
   ],
   "source": [
    "# slicing an intersection of 4 elements (2x2) of the first two rows and first two columns\n",
    "\n",
    "print(dataset[:2,:2])"
   ]
  },
  {
   "cell_type": "markdown",
   "metadata": {},
   "source": [
    "##### Why is it not a problem if such a small subsection has a bigger standard deviation from 100?"
   ]
  },
  {
   "cell_type": "markdown",
   "metadata": {},
   "source": [
    "Several smaller values can cluster in such a small subsection leading to the value being really low.   \n",
    "If we make our subsection larger, we have a higher chance of getting a more expressive view of our data."
   ]
  },
  {
   "cell_type": "code",
   "execution_count": 22,
   "metadata": {},
   "outputs": [
    {
     "name": "stdout",
     "output_type": "stream",
     "text": [
      "[101.20862522 100.28690912  93.37126331 100.79478953  96.10020311]\n"
     ]
    }
   ],
   "source": [
    "# selecting every second element of the fifth row \n",
    "\n",
    "print(dataset[4,::2])"
   ]
  },
  {
   "cell_type": "code",
   "execution_count": 10,
   "metadata": {},
   "outputs": [
    {
     "name": "stdout",
     "output_type": "stream",
     "text": [
      "rev: [107.22482426 106.54654286  98.37481387 105.95297652  98.80084371\n",
      " 110.18889465  90.93318132  95.17750125  95.66253664]\n"
     ]
    }
   ],
   "source": [
    "# reversing the entry order, selecting the first two rows in reversed order\n",
    "\n",
    "print('rev:',dataset[2,::-1])"
   ]
  },
  {
   "cell_type": "markdown",
   "metadata": {},
   "source": [
    "---"
   ]
  },
  {
   "cell_type": "markdown",
   "metadata": {},
   "source": [
    "#### Splitting"
   ]
  },
  {
   "cell_type": "markdown",
   "metadata": {},
   "source": [
    "Our client's team only wants to use a small subset of the given dataset.   \n",
    "Therefore we need to first split it into 3 equal pieces and then give them the first half of the first split.   \n",
    "They sent us this drawing to show us what they need:\n",
    "```\n",
    "1, 2, 3, 4, 5, 6          1, 2     3, 4    5, 6          1, 2  \n",
    "3, 2, 1, 5, 4, 6    =>    3, 2     1, 5    4, 6    =>    3, 2    =>    1, 2\n",
    "5, 3, 1, 2, 4, 3          5, 3     1, 2    4, 3                        3, 2\n",
    "1, 2, 2, 4, 1, 5          1, 2     2, 4    1, 5          5, 3\n",
    "                                                         1, 2\n",
    "```\n",
    "\n",
    "> **Note:**   \n",
    "We are using a very small dataset here but imagine you have a huge amount of data and only want to look at a small subset of it to tweak your visualizations"
   ]
  },
  {
   "cell_type": "code",
   "execution_count": 11,
   "metadata": {},
   "outputs": [
    {
     "name": "stdout",
     "output_type": "stream",
     "text": [
      "8 16\n",
      "1st: (8, 9)\n",
      "2nd: (16, 9)\n"
     ]
    }
   ],
   "source": [
    "# splitting up our dataset horizontally on indices one third and two thirds\n",
    "\n",
    "\n",
    "# horizontal version1\n",
    "dataset.shape\n",
    "first_split = int(24 * 1/3)\n",
    "second_split = int(24 * 2/3)\n",
    "print(first_split, second_split)\n",
    "\n",
    "first_split_arr = dataset[:first_split]\n",
    "print('1st:',first_split_arr.shape)\n",
    "\n",
    "second_split_arr = dataset[first_split:]\n",
    "print('2nd:',second_split_arr.shape)\n"
   ]
  },
  {
   "cell_type": "code",
   "execution_count": 12,
   "metadata": {},
   "outputs": [
    {
     "name": "stdout",
     "output_type": "stream",
     "text": [
      "8 16\n",
      "1st: (8, 9)\n",
      "2nd: (16, 9)\n"
     ]
    }
   ],
   "source": [
    "# splitting up our dataset horizontally on indices one third and two thirds\n",
    "\n",
    "\n",
    "# my approachhorizontal version1\n",
    "dataset.shape\n",
    "first_split = int(24 * 1/3)\n",
    "second_split = int(24 * 2/3)\n",
    "print(first_split, second_split)\n",
    "\n",
    "first_split_arr = dataset[:first_split]\n",
    "print('1st:',first_split_arr.shape)\n",
    "\n",
    "second_split_arr = dataset[first_split:]\n",
    "print('2nd:',second_split_arr.shape)"
   ]
  },
  {
   "cell_type": "code",
   "execution_count": 28,
   "metadata": {},
   "outputs": [
    {
     "name": "stdout",
     "output_type": "stream",
     "text": [
      "1/3: [[ 99.14931546 104.03852715 107.43534677]\n",
      " [ 92.02628776  97.10439252  99.32066924]\n",
      " [ 95.66253664  95.17750125  90.93318132]\n",
      " [ 91.37294597 100.96781394 100.40118279]\n",
      " [101.20862522 103.5730309  100.28690912]\n",
      " [102.80387079  98.29687616  93.24376389]\n",
      " [106.71751618 102.97585605  98.45723272]\n",
      " [ 96.02548256 102.82360856 106.47551845]\n",
      " [105.30350449  92.87730812 103.19258339]\n",
      " [110.44484313  93.87155456 101.5363647 ]\n",
      " [101.3514185  100.37372248 106.6471081 ]\n",
      " [ 97.21315663 107.02874163 102.17642112]\n",
      " [ 95.65982034 107.22482426 107.19119932]\n",
      " [100.39303522  92.0108226   97.75887636]\n",
      " [103.1521596  109.40523174  93.83969256]\n",
      " [106.11454989  88.80221141  94.5081787 ]\n",
      " [ 96.78266211  99.84251605 104.03478031]\n",
      " [101.86186193 103.61720152  99.57859892]\n",
      " [ 97.49594839  96.59385486 104.63817694]\n",
      " [ 96.76814836  91.6779221  101.79132774]\n",
      " [106.89005002 106.57364584 102.26648279]\n",
      " [ 99.80873105 101.63973121 106.46476468]\n",
      " [ 96.10020311  94.57421727 100.80409326]\n",
      " [ 94.11176915  99.62387832 104.51786419]]\n",
      "...................\n",
      "2/3: [array([[ 97.85230675,  98.74986914,  98.80833412],\n",
      "       [ 97.24584816,  92.9267508 ,  92.65657752],\n",
      "       [110.18889465,  98.80084371, 105.95297652],\n",
      "       [113.42090475, 105.48508838,  91.6604946 ],\n",
      "       [105.85269352,  93.37126331, 108.57980357],\n",
      "       [ 97.24130034,  89.03452725,  96.2832753 ],\n",
      "       [100.72418901, 106.39798503,  95.46493436],\n",
      "       [101.34745901, 102.45651798,  98.74767493],\n",
      "       [104.40518318, 101.29326772, 100.85447132],\n",
      "       [ 97.65393524,  92.75048583, 101.72074646],\n",
      "       [100.61742813, 105.0320535 ,  99.35999981],\n",
      "       [ 96.74630281,  95.93799169, 102.62384733],\n",
      "       [102.93039474,  85.98839623,  95.19184343],\n",
      "       [ 93.18884302, 100.44940274, 108.09423367],\n",
      "       [ 99.95827854, 101.83462816,  99.69982772],\n",
      "       [ 94.59300658, 101.08830521,  96.34622848],\n",
      "       [106.57052697, 105.13668343, 105.37011896],\n",
      "       [ 99.4889538 , 103.05541444,  98.65912661],\n",
      "       [102.55198606, 105.86078488,  96.5937781 ],\n",
      "       [101.20773355,  98.29243952, 101.83845792],\n",
      "       [107.40064604,  99.94318168, 103.40412146],\n",
      "       [110.43976681, 100.69156231,  99.99579473],\n",
      "       [105.02389857,  98.61325194,  95.62359311],\n",
      "       [ 97.62787811,  93.97853495,  98.75108352]]), array([[ 96.81964892,  98.56783189, 101.34745901],\n",
      "       [105.7197853 , 101.23162942,  93.87155456],\n",
      "       [ 98.37481387, 106.54654286, 107.22482426],\n",
      "       [106.1472841 ,  95.08715803, 103.40412146],\n",
      "       [100.79478953,  94.20019732,  96.10020311],\n",
      "       [104.60344836, 101.13442416,  97.62787811],\n",
      "       [ 94.35373179, 106.83273763, 100.07721494],\n",
      "       [ 97.57544275,  92.5748759 ,  91.37294597],\n",
      "       [101.2226037 , 106.03868807,  97.85230675],\n",
      "       [ 96.96851209, 103.29147111,  99.14931546],\n",
      "       [ 98.87007532,  95.85284217,  93.97853495],\n",
      "       [105.07475277,  97.59572169, 106.57364584],\n",
      "       [ 91.32093303, 102.35313953, 100.39303522],\n",
      "       [ 96.50342927,  99.58664719,  95.19184343],\n",
      "       [103.05289628, 103.93383957, 104.15899829],\n",
      "       [ 96.89244283,  98.07122664, 100.28690912],\n",
      "       [ 99.07551254, 104.15899829,  98.75108352],\n",
      "       [ 98.72774132, 104.70526438, 110.44484313],\n",
      "       [ 93.04610867,  99.92159953, 100.96781394],\n",
      "       [ 97.94046856, 102.20618501,  91.37294597],\n",
      "       [106.38276709,  98.00253006,  97.10439252],\n",
      "       [101.32113654,  94.76253572,  97.24130034],\n",
      "       [ 97.99762409, 103.83852459, 101.2226037 ],\n",
      "       [106.05042487, 100.07721494, 106.89005002]])]\n"
     ]
    }
   ],
   "source": [
    "# class approach\n",
    "\n",
    "hsplits = np.hsplit(dataset, (3))\n",
    "first_split = hsplits[0]\n",
    "second_split = [hsplits[1],hsplits[2]]\n",
    "\n",
    "print('1/3:',first_split)\n",
    "print('...................')\n",
    "print('2/3:',second_split)\n",
    "\n",
    "# vsplits = np.vsplit(hsplits[0],(2))\n",
    "# print(vsplits[0])"
   ]
  },
  {
   "cell_type": "code",
   "execution_count": 23,
   "metadata": {},
   "outputs": [
    {
     "data": {
      "text/plain": [
       "(24, 9)"
      ]
     },
     "execution_count": 23,
     "metadata": {},
     "output_type": "execute_result"
    }
   ],
   "source": [
    "dataset.shape"
   ]
  },
  {
   "cell_type": "code",
   "execution_count": 14,
   "metadata": {},
   "outputs": [
    {
     "name": "stdout",
     "output_type": "stream",
     "text": [
      "(24, 2)\n",
      "(24, 7)\n"
     ]
    }
   ],
   "source": [
    "# splitting up our dataset vertically on index 2\n",
    "\n",
    "first_split = dataset[:,:2]\n",
    "print(first_split.shape)\n",
    "\n",
    "second_split = dataset[:,2:]\n",
    "print(second_split.shape)"
   ]
  },
  {
   "cell_type": "markdown",
   "metadata": {},
   "source": [
    "---"
   ]
  },
  {
   "cell_type": "markdown",
   "metadata": {},
   "source": [
    "#### Iterating"
   ]
  },
  {
   "cell_type": "markdown",
   "metadata": {},
   "source": [
    "Once you sent over the dataset they tell you that they also need a way iterate over the whole dataset element by element as if it would be a one-dimensional list.   \n",
    "However, they want to also now the position in the dataset itself.\n",
    "\n",
    "They send you this piece of code and tell you that it's not working as mentioned.   \n",
    "Come up with the right solution for their needs."
   ]
  },
  {
   "cell_type": "code",
   "execution_count": 15,
   "metadata": {},
   "outputs": [
    {
     "name": "stdout",
     "output_type": "stream",
     "text": [
      "99.14931546 0\n",
      "104.03852715 1\n",
      "107.43534677 2\n",
      "97.85230675 3\n",
      "98.74986914 4\n",
      "98.80833412 5\n",
      "96.81964892 6\n",
      "98.56783189 7\n",
      "101.34745901 8\n",
      "92.02628776 9\n",
      "97.10439252 10\n",
      "99.32066924 11\n",
      "97.24584816 12\n",
      "92.9267508 13\n",
      "92.65657752 14\n",
      "105.7197853 15\n",
      "101.23162942 16\n",
      "93.87155456 17\n",
      "95.66253664 18\n",
      "95.17750125 19\n",
      "90.93318132 20\n",
      "110.18889465 21\n",
      "98.80084371 22\n",
      "105.95297652 23\n",
      "98.37481387 24\n",
      "106.54654286 25\n",
      "107.22482426 26\n",
      "91.37294597 27\n",
      "100.96781394 28\n",
      "100.40118279 29\n",
      "113.42090475 30\n",
      "105.48508838 31\n",
      "91.6604946 32\n",
      "106.1472841 33\n",
      "95.08715803 34\n",
      "103.40412146 35\n",
      "101.20862522 36\n",
      "103.5730309 37\n",
      "100.28690912 38\n",
      "105.85269352 39\n",
      "93.37126331 40\n",
      "108.57980357 41\n",
      "100.79478953 42\n",
      "94.20019732 43\n",
      "96.10020311 44\n",
      "102.80387079 45\n",
      "98.29687616 46\n",
      "93.24376389 47\n",
      "97.24130034 48\n",
      "89.03452725 49\n",
      "96.2832753 50\n",
      "104.60344836 51\n",
      "101.13442416 52\n",
      "97.62787811 53\n",
      "106.71751618 54\n",
      "102.97585605 55\n",
      "98.45723272 56\n",
      "100.72418901 57\n",
      "106.39798503 58\n",
      "95.46493436 59\n",
      "94.35373179 60\n",
      "106.83273763 61\n",
      "100.07721494 62\n",
      "96.02548256 63\n",
      "102.82360856 64\n",
      "106.47551845 65\n",
      "101.34745901 66\n",
      "102.45651798 67\n",
      "98.74767493 68\n",
      "97.57544275 69\n",
      "92.5748759 70\n",
      "91.37294597 71\n",
      "105.30350449 72\n",
      "92.87730812 73\n",
      "103.19258339 74\n",
      "104.40518318 75\n",
      "101.29326772 76\n",
      "100.85447132 77\n",
      "101.2226037 78\n",
      "106.03868807 79\n",
      "97.85230675 80\n",
      "110.44484313 81\n",
      "93.87155456 82\n",
      "101.5363647 83\n",
      "97.65393524 84\n",
      "92.75048583 85\n",
      "101.72074646 86\n",
      "96.96851209 87\n",
      "103.29147111 88\n",
      "99.14931546 89\n",
      "101.3514185 90\n",
      "100.37372248 91\n",
      "106.6471081 92\n",
      "100.61742813 93\n",
      "105.0320535 94\n",
      "99.35999981 95\n",
      "98.87007532 96\n",
      "95.85284217 97\n",
      "93.97853495 98\n",
      "97.21315663 99\n",
      "107.02874163 100\n",
      "102.17642112 101\n",
      "96.74630281 102\n",
      "95.93799169 103\n",
      "102.62384733 104\n",
      "105.07475277 105\n",
      "97.59572169 106\n",
      "106.57364584 107\n",
      "95.65982034 108\n",
      "107.22482426 109\n",
      "107.19119932 110\n",
      "102.93039474 111\n",
      "85.98839623 112\n",
      "95.19184343 113\n",
      "91.32093303 114\n",
      "102.35313953 115\n",
      "100.39303522 116\n",
      "100.39303522 117\n",
      "92.0108226 118\n",
      "97.75887636 119\n",
      "93.18884302 120\n",
      "100.44940274 121\n",
      "108.09423367 122\n",
      "96.50342927 123\n",
      "99.58664719 124\n",
      "95.19184343 125\n",
      "103.1521596 126\n",
      "109.40523174 127\n",
      "93.83969256 128\n",
      "99.95827854 129\n",
      "101.83462816 130\n",
      "99.69982772 131\n",
      "103.05289628 132\n",
      "103.93383957 133\n",
      "104.15899829 134\n",
      "106.11454989 135\n",
      "88.80221141 136\n",
      "94.5081787 137\n",
      "94.59300658 138\n",
      "101.08830521 139\n",
      "96.34622848 140\n",
      "96.89244283 141\n",
      "98.07122664 142\n",
      "100.28690912 143\n",
      "96.78266211 144\n",
      "99.84251605 145\n",
      "104.03478031 146\n",
      "106.57052697 147\n",
      "105.13668343 148\n",
      "105.37011896 149\n",
      "99.07551254 150\n",
      "104.15899829 151\n",
      "98.75108352 152\n",
      "101.86186193 153\n",
      "103.61720152 154\n",
      "99.57859892 155\n",
      "99.4889538 156\n",
      "103.05541444 157\n",
      "98.65912661 158\n",
      "98.72774132 159\n",
      "104.70526438 160\n",
      "110.44484313 161\n",
      "97.49594839 162\n",
      "96.59385486 163\n",
      "104.63817694 164\n",
      "102.55198606 165\n",
      "105.86078488 166\n",
      "96.5937781 167\n",
      "93.04610867 168\n",
      "99.92159953 169\n",
      "100.96781394 170\n",
      "96.76814836 171\n",
      "91.6779221 172\n",
      "101.79132774 173\n",
      "101.20773355 174\n",
      "98.29243952 175\n",
      "101.83845792 176\n",
      "97.94046856 177\n",
      "102.20618501 178\n",
      "91.37294597 179\n",
      "106.89005002 180\n",
      "106.57364584 181\n",
      "102.26648279 182\n",
      "107.40064604 183\n",
      "99.94318168 184\n",
      "103.40412146 185\n",
      "106.38276709 186\n",
      "98.00253006 187\n",
      "97.10439252 188\n",
      "99.80873105 189\n",
      "101.63973121 190\n",
      "106.46476468 191\n",
      "110.43976681 192\n",
      "100.69156231 193\n",
      "99.99579473 194\n",
      "101.32113654 195\n",
      "94.76253572 196\n",
      "97.24130034 197\n",
      "96.10020311 198\n",
      "94.57421727 199\n",
      "100.80409326 200\n",
      "105.02389857 201\n",
      "98.61325194 202\n",
      "95.62359311 203\n",
      "97.99762409 204\n",
      "103.83852459 205\n",
      "101.2226037 206\n",
      "94.11176915 207\n",
      "99.62387832 208\n",
      "104.51786419 209\n",
      "97.62787811 210\n",
      "93.97853495 211\n",
      "98.75108352 212\n",
      "106.05042487 213\n",
      "100.07721494 214\n",
      "106.89005002 215\n"
     ]
    }
   ],
   "source": [
    "# iterating over whole dataset (each value in each row)\n",
    "curr_index = 0\n",
    "\n",
    "for x in np.nditer(dataset):\n",
    "    print(x, curr_index)\n",
    "    curr_index += 1"
   ]
  },
  {
   "cell_type": "code",
   "execution_count": 16,
   "metadata": {},
   "outputs": [],
   "source": [
    "# iterating over the whole dataset with indices matching the position in the dataset\n",
    "\n"
   ]
  },
  {
   "cell_type": "code",
   "execution_count": null,
   "metadata": {},
   "outputs": [],
   "source": []
  }
 ],
 "metadata": {
  "kernelspec": {
   "display_name": "Python 3 (ipykernel)",
   "language": "python",
   "name": "python3"
  },
  "language_info": {
   "codemirror_mode": {
    "name": "ipython",
    "version": 3
   },
   "file_extension": ".py",
   "mimetype": "text/x-python",
   "name": "python",
   "nbconvert_exporter": "python",
   "pygments_lexer": "ipython3",
   "version": "3.10.8"
  }
 },
 "nbformat": 4,
 "nbformat_minor": 4
}

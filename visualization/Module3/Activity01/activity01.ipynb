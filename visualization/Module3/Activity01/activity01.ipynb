{
 "cells": [
  {
   "cell_type": "markdown",
   "metadata": {},
   "source": [
    "## Activity 01: Use NumPy to compute the Mean, Median, and Variance"
   ]
  },
  {
   "cell_type": "markdown",
   "metadata": {},
   "source": [
    "In this activity, you will consolidate the skills you've acquired in the last exercise and use NumPy to do some very basic mathematical calculations on our `normal_distribution` dataset.   \n",
    "NumPy has a consistent API, so it should be rather easy to transfer your knowledge of the mean method to median and variance. "
   ]
  },
  {
   "cell_type": "markdown",
   "metadata": {},
   "source": [
    "#### Loading the dataset"
   ]
  },
  {
   "cell_type": "code",
   "execution_count": 1,
   "metadata": {},
   "outputs": [],
   "source": [
    "# importing the necessary dependencies\n",
    "import numpy as np\n",
    "import pandas as pd"
   ]
  },
  {
   "cell_type": "code",
   "execution_count": 2,
   "metadata": {},
   "outputs": [],
   "source": [
    "# loading the Dataset\n",
    "dataset = np.genfromtxt('./data/normal_distribution.csv', delimiter=',')"
   ]
  },
  {
   "cell_type": "code",
   "execution_count": 3,
   "metadata": {},
   "outputs": [
    {
     "name": "stdout",
     "output_type": "stream",
     "text": [
      "<class 'pandas.core.frame.DataFrame'>\n",
      "RangeIndex: 24 entries, 0 to 23\n",
      "Data columns (total 8 columns):\n",
      " #   Column  Non-Null Count  Dtype  \n",
      "---  ------  --------------  -----  \n",
      " 0   A       24 non-null     float64\n",
      " 1   B       24 non-null     float64\n",
      " 2   C       24 non-null     float64\n",
      " 3   D       24 non-null     float64\n",
      " 4   E       24 non-null     float64\n",
      " 5   F       24 non-null     float64\n",
      " 6   G       24 non-null     float64\n",
      " 7   H       24 non-null     float64\n",
      "dtypes: float64(8)\n",
      "memory usage: 1.6 KB\n"
     ]
    }
   ],
   "source": [
    "# looking at the first two rows of the dataset\n",
    "df = pd.DataFrame(dataset, columns = ['A','B','C','D','E','F','G','H'])\n",
    "df.info()"
   ]
  },
  {
   "cell_type": "code",
   "execution_count": 4,
   "metadata": {},
   "outputs": [
    {
     "data": {
      "text/html": [
       "<div>\n",
       "<style scoped>\n",
       "    .dataframe tbody tr th:only-of-type {\n",
       "        vertical-align: middle;\n",
       "    }\n",
       "\n",
       "    .dataframe tbody tr th {\n",
       "        vertical-align: top;\n",
       "    }\n",
       "\n",
       "    .dataframe thead th {\n",
       "        text-align: right;\n",
       "    }\n",
       "</style>\n",
       "<table border=\"1\" class=\"dataframe\">\n",
       "  <thead>\n",
       "    <tr style=\"text-align: right;\">\n",
       "      <th></th>\n",
       "      <th>A</th>\n",
       "      <th>B</th>\n",
       "      <th>C</th>\n",
       "      <th>D</th>\n",
       "      <th>E</th>\n",
       "      <th>F</th>\n",
       "      <th>G</th>\n",
       "      <th>H</th>\n",
       "    </tr>\n",
       "  </thead>\n",
       "  <tbody>\n",
       "    <tr>\n",
       "      <th>0</th>\n",
       "      <td>99.149315</td>\n",
       "      <td>104.038527</td>\n",
       "      <td>107.435347</td>\n",
       "      <td>97.852307</td>\n",
       "      <td>98.749869</td>\n",
       "      <td>98.808334</td>\n",
       "      <td>96.819649</td>\n",
       "      <td>98.567832</td>\n",
       "    </tr>\n",
       "    <tr>\n",
       "      <th>1</th>\n",
       "      <td>92.026288</td>\n",
       "      <td>97.104393</td>\n",
       "      <td>99.320669</td>\n",
       "      <td>97.245848</td>\n",
       "      <td>92.926751</td>\n",
       "      <td>92.656578</td>\n",
       "      <td>105.719785</td>\n",
       "      <td>101.231629</td>\n",
       "    </tr>\n",
       "    <tr>\n",
       "      <th>2</th>\n",
       "      <td>95.662537</td>\n",
       "      <td>95.177501</td>\n",
       "      <td>90.933181</td>\n",
       "      <td>110.188895</td>\n",
       "      <td>98.800844</td>\n",
       "      <td>105.952977</td>\n",
       "      <td>98.374814</td>\n",
       "      <td>106.546543</td>\n",
       "    </tr>\n",
       "    <tr>\n",
       "      <th>3</th>\n",
       "      <td>91.372946</td>\n",
       "      <td>100.967814</td>\n",
       "      <td>100.401183</td>\n",
       "      <td>113.420905</td>\n",
       "      <td>105.485088</td>\n",
       "      <td>91.660495</td>\n",
       "      <td>106.147284</td>\n",
       "      <td>95.087158</td>\n",
       "    </tr>\n",
       "    <tr>\n",
       "      <th>4</th>\n",
       "      <td>101.208625</td>\n",
       "      <td>103.573031</td>\n",
       "      <td>100.286909</td>\n",
       "      <td>105.852694</td>\n",
       "      <td>93.371263</td>\n",
       "      <td>108.579804</td>\n",
       "      <td>100.794790</td>\n",
       "      <td>94.200197</td>\n",
       "    </tr>\n",
       "  </tbody>\n",
       "</table>\n",
       "</div>"
      ],
      "text/plain": [
       "            A           B           C           D           E           F   \n",
       "0   99.149315  104.038527  107.435347   97.852307   98.749869   98.808334  \\\n",
       "1   92.026288   97.104393   99.320669   97.245848   92.926751   92.656578   \n",
       "2   95.662537   95.177501   90.933181  110.188895   98.800844  105.952977   \n",
       "3   91.372946  100.967814  100.401183  113.420905  105.485088   91.660495   \n",
       "4  101.208625  103.573031  100.286909  105.852694   93.371263  108.579804   \n",
       "\n",
       "            G           H  \n",
       "0   96.819649   98.567832  \n",
       "1  105.719785  101.231629  \n",
       "2   98.374814  106.546543  \n",
       "3  106.147284   95.087158  \n",
       "4  100.794790   94.200197  "
      ]
     },
     "execution_count": 4,
     "metadata": {},
     "output_type": "execute_result"
    }
   ],
   "source": [
    "df.head()"
   ]
  },
  {
   "cell_type": "code",
   "execution_count": 5,
   "metadata": {},
   "outputs": [
    {
     "data": {
      "text/html": [
       "<div>\n",
       "<style scoped>\n",
       "    .dataframe tbody tr th:only-of-type {\n",
       "        vertical-align: middle;\n",
       "    }\n",
       "\n",
       "    .dataframe tbody tr th {\n",
       "        vertical-align: top;\n",
       "    }\n",
       "\n",
       "    .dataframe thead th {\n",
       "        text-align: right;\n",
       "    }\n",
       "</style>\n",
       "<table border=\"1\" class=\"dataframe\">\n",
       "  <thead>\n",
       "    <tr style=\"text-align: right;\">\n",
       "      <th></th>\n",
       "      <th>A</th>\n",
       "      <th>B</th>\n",
       "      <th>C</th>\n",
       "      <th>D</th>\n",
       "      <th>E</th>\n",
       "      <th>F</th>\n",
       "      <th>G</th>\n",
       "      <th>H</th>\n",
       "    </tr>\n",
       "  </thead>\n",
       "  <tbody>\n",
       "    <tr>\n",
       "      <th>19</th>\n",
       "      <td>96.768148</td>\n",
       "      <td>91.677922</td>\n",
       "      <td>101.791328</td>\n",
       "      <td>101.207734</td>\n",
       "      <td>98.292440</td>\n",
       "      <td>101.838458</td>\n",
       "      <td>97.940469</td>\n",
       "      <td>102.206185</td>\n",
       "    </tr>\n",
       "    <tr>\n",
       "      <th>20</th>\n",
       "      <td>106.890050</td>\n",
       "      <td>106.573646</td>\n",
       "      <td>102.266483</td>\n",
       "      <td>107.400646</td>\n",
       "      <td>99.943182</td>\n",
       "      <td>103.404121</td>\n",
       "      <td>106.382767</td>\n",
       "      <td>98.002530</td>\n",
       "    </tr>\n",
       "    <tr>\n",
       "      <th>21</th>\n",
       "      <td>99.808731</td>\n",
       "      <td>101.639731</td>\n",
       "      <td>106.464765</td>\n",
       "      <td>110.439767</td>\n",
       "      <td>100.691562</td>\n",
       "      <td>99.995795</td>\n",
       "      <td>101.321137</td>\n",
       "      <td>94.762536</td>\n",
       "    </tr>\n",
       "    <tr>\n",
       "      <th>22</th>\n",
       "      <td>96.100203</td>\n",
       "      <td>94.574217</td>\n",
       "      <td>100.804093</td>\n",
       "      <td>105.023899</td>\n",
       "      <td>98.613252</td>\n",
       "      <td>95.623593</td>\n",
       "      <td>97.997624</td>\n",
       "      <td>103.838525</td>\n",
       "    </tr>\n",
       "    <tr>\n",
       "      <th>23</th>\n",
       "      <td>94.111769</td>\n",
       "      <td>99.623878</td>\n",
       "      <td>104.517864</td>\n",
       "      <td>97.627878</td>\n",
       "      <td>93.978535</td>\n",
       "      <td>98.751084</td>\n",
       "      <td>106.050425</td>\n",
       "      <td>100.077215</td>\n",
       "    </tr>\n",
       "  </tbody>\n",
       "</table>\n",
       "</div>"
      ],
      "text/plain": [
       "             A           B           C           D           E           F   \n",
       "19   96.768148   91.677922  101.791328  101.207734   98.292440  101.838458  \\\n",
       "20  106.890050  106.573646  102.266483  107.400646   99.943182  103.404121   \n",
       "21   99.808731  101.639731  106.464765  110.439767  100.691562   99.995795   \n",
       "22   96.100203   94.574217  100.804093  105.023899   98.613252   95.623593   \n",
       "23   94.111769   99.623878  104.517864   97.627878   93.978535   98.751084   \n",
       "\n",
       "             G           H  \n",
       "19   97.940469  102.206185  \n",
       "20  106.382767   98.002530  \n",
       "21  101.321137   94.762536  \n",
       "22   97.997624  103.838525  \n",
       "23  106.050425  100.077215  "
      ]
     },
     "execution_count": 5,
     "metadata": {},
     "output_type": "execute_result"
    }
   ],
   "source": [
    "df.tail()"
   ]
  },
  {
   "cell_type": "markdown",
   "metadata": {},
   "source": [
    "---"
   ]
  },
  {
   "cell_type": "markdown",
   "metadata": {},
   "source": [
    "#### Mean"
   ]
  },
  {
   "cell_type": "code",
   "execution_count": 6,
   "metadata": {},
   "outputs": [
    {
     "data": {
      "text/plain": [
       "100.56785907"
      ]
     },
     "execution_count": 6,
     "metadata": {},
     "output_type": "execute_result"
    }
   ],
   "source": [
    "# calculate the mean of the third row\n",
    "dataset[3].mean()"
   ]
  },
  {
   "cell_type": "code",
   "execution_count": 29,
   "metadata": {},
   "outputs": [
    {
     "data": {
      "text/plain": [
       "100.4404927375"
      ]
     },
     "execution_count": 29,
     "metadata": {},
     "output_type": "execute_result"
    }
   ],
   "source": [
    "# calculate the mean of the last column\n",
    "dataset[:,-1].mean()"
   ]
  },
  {
   "cell_type": "code",
   "execution_count": 50,
   "metadata": {},
   "outputs": [
    {
     "name": "stdout",
     "output_type": "stream",
     "text": [
      "DF: 97.87197312333335\n",
      "Np: 97.87197312333333\n"
     ]
    }
   ],
   "source": [
    "# calculate the mean of the intersection of the first 3 rows and first 3 columns\n",
    "intersection = dataset[:3,:3]\n",
    "# print(intersection)\n",
    "\n",
    "print('DF:',df.head(3).iloc[:,:3].mean().mean())\n",
    "print('Np:',np.mean(intersection))"
   ]
  },
  {
   "cell_type": "markdown",
   "metadata": {},
   "source": [
    "---"
   ]
  },
  {
   "cell_type": "markdown",
   "metadata": {},
   "source": [
    "#### Median"
   ]
  },
  {
   "cell_type": "code",
   "execution_count": 46,
   "metadata": {},
   "outputs": [
    {
     "name": "stdout",
     "output_type": "stream",
     "text": [
      "np: 99.18748092\n",
      "df: 99.18748092\n"
     ]
    }
   ],
   "source": [
    "# calculate the median of the last row\n",
    "print('np:',np.median(dataset[-1]))\n",
    "print('df:',df.iloc[-1].median())"
   ]
  },
  {
   "cell_type": "code",
   "execution_count": 111,
   "metadata": {},
   "outputs": [
    {
     "name": "stdout",
     "output_type": "stream",
     "text": [
      "np med: 99.47332349999999\n"
     ]
    }
   ],
   "source": [
    "# calculate the median of the last 3 columns\n",
    "\n",
    "print('np med:',np.median(dataset[:,-3:]))"
   ]
  },
  {
   "cell_type": "code",
   "execution_count": 102,
   "metadata": {},
   "outputs": [
    {
     "name": "stdout",
     "output_type": "stream",
     "text": [
      "dense: F     99.084167\n",
      "G     98.798908\n",
      "H    100.605820\n",
      "dtype: float64\n"
     ]
    }
   ],
   "source": [
    "# calculate the median of the last 3 columns\n",
    "print('dense:',df.iloc[:,-3:].median())"
   ]
  },
  {
   "cell_type": "code",
   "execution_count": 109,
   "metadata": {},
   "outputs": [
    {
     "data": {
      "text/plain": [
       "array([ 98.77910163,  97.17512034,  98.58782879, 100.68449836,\n",
       "       101.00170737,  97.76908825, 101.85002253, 100.04756697,\n",
       "       102.24292555,  99.59514997, 100.4955753 ,  99.8860714 ,\n",
       "        99.00647994,  98.67276177, 102.44376222,  96.61933565,\n",
       "       104.0968893 , 100.72023043,  98.70877396,  99.75008654,\n",
       "       104.89344428, 101.00634942,  98.30543801,  99.18748092])"
      ]
     },
     "execution_count": 109,
     "metadata": {},
     "output_type": "execute_result"
    }
   ],
   "source": [
    "# calculate the median of each row\n",
    "\n",
    "np.median(dataset, axis=1)"
   ]
  },
  {
   "cell_type": "markdown",
   "metadata": {},
   "source": [
    "---"
   ]
  },
  {
   "cell_type": "markdown",
   "metadata": {},
   "source": [
    "#### Variance"
   ]
  },
  {
   "cell_type": "code",
   "execution_count": 116,
   "metadata": {},
   "outputs": [
    {
     "data": {
      "text/plain": [
       "array([23.64757465, 29.78886109, 20.50542011, 26.03204443, 28.38853175,\n",
       "       19.09960817, 17.67291174, 16.17923204])"
      ]
     },
     "execution_count": 116,
     "metadata": {},
     "output_type": "execute_result"
    }
   ],
   "source": [
    "# calculate the variance of each column\n",
    "np.var(dataset, axis=0)"
   ]
  },
  {
   "cell_type": "code",
   "execution_count": 128,
   "metadata": {},
   "outputs": [
    {
     "data": {
      "text/plain": [
       "array([[96.10020311, 94.57421727],\n",
       "       [94.11176915, 99.62387832]])"
      ]
     },
     "execution_count": 128,
     "metadata": {},
     "output_type": "execute_result"
    }
   ],
   "source": [
    "# calculate the variance of the intersection of the last 2 rows and first 2 columns\n",
    "dataset[-2:,:2]"
   ]
  },
  {
   "cell_type": "markdown",
   "metadata": {},
   "source": [
    "The values of the variance might seem a little bit strange at first.   \n",
    "You can always go back to the topic that gives you a quick statistical overview to recap what you've learned so far.   \n",
    "\n",
    "> **Note:**   \n",
    "Just remember, the variance is not the standard deviation.   \n",
    "\n",
    "Try calculation the standard deviation with NumPy to get a more descriptive value when comparing it to our dataset"
   ]
  },
  {
   "cell_type": "code",
   "execution_count": 129,
   "metadata": {},
   "outputs": [
    {
     "data": {
      "text/plain": [
       "4.838197554269257"
      ]
     },
     "execution_count": 129,
     "metadata": {},
     "output_type": "execute_result"
    }
   ],
   "source": [
    "# calculate the standard deviation for the dataset\n",
    "np.std(dataset)"
   ]
  }
 ],
 "metadata": {
  "kernelspec": {
   "display_name": "Python 3 (ipykernel)",
   "language": "python",
   "name": "python3"
  },
  "language_info": {
   "codemirror_mode": {
    "name": "ipython",
    "version": 3
   },
   "file_extension": ".py",
   "mimetype": "text/x-python",
   "name": "python",
   "nbconvert_exporter": "python",
   "pygments_lexer": "ipython3",
   "version": "3.10.8"
  }
 },
 "nbformat": 4,
 "nbformat_minor": 4
}

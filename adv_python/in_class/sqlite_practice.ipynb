{
 "cells": [
  {
   "cell_type": "code",
   "execution_count": 6,
   "id": "ab23cb7e",
   "metadata": {},
   "outputs": [],
   "source": [
    "import sqlite3 as sqlite\n",
    "conn = sqlite.connect('sample2.db')"
   ]
  },
  {
   "cell_type": "code",
   "execution_count": 7,
   "id": "a5ebe5da",
   "metadata": {},
   "outputs": [
    {
     "name": "stdout",
     "output_type": "stream",
     "text": [
      "<sqlite3.Connection object at 0x0000014332105D40>\n"
     ]
    }
   ],
   "source": [
    "print(conn)"
   ]
  },
  {
   "cell_type": "code",
   "execution_count": 3,
   "id": "b1fd2fd6",
   "metadata": {},
   "outputs": [
    {
     "name": "stdout",
     "output_type": "stream",
     "text": [
      "<sqlite3.Cursor object at 0x00000143322791C0>\n"
     ]
    }
   ],
   "source": [
    "cursor = conn.cursor()\n",
    "print(cursor)"
   ]
  },
  {
   "cell_type": "code",
   "execution_count": null,
   "id": "c03c9a73",
   "metadata": {},
   "outputs": [],
   "source": [
    "cursor.execute('CREATE TABLE users(name varchar(100), id int)')"
   ]
  },
  {
   "cell_type": "code",
   "execution_count": null,
   "id": "ac26d247",
   "metadata": {},
   "outputs": [],
   "source": [
    "# INSERT ONE ROw\n",
    "cursor.execute('INSERT into users VALUES(?,?)',['shanover',1])"
   ]
  },
  {
   "cell_type": "code",
   "execution_count": null,
   "id": "77dac989",
   "metadata": {},
   "outputs": [],
   "source": [
    "# INSERT Multiple Rows\n",
    "data = [('Ujjawal',2),('Sunil',3),('Bigyan',4)]\n",
    "cursor.executemany('insert into users values(?,?)',data)"
   ]
  },
  {
   "cell_type": "code",
   "execution_count": 4,
   "id": "15607777",
   "metadata": {},
   "outputs": [],
   "source": [
    "def showAll(cursor,table):\n",
    "    cursor.execute('SELECT * FROM '+table)\n",
    "\n",
    "    rows = cursor.fetchall()\n",
    "\n",
    "    print('There are :', len(rows),' rows')\n",
    "    for row in rows:\n",
    "        print(row)"
   ]
  },
  {
   "cell_type": "code",
   "execution_count": null,
   "id": "f3f38486",
   "metadata": {},
   "outputs": [],
   "source": [
    "# UPDATE Query\n",
    "idUp = 1\n",
    "newName = 'Shan'\n",
    "\n",
    "cursor.execute('update users set name=? WHERE id = ?',(newName,idUp))"
   ]
  },
  {
   "cell_type": "code",
   "execution_count": 5,
   "id": "01fbba23",
   "metadata": {},
   "outputs": [
    {
     "ename": "OperationalError",
     "evalue": "table employee already exists",
     "output_type": "error",
     "traceback": [
      "\u001b[1;31m---------------------------------------------------------------------------\u001b[0m",
      "\u001b[1;31mOperationalError\u001b[0m                          Traceback (most recent call last)",
      "Cell \u001b[1;32mIn [5], line 12\u001b[0m\n\u001b[0;32m      1\u001b[0m \u001b[38;5;66;03m# Create employee table\u001b[39;00m\n\u001b[0;32m      3\u001b[0m sql \u001b[38;5;241m=\u001b[39m \u001b[38;5;124m'''\u001b[39m\u001b[38;5;124mCREATE TABLE employee(\u001b[39m\n\u001b[0;32m      4\u001b[0m \u001b[38;5;124m            id int not null primary key,\u001b[39m\n\u001b[0;32m      5\u001b[0m \u001b[38;5;124m            first_name varchar(30) not null,\u001b[39m\n\u001b[1;32m   (...)\u001b[0m\n\u001b[0;32m      9\u001b[0m \u001b[38;5;124m            income float\u001b[39m\n\u001b[0;32m     10\u001b[0m \u001b[38;5;124m            )\u001b[39m\u001b[38;5;124m'''\u001b[39m\n\u001b[1;32m---> 12\u001b[0m \u001b[43mcursor\u001b[49m\u001b[38;5;241;43m.\u001b[39;49m\u001b[43mexecute\u001b[49m\u001b[43m(\u001b[49m\u001b[43msql\u001b[49m\u001b[43m)\u001b[49m\n\u001b[0;32m     13\u001b[0m conn\u001b[38;5;241m.\u001b[39mcommit()\n",
      "\u001b[1;31mOperationalError\u001b[0m: table employee already exists"
     ]
    }
   ],
   "source": [
    "# Create employee table\n",
    "\n",
    "sql = '''CREATE TABLE employee(\n",
    "            id int not null primary key,\n",
    "            first_name varchar(30) not null,\n",
    "            last_name varchar(30),\n",
    "            age int not null,\n",
    "            sex char(1),\n",
    "            income float\n",
    "            )'''\n",
    "\n",
    "cursor.execute(sql)\n",
    "conn.commit()"
   ]
  },
  {
   "cell_type": "code",
   "execution_count": 8,
   "id": "b4654d22",
   "metadata": {},
   "outputs": [
    {
     "name": "stdout",
     "output_type": "stream",
     "text": [
      "There are : 0  rows\n"
     ]
    }
   ],
   "source": [
    "showAll(cursor,'employee')"
   ]
  },
  {
   "cell_type": "code",
   "execution_count": null,
   "id": "aba6c28c",
   "metadata": {},
   "outputs": [],
   "source": [
    "def describe(table_name):\n",
    "    cursor.execute(f\"PRAGMA table_info({table_name})\")\n",
    "\n",
    "    # Fetch all the rows returned by the query\n",
    "    rows = cursor.fetchall()\n",
    "\n",
    "    # Process the fetched rows\n",
    "    for row in rows:\n",
    "        column_name = row[1]\n",
    "        column_type = row[2]\n",
    "        is_nullable = row[3]\n",
    "        pk = row[5]\n",
    "\n",
    "        print(f\"Column Name: {column_name}, Column Type: {column_type}, Nullable: {is_nullable}, PK: {pk}\")\n"
   ]
  },
  {
   "cell_type": "code",
   "execution_count": null,
   "id": "320364a5",
   "metadata": {},
   "outputs": [],
   "source": [
    "describe('employee')"
   ]
  },
  {
   "cell_type": "code",
   "execution_count": 26,
   "id": "8e7eeadc",
   "metadata": {},
   "outputs": [
    {
     "name": "stdout",
     "output_type": "stream",
     "text": [
      "1\n"
     ]
    }
   ],
   "source": [
    "# Insert\n",
    "\n",
    "data = [\n",
    "#     (11, 'Samista','Sharma',26,'F',1000),\n",
    "#     (21, 'Nikhil','Sharma',26,'M',1000),\n",
    "#     (32, 'Ujjawal','Sharma',26,'M',899000),\n",
    "#     (42, 'Sunil','Sharma',26,'M',10000000),\n",
    "    (54, 'Ronaldo','Cris',26,'M',99999999)\n",
    "]\n",
    "\n",
    "\n",
    "cursor.executemany('insert into shanover values(?,?,?,?,?,?)', data)\n",
    "print(cursor.rowcount)"
   ]
  },
  {
   "cell_type": "code",
   "execution_count": 12,
   "id": "59454280",
   "metadata": {},
   "outputs": [
    {
     "name": "stdout",
     "output_type": "stream",
     "text": [
      "There are : 0  rows\n"
     ]
    }
   ],
   "source": [
    "showAll(cursor,'employee')"
   ]
  },
  {
   "cell_type": "code",
   "execution_count": null,
   "id": "93699f80",
   "metadata": {},
   "outputs": [],
   "source": [
    "# fetch one\n",
    "\n",
    "cursor.execute('SELECT * from employee')\n",
    "result = cursor.fetchone()\n",
    "print(result)"
   ]
  },
  {
   "cell_type": "code",
   "execution_count": null,
   "id": "cecbe3a0",
   "metadata": {},
   "outputs": [],
   "source": [
    "# fetch many\n",
    "\n",
    "cursor.execute('SELECT * from employee')\n",
    "result = cursor.fetchmany(2)\n",
    "print(result)"
   ]
  },
  {
   "cell_type": "code",
   "execution_count": null,
   "id": "42664f0a",
   "metadata": {},
   "outputs": [],
   "source": [
    "# fetch many\n",
    "\n",
    "cursor.execute('SELECT * from employee')\n",
    "result = cursor.fetchall()\n",
    "print(result)"
   ]
  },
  {
   "cell_type": "code",
   "execution_count": null,
   "id": "817144be",
   "metadata": {},
   "outputs": [],
   "source": [
    "# fetch many\n",
    "\n",
    "cursor.execute('SELECT * from employee WHERE sex=?','M')\n",
    "result = cursor.fetchall()\n",
    "print(result)"
   ]
  },
  {
   "cell_type": "code",
   "execution_count": null,
   "id": "f73af44e",
   "metadata": {},
   "outputs": [],
   "source": [
    "# Alter column name\n",
    "\n",
    "cursor.execute(f\"ALTER TABLE {'employee'} RENAME COLUMN {'age'} TO {'age_of_employee'}\")"
   ]
  },
  {
   "cell_type": "code",
   "execution_count": null,
   "id": "1f4bc44b",
   "metadata": {},
   "outputs": [],
   "source": [
    "import pandas as pd\n",
    "\n",
    "df = pd.read_sql(f\"SELECT * from employee\",conn)\n",
    "df.head()"
   ]
  },
  {
   "cell_type": "code",
   "execution_count": 21,
   "id": "055f7a61",
   "metadata": {},
   "outputs": [
    {
     "data": {
      "text/plain": [
       "<sqlite3.Cursor at 0x143322791c0>"
      ]
     },
     "execution_count": 21,
     "metadata": {},
     "output_type": "execute_result"
    }
   ],
   "source": [
    "# Delete operation\n",
    "\n",
    "cursor.execute('''DELETE from shanover where sex=\"M\"''')"
   ]
  },
  {
   "cell_type": "code",
   "execution_count": 13,
   "id": "805a688c",
   "metadata": {},
   "outputs": [
    {
     "data": {
      "text/plain": [
       "<sqlite3.Cursor at 0x143322791c0>"
      ]
     },
     "execution_count": 13,
     "metadata": {},
     "output_type": "execute_result"
    }
   ],
   "source": [
    "# Remame table name\n",
    "\n",
    "cursor.execute('''alter table employee rename to shanover''')"
   ]
  },
  {
   "cell_type": "code",
   "execution_count": 31,
   "id": "2d86f250",
   "metadata": {},
   "outputs": [
    {
     "ename": "OperationalError",
     "evalue": "no such table: shanover",
     "output_type": "error",
     "traceback": [
      "\u001b[1;31m---------------------------------------------------------------------------\u001b[0m",
      "\u001b[1;31mOperationalError\u001b[0m                          Traceback (most recent call last)",
      "Cell \u001b[1;32mIn [31], line 1\u001b[0m\n\u001b[1;32m----> 1\u001b[0m \u001b[43mshowAll\u001b[49m\u001b[43m(\u001b[49m\u001b[43mcursor\u001b[49m\u001b[43m,\u001b[49m\u001b[38;5;124;43m'\u001b[39;49m\u001b[38;5;124;43mshanover\u001b[39;49m\u001b[38;5;124;43m'\u001b[39;49m\u001b[43m)\u001b[49m\n",
      "Cell \u001b[1;32mIn [4], line 2\u001b[0m, in \u001b[0;36mshowAll\u001b[1;34m(cursor, table)\u001b[0m\n\u001b[0;32m      1\u001b[0m \u001b[38;5;28;01mdef\u001b[39;00m \u001b[38;5;21mshowAll\u001b[39m(cursor,table):\n\u001b[1;32m----> 2\u001b[0m     \u001b[43mcursor\u001b[49m\u001b[38;5;241;43m.\u001b[39;49m\u001b[43mexecute\u001b[49m\u001b[43m(\u001b[49m\u001b[38;5;124;43m'\u001b[39;49m\u001b[38;5;124;43mSELECT * FROM \u001b[39;49m\u001b[38;5;124;43m'\u001b[39;49m\u001b[38;5;241;43m+\u001b[39;49m\u001b[43mtable\u001b[49m\u001b[43m)\u001b[49m\n\u001b[0;32m      4\u001b[0m     rows \u001b[38;5;241m=\u001b[39m cursor\u001b[38;5;241m.\u001b[39mfetchall()\n\u001b[0;32m      6\u001b[0m     \u001b[38;5;28mprint\u001b[39m(\u001b[38;5;124m'\u001b[39m\u001b[38;5;124mThere are :\u001b[39m\u001b[38;5;124m'\u001b[39m, \u001b[38;5;28mlen\u001b[39m(rows),\u001b[38;5;124m'\u001b[39m\u001b[38;5;124m rows\u001b[39m\u001b[38;5;124m'\u001b[39m)\n",
      "\u001b[1;31mOperationalError\u001b[0m: no such table: shanover"
     ]
    }
   ],
   "source": [
    "showAll(cursor,'shanover')"
   ]
  },
  {
   "cell_type": "code",
   "execution_count": 28,
   "id": "8b867095",
   "metadata": {},
   "outputs": [
    {
     "data": {
      "text/plain": [
       "<sqlite3.Cursor at 0x143322791c0>"
      ]
     },
     "execution_count": 28,
     "metadata": {},
     "output_type": "execute_result"
    }
   ],
   "source": [
    "# Remvoe rows with first name\n",
    "\n",
    "cursor.execute('''delete from shanover where first_name like \"r%\" ''')"
   ]
  },
  {
   "cell_type": "code",
   "execution_count": 30,
   "id": "9723d674",
   "metadata": {},
   "outputs": [
    {
     "data": {
      "text/plain": [
       "<sqlite3.Cursor at 0x143322791c0>"
      ]
     },
     "execution_count": 30,
     "metadata": {},
     "output_type": "execute_result"
    }
   ],
   "source": [
    "cursor.execute('''drop table shanover''')"
   ]
  },
  {
   "cell_type": "code",
   "execution_count": null,
   "id": "ee42503e",
   "metadata": {},
   "outputs": [],
   "source": []
  }
 ],
 "metadata": {
  "kernelspec": {
   "display_name": "Python 3 (ipykernel)",
   "language": "python",
   "name": "python3"
  },
  "language_info": {
   "codemirror_mode": {
    "name": "ipython",
    "version": 3
   },
   "file_extension": ".py",
   "mimetype": "text/x-python",
   "name": "python",
   "nbconvert_exporter": "python",
   "pygments_lexer": "ipython3",
   "version": "3.10.8"
  }
 },
 "nbformat": 4,
 "nbformat_minor": 5
}

{
 "cells": [
  {
   "cell_type": "markdown",
   "id": "5b1d7cf6",
   "metadata": {},
   "source": [
    "### Advanced Python, 13 June 2023:"
   ]
  },
  {
   "cell_type": "markdown",
   "id": "5c30184d",
   "metadata": {},
   "source": [
    "Vectors"
   ]
  },
  {
   "cell_type": "code",
   "execution_count": 1,
   "id": "00a26811",
   "metadata": {},
   "outputs": [],
   "source": [
    "#imports\n",
    "\n",
    "import numpy as np"
   ]
  },
  {
   "cell_type": "markdown",
   "id": "b21f3b8a",
   "metadata": {},
   "source": [
    "Create vectors using NumPy's array() function. Vectors in NumPy are represented as one-dimensional arrays."
   ]
  },
  {
   "cell_type": "code",
   "execution_count": 8,
   "id": "4f668745",
   "metadata": {},
   "outputs": [],
   "source": [
    "# Create a vector (1D array)\n",
    "\n",
    "vec = np.array([1,2,3,4,5,6]) "
   ]
  },
  {
   "cell_type": "code",
   "execution_count": 9,
   "id": "c53c473c",
   "metadata": {},
   "outputs": [
    {
     "data": {
      "text/plain": [
       "3"
      ]
     },
     "execution_count": 9,
     "metadata": {},
     "output_type": "execute_result"
    }
   ],
   "source": [
    "# Display from vector\n",
    "vec[2]"
   ]
  },
  {
   "cell_type": "code",
   "execution_count": 11,
   "id": "e511f532",
   "metadata": {},
   "outputs": [
    {
     "data": {
      "text/plain": [
       "3"
      ]
     },
     "execution_count": 11,
     "metadata": {},
     "output_type": "execute_result"
    }
   ],
   "source": [
    "# reverse indexing also works\n",
    "vec[-4]"
   ]
  },
  {
   "cell_type": "code",
   "execution_count": 17,
   "id": "434c9771",
   "metadata": {},
   "outputs": [
    {
     "data": {
      "text/plain": [
       "array([2, 3, 4])"
      ]
     },
     "execution_count": 17,
     "metadata": {},
     "output_type": "execute_result"
    }
   ],
   "source": [
    "# challenge question, give nums 2,3,4 from the vec\n",
    "vec[1:4]"
   ]
  },
  {
   "cell_type": "code",
   "execution_count": 26,
   "id": "91328556",
   "metadata": {},
   "outputs": [
    {
     "data": {
      "text/plain": [
       "array([4, 3, 2])"
      ]
     },
     "execution_count": 26,
     "metadata": {},
     "output_type": "execute_result"
    }
   ],
   "source": [
    "# challenge question (cntd..) now reverse-index, and reverse\n",
    "\n",
    "vec[-5:-2:][::-1]"
   ]
  },
  {
   "cell_type": "markdown",
   "id": "fd3de303",
   "metadata": {},
   "source": [
    "### Find the index of the value in Numpy Array"
   ]
  },
  {
   "cell_type": "code",
   "execution_count": 32,
   "id": "d6596e5e",
   "metadata": {},
   "outputs": [
    {
     "data": {
      "text/plain": [
       "1"
      ]
     },
     "execution_count": 32,
     "metadata": {},
     "output_type": "execute_result"
    }
   ],
   "source": [
    "# Get index of value 2:\n",
    "\n",
    "searchValue = 2\n",
    "np.where(vec == searchValue)[0][0]"
   ]
  },
  {
   "cell_type": "code",
   "execution_count": 42,
   "id": "90facd94",
   "metadata": {},
   "outputs": [],
   "source": [
    "# Add number 2 to this vector\n",
    "\n",
    "vec = np.append(vec,2)\n",
    "\n",
    "# Alternate method: vec = np.insert(vec,6,2)"
   ]
  },
  {
   "cell_type": "code",
   "execution_count": 44,
   "id": "b090fe97",
   "metadata": {},
   "outputs": [
    {
     "data": {
      "text/plain": [
       "array([1, 2, 3, 4, 5, 6, 2, 2])"
      ]
     },
     "execution_count": 44,
     "metadata": {},
     "output_type": "execute_result"
    }
   ],
   "source": [
    "vec"
   ]
  },
  {
   "cell_type": "code",
   "execution_count": 46,
   "id": "d64fe8a0",
   "metadata": {},
   "outputs": [
    {
     "data": {
      "text/plain": [
       "array([1, 6, 7], dtype=int64)"
      ]
     },
     "execution_count": 46,
     "metadata": {},
     "output_type": "execute_result"
    }
   ],
   "source": [
    "# Get index of value 2 (after inserting the 2):\n",
    "\n",
    "searchValue = 2\n",
    "np.where(vec == searchValue)[0]"
   ]
  },
  {
   "cell_type": "markdown",
   "id": "2de2e67d",
   "metadata": {},
   "source": [
    "### MATRIX"
   ]
  },
  {
   "cell_type": "code",
   "execution_count": 47,
   "id": "c535b07d",
   "metadata": {},
   "outputs": [],
   "source": [
    "# A 2D Numpy array is matrix, like:\n",
    "\n",
    "matrix = np.array([[1,2,3], [4,5,6], [7,8,9]])"
   ]
  },
  {
   "cell_type": "code",
   "execution_count": 48,
   "id": "fa74e309",
   "metadata": {},
   "outputs": [
    {
     "data": {
      "text/plain": [
       "array([[1, 2, 3],\n",
       "       [4, 5, 6],\n",
       "       [7, 8, 9]])"
      ]
     },
     "execution_count": 48,
     "metadata": {},
     "output_type": "execute_result"
    }
   ],
   "source": [
    "matrix"
   ]
  },
  {
   "cell_type": "code",
   "execution_count": 75,
   "id": "fb321020",
   "metadata": {},
   "outputs": [
    {
     "name": "stdout",
     "output_type": "stream",
     "text": [
      "Matrix 5\n"
     ]
    }
   ],
   "source": [
    "# Seek a value:\n",
    "\n",
    "print('Matrix',matrix[1,1])"
   ]
  },
  {
   "cell_type": "code",
   "execution_count": 76,
   "id": "71c501f1",
   "metadata": {},
   "outputs": [
    {
     "name": "stdout",
     "output_type": "stream",
     "text": [
      "Matrix: 5\n"
     ]
    }
   ],
   "source": [
    "# Seek a value (reverse-indexed), get 5:\n",
    "\n",
    "print('Matrix:',matrix[-2,-2])"
   ]
  },
  {
   "cell_type": "code",
   "execution_count": 92,
   "id": "9c157b0c",
   "metadata": {},
   "outputs": [
    {
     "data": {
      "text/plain": [
       "array([[5, 6],\n",
       "       [8, 9]])"
      ]
     },
     "execution_count": 92,
     "metadata": {},
     "output_type": "execute_result"
    }
   ],
   "source": [
    "# Challenge, get only [[5,6],[8,9]], using -ve indexing:\n",
    "\n",
    "matrix[-2:, -2:]"
   ]
  },
  {
   "cell_type": "code",
   "execution_count": 96,
   "id": "9af3dfd6",
   "metadata": {},
   "outputs": [
    {
     "data": {
      "text/plain": [
       "((3, 3), 9, 2)"
      ]
     },
     "execution_count": 96,
     "metadata": {},
     "output_type": "execute_result"
    }
   ],
   "source": [
    "# fun stuff\n",
    "matrix.shape, matrix.size, matrix.ndim"
   ]
  },
  {
   "cell_type": "markdown",
   "id": "7ba27cd0",
   "metadata": {},
   "source": [
    "### (.) dot product"
   ]
  },
  {
   "cell_type": "code",
   "execution_count": 97,
   "id": "6b8614b7",
   "metadata": {},
   "outputs": [],
   "source": [
    "vec_a = np.array([1,2,3])\n",
    "vec_b = np.array([4,5,6])"
   ]
  },
  {
   "cell_type": "code",
   "execution_count": 100,
   "id": "abb6acd9",
   "metadata": {},
   "outputs": [
    {
     "data": {
      "text/plain": [
       "(array([1, 2, 3]), array([4, 5, 6]))"
      ]
     },
     "execution_count": 100,
     "metadata": {},
     "output_type": "execute_result"
    }
   ],
   "source": [
    "vec_a, vec_b"
   ]
  },
  {
   "cell_type": "code",
   "execution_count": 101,
   "id": "1ab56350",
   "metadata": {},
   "outputs": [
    {
     "data": {
      "text/plain": [
       "32"
      ]
     },
     "execution_count": 101,
     "metadata": {},
     "output_type": "execute_result"
    }
   ],
   "source": [
    "np.dot(vec_a, vec_b)"
   ]
  },
  {
   "cell_type": "code",
   "execution_count": 102,
   "id": "f6e4b2f4",
   "metadata": {},
   "outputs": [],
   "source": [
    "import math\n",
    "\n",
    "# Calc theta:\n",
    "def magnitudeVec(vec):\n",
    "    return math.sqrt(vec[0]*vec[0] + vec[1]*vec[1] + vec[2]*vec[2])"
   ]
  },
  {
   "cell_type": "code",
   "execution_count": null,
   "id": "3a1d0bbe",
   "metadata": {},
   "outputs": [],
   "source": []
  },
  {
   "cell_type": "code",
   "execution_count": 104,
   "id": "f8c07906",
   "metadata": {},
   "outputs": [
    {
     "data": {
      "text/plain": [
       "(3.7416573867739413, 8.774964387392123)"
      ]
     },
     "execution_count": 104,
     "metadata": {},
     "output_type": "execute_result"
    }
   ],
   "source": [
    "# Magnitude of Vectors\n",
    "magA = magnitudeVec(vec_a)\n",
    "magB = magnitudeVec(vec_b)\n",
    "magA, magB"
   ]
  },
  {
   "cell_type": "code",
   "execution_count": 106,
   "id": "59673b5f",
   "metadata": {},
   "outputs": [
    {
     "data": {
      "text/plain": [
       "32"
      ]
     },
     "execution_count": 106,
     "metadata": {},
     "output_type": "execute_result"
    }
   ],
   "source": [
    "RHS = vec_a[0]*vec_b[0] + vec_a[1]*vec_b[1] + vec_a[2]*vec_b[2]\n",
    "RHS"
   ]
  },
  {
   "cell_type": "code",
   "execution_count": 118,
   "id": "5f0688ed",
   "metadata": {},
   "outputs": [
    {
     "data": {
      "text/plain": [
       "0.9746318461970762"
      ]
     },
     "execution_count": 118,
     "metadata": {},
     "output_type": "execute_result"
    }
   ],
   "source": [
    "costheta = RHS/(magA * magB)\n",
    "costheta\n",
    "\n",
    "# this value is in radians"
   ]
  },
  {
   "cell_type": "code",
   "execution_count": 119,
   "id": "ea413f09",
   "metadata": {},
   "outputs": [
    {
     "data": {
      "text/plain": [
       "12.933154491899135"
      ]
     },
     "execution_count": 119,
     "metadata": {},
     "output_type": "execute_result"
    }
   ],
   "source": [
    "# Cosine value to degree\n",
    "\n",
    "angle_degrees = np.degrees(np.arccos(costheta)) \n",
    "angle_degrees"
   ]
  },
  {
   "cell_type": "markdown",
   "id": "c70269a6",
   "metadata": {},
   "source": [
    "### Adding, Subtracting"
   ]
  },
  {
   "cell_type": "code",
   "execution_count": 122,
   "id": "4781667b",
   "metadata": {},
   "outputs": [
    {
     "data": {
      "text/plain": [
       "(array([[1, 1, 1],\n",
       "        [1, 1, 1],\n",
       "        [1, 1, 2]]),\n",
       " array([[1, 3, 1],\n",
       "        [1, 3, 1],\n",
       "        [1, 3, 8]]))"
      ]
     },
     "execution_count": 122,
     "metadata": {},
     "output_type": "execute_result"
    }
   ],
   "source": [
    "matrix_a = np.array([[1,1,1], [1,1,1], [1,1,2]])\n",
    "matrix_b = np.array([[1,3,1], [1,3,1], [1,3,8]])\n",
    "matrix_a, matrix_b"
   ]
  },
  {
   "cell_type": "code",
   "execution_count": 123,
   "id": "7f63999d",
   "metadata": {},
   "outputs": [
    {
     "data": {
      "text/plain": [
       "array([[ 2,  4,  2],\n",
       "       [ 2,  4,  2],\n",
       "       [ 2,  4, 10]])"
      ]
     },
     "execution_count": 123,
     "metadata": {},
     "output_type": "execute_result"
    }
   ],
   "source": [
    "# Addition\n",
    "\n",
    "np.add(matrix_a, matrix_b)"
   ]
  },
  {
   "cell_type": "code",
   "execution_count": 124,
   "id": "acc59f49",
   "metadata": {},
   "outputs": [
    {
     "data": {
      "text/plain": [
       "array([[ 0, -2,  0],\n",
       "       [ 0, -2,  0],\n",
       "       [ 0, -2, -6]])"
      ]
     },
     "execution_count": 124,
     "metadata": {},
     "output_type": "execute_result"
    }
   ],
   "source": [
    "# Subtracting:\n",
    "\n",
    "np.subtract(matrix_a, matrix_b)"
   ]
  },
  {
   "cell_type": "code",
   "execution_count": null,
   "id": "2657c9f3",
   "metadata": {},
   "outputs": [],
   "source": []
  },
  {
   "cell_type": "markdown",
   "id": "de76136e",
   "metadata": {},
   "source": [
    "## Multiplication"
   ]
  },
  {
   "cell_type": "code",
   "execution_count": 128,
   "id": "eaddfd11",
   "metadata": {},
   "outputs": [
    {
     "name": "stdout",
     "output_type": "stream",
     "text": [
      "[[13 23]\n",
      " [21 37]]\n"
     ]
    }
   ],
   "source": [
    "ma = np.array([[1,2],[2,3]])\n",
    "mb = np.array([[3,5],[5,9]])\n",
    "\n",
    "mul_mat = np.matmul(ma,mb)\n",
    "print(mul_mat)"
   ]
  },
  {
   "cell_type": "markdown",
   "id": "73fce838",
   "metadata": {},
   "source": [
    "### 💡Challenge Question: Qrite an algorithm that checks if two matrices can be multiplied and if yes, develop a code without using any built-in function to multiply two matrices."
   ]
  },
  {
   "cell_type": "code",
   "execution_count": 130,
   "id": "010535a7",
   "metadata": {},
   "outputs": [],
   "source": [
    "# ON HOLD, MOVING ON WITHT THE CLASS"
   ]
  },
  {
   "cell_type": "markdown",
   "id": "3f7f2fa8",
   "metadata": {},
   "source": [
    "#### Manipulating Matrix"
   ]
  },
  {
   "cell_type": "code",
   "execution_count": 163,
   "id": "5277a48a",
   "metadata": {},
   "outputs": [
    {
     "name": "stdout",
     "output_type": "stream",
     "text": [
      "[[ 1 10  3]\n",
      " [ 2  4  6]\n",
      " [ 7  8  9]]\n"
     ]
    }
   ],
   "source": [
    "matrix = np.array([[1,10,3],[2,4,6],[7,8,9]])\n",
    "print(matrix)"
   ]
  },
  {
   "cell_type": "code",
   "execution_count": 132,
   "id": "08c23ea1",
   "metadata": {},
   "outputs": [
    {
     "data": {
      "text/plain": [
       "array([[101, 102, 103],\n",
       "       [102, 104, 106],\n",
       "       [107, 108, 109]])"
      ]
     },
     "execution_count": 132,
     "metadata": {},
     "output_type": "execute_result"
    }
   ],
   "source": [
    "matrix+100 # direct operation"
   ]
  },
  {
   "cell_type": "code",
   "execution_count": 139,
   "id": "1ad4f722",
   "metadata": {},
   "outputs": [
    {
     "name": "stdout",
     "output_type": "stream",
     "text": [
      "<class 'numpy.vectorize'>\n"
     ]
    },
    {
     "data": {
      "text/plain": [
       "array([[101, 102, 103],\n",
       "       [102, 104, 106],\n",
       "       [107, 108, 109]])"
      ]
     },
     "execution_count": 139,
     "metadata": {},
     "output_type": "execute_result"
    }
   ],
   "source": [
    "# using lamba:\n",
    "\n",
    "scalar_func_add_100 = lambda i:i + 100 # create a function\n",
    "\n",
    "vec_func = np.vectorize(scalar_func_add_100) # pass the function into the .vectorize method\n",
    "print(type(vec_100)) # an instance of class numpy.vectorize\n",
    "\n",
    "# Now let's apply this on our matrix:\n",
    "\n",
    "manip_matrix = vec_func(matrix)\n",
    "manip_matrix"
   ]
  },
  {
   "cell_type": "markdown",
   "id": "20c0d657",
   "metadata": {},
   "source": [
    "## Python Lambda \n",
    "\n",
    "#### A small anon function\n",
    "- Takes any number of arguments\n",
    "- Only one expression"
   ]
  },
  {
   "cell_type": "code",
   "execution_count": 148,
   "id": "fc0b088f",
   "metadata": {},
   "outputs": [
    {
     "name": "stdout",
     "output_type": "stream",
     "text": [
      "22\n"
     ]
    }
   ],
   "source": [
    "# Example: Summation function using lambda\n",
    "\n",
    "start_time = time.time()\n",
    "x = lambda a,b: a+b\n",
    "\n",
    "print(x(10,12))"
   ]
  },
  {
   "cell_type": "markdown",
   "id": "6244f7cd",
   "metadata": {},
   "source": [
    "## Max and Min in Matrix"
   ]
  },
  {
   "cell_type": "code",
   "execution_count": 149,
   "id": "b7fbf791",
   "metadata": {},
   "outputs": [
    {
     "data": {
      "text/plain": [
       "9"
      ]
     },
     "execution_count": 149,
     "metadata": {},
     "output_type": "execute_result"
    }
   ],
   "source": [
    "np.max(matrix)"
   ]
  },
  {
   "cell_type": "code",
   "execution_count": 151,
   "id": "e7aed8d2",
   "metadata": {},
   "outputs": [
    {
     "data": {
      "text/plain": [
       "1"
      ]
     },
     "execution_count": 151,
     "metadata": {},
     "output_type": "execute_result"
    }
   ],
   "source": [
    "np.min(matrix)"
   ]
  },
  {
   "cell_type": "code",
   "execution_count": null,
   "id": "6e5a403c",
   "metadata": {},
   "outputs": [],
   "source": []
  },
  {
   "cell_type": "markdown",
   "id": "ebb1cdee",
   "metadata": {},
   "source": [
    "### Get max, min along the axes"
   ]
  },
  {
   "cell_type": "code",
   "execution_count": 164,
   "id": "1d33c551",
   "metadata": {},
   "outputs": [
    {
     "data": {
      "text/plain": [
       "('Max:', array([ 7, 10,  9]), 'min:', array([1, 4, 3]))"
      ]
     },
     "execution_count": 164,
     "metadata": {},
     "output_type": "execute_result"
    }
   ],
   "source": [
    "'Max:',np.max(matrix, axis=0),'min:',np.min(matrix, axis=0) # row-wise (max total of a each row)"
   ]
  },
  {
   "cell_type": "code",
   "execution_count": 165,
   "id": "b4d9ae7c",
   "metadata": {},
   "outputs": [
    {
     "data": {
      "text/plain": [
       "('Max:', array([10,  6,  9]), 'min:', array([1, 2, 7]))"
      ]
     },
     "execution_count": 165,
     "metadata": {},
     "output_type": "execute_result"
    }
   ],
   "source": [
    "'Max:',np.max(matrix, axis=1),'min:',np.min(matrix, axis=1) # column-wise (max total of each col)"
   ]
  },
  {
   "cell_type": "markdown",
   "id": "a5decfe8",
   "metadata": {},
   "source": [
    "### Statistical values"
   ]
  },
  {
   "cell_type": "code",
   "execution_count": 170,
   "id": "2f2ca60d",
   "metadata": {},
   "outputs": [
    {
     "data": {
      "text/plain": [
       "('Mean:', 5.555555555555555)"
      ]
     },
     "execution_count": 170,
     "metadata": {},
     "output_type": "execute_result"
    }
   ],
   "source": [
    "'Mean:',np.mean(matrix)"
   ]
  },
  {
   "cell_type": "code",
   "execution_count": 169,
   "id": "22e2a4c0",
   "metadata": {},
   "outputs": [
    {
     "data": {
      "text/plain": [
       "('Variance:', 9.135802469135804)"
      ]
     },
     "execution_count": 169,
     "metadata": {},
     "output_type": "execute_result"
    }
   ],
   "source": [
    "'Variance:',np.var(matrix)"
   ]
  },
  {
   "cell_type": "code",
   "execution_count": 168,
   "id": "255730ca",
   "metadata": {},
   "outputs": [
    {
     "data": {
      "text/plain": [
       "('Standard Deviation', 3.02254900194121)"
      ]
     },
     "execution_count": 168,
     "metadata": {},
     "output_type": "execute_result"
    }
   ],
   "source": [
    "'Standard Deviation',np.std(matrix)"
   ]
  },
  {
   "cell_type": "code",
   "execution_count": 171,
   "id": "135a73a0",
   "metadata": {},
   "outputs": [
    {
     "data": {
      "text/plain": [
       "('Mean (axis=0):', array([3.33333333, 7.33333333, 6.        ]))"
      ]
     },
     "execution_count": 171,
     "metadata": {},
     "output_type": "execute_result"
    }
   ],
   "source": [
    "# along the axis of seperation:\n",
    "'Mean (axis=0):',np.mean(matrix, axis=0)"
   ]
  },
  {
   "cell_type": "code",
   "execution_count": 173,
   "id": "b6da17a5",
   "metadata": {},
   "outputs": [
    {
     "data": {
      "text/plain": [
       "('Mean (axis=1):', array([4.66666667, 4.        , 8.        ]))"
      ]
     },
     "execution_count": 173,
     "metadata": {},
     "output_type": "execute_result"
    }
   ],
   "source": [
    "'Mean (axis=1):',np.mean(matrix, axis=1)"
   ]
  },
  {
   "cell_type": "markdown",
   "id": "cbc61827",
   "metadata": {},
   "source": [
    "### Generate random values"
   ]
  },
  {
   "cell_type": "code",
   "execution_count": 187,
   "id": "bb9674f3",
   "metadata": {},
   "outputs": [],
   "source": [
    "# np.random.randint(from, to, #nums) - random\n",
    "\n",
    "array = np.random.randint(0,11000,3000)"
   ]
  },
  {
   "cell_type": "code",
   "execution_count": 197,
   "id": "d146dcb0",
   "metadata": {},
   "outputs": [
    {
     "data": {
      "image/png": "[encoded data removed]",
      "text/plain": [
       "<Figure size 640x480 with 1 Axes>"
      ]
     },
     "metadata": {},
     "output_type": "display_data"
    }
   ],
   "source": [
    "\n",
    "import matplotlib.pyplot as plt\n",
    "\n",
    "def createHisto(array):\n",
    "    # Create the histogram\n",
    "    hist, bins = np.histogram(array)\n",
    "    \n",
    "    bins = 30\n",
    "\n",
    "    # Plot the histogram\n",
    "    plt.hist(array, bins=bins)\n",
    "    plt.xlabel('Value')\n",
    "    plt.ylabel('Frequency')\n",
    "    plt.title('Histogram')\n",
    "    plt.show()\n",
    "    \n",
    "createHisto(array)"
   ]
  },
  {
   "cell_type": "code",
   "execution_count": 198,
   "id": "2a6de7b7",
   "metadata": {},
   "outputs": [],
   "source": [
    "# Normally distributed random numbers: mean:0, Std: 1\n",
    "\n",
    "normal_array = np.random.normal(0,11000,3000)"
   ]
  },
  {
   "cell_type": "code",
   "execution_count": 199,
   "id": "24e3bf98",
   "metadata": {},
   "outputs": [
    {
     "data": {
      "image/png": "[encoded data removed]",
      "text/plain": [
       "<Figure size 640x480 with 1 Axes>"
      ]
     },
     "metadata": {},
     "output_type": "display_data"
    }
   ],
   "source": [
    "createHisto(normal_array)"
   ]
  },
  {
   "cell_type": "code",
   "execution_count": 204,
   "id": "197509a0",
   "metadata": {},
   "outputs": [
    {
     "data": {
      "text/plain": [
       "('Max:', 38579.83002025295, ' Min:', -38759.81153256717)"
      ]
     },
     "execution_count": 204,
     "metadata": {},
     "output_type": "execute_result"
    }
   ],
   "source": [
    "'Max:',np.max(normal_array), ' Min:', np.min(normal_array) # both streches are same"
   ]
  },
  {
   "cell_type": "markdown",
   "id": "147e6cca",
   "metadata": {},
   "source": [
    "### Side Note on Standard Deviation:\n",
    "\n",
    "    Approximately 68% of the data falls within +/- 1 standard deviation from the mean.\n",
    "    Approximately 95% of the data falls within +/- 2 standard deviations from the mean.\n",
    "    Approximately 99.7% of the data falls within +/- 3 standard deviations from the mean.\n",
    "    \n",
    "    ___\n",
    "    \n",
    "    +/- 1 standard deviation: Approximately 68.27%\n",
    "    +/- 2 standard deviations: Approximately 95.45%\n",
    "    +/- 3 standard deviations: Approximately 99.73%\n",
    "    +/- 4 standard deviations: Approximately 99.994%\n",
    "    +/- 5 standard deviations: Approximately 99.9999427%\n",
    "    +/- 6 standard deviations: Approximately 99.9999998%\n",
    "    +/- 7 standard deviations: Approximately 99.9999999998%"
   ]
  },
  {
   "cell_type": "code",
   "execution_count": null,
   "id": "ead597e9",
   "metadata": {},
   "outputs": [],
   "source": []
  }
 ],
 "metadata": {
  "kernelspec": {
   "display_name": "Python 3 (ipykernel)",
   "language": "python",
   "name": "python3"
  },
  "language_info": {
   "codemirror_mode": {
    "name": "ipython",
    "version": 3
   },
   "file_extension": ".py",
   "mimetype": "text/x-python",
   "name": "python",
   "nbconvert_exporter": "python",
   "pygments_lexer": "ipython3",
   "version": "3.10.8"
  }
 },
 "nbformat": 4,
 "nbformat_minor": 5
}

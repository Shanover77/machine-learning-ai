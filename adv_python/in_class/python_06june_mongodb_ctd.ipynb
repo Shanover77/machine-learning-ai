{
 "cells": [
  {
   "cell_type": "code",
   "execution_count": null,
   "id": "2dd3f373",
   "metadata": {},
   "outputs": [],
   "source": [
    "# mongo init\n",
    "import pymongo\n",
    "client = pymongo.MongoClient()"
   ]
  },
  {
   "cell_type": "code",
   "execution_count": 2,
   "id": "634d8f4d",
   "metadata": {},
   "outputs": [
    {
     "name": "stdout",
     "output_type": "stream",
     "text": [
      "Collection(Database(MongoClient(host=['localhost:27017'], document_class=dict, tz_aware=False, connect=True), 'test'), 'employee')\n"
     ]
    }
   ],
   "source": [
    "# select db\n",
    "\n",
    "db = client.test\n",
    "emp = db.employee\n",
    "print(emp)"
   ]
  },
  {
   "cell_type": "code",
   "execution_count": 5,
   "id": "62d20b94",
   "metadata": {},
   "outputs": [
    {
     "name": "stdout",
     "output_type": "stream",
     "text": [
      "{'_id': ObjectId('647fb301d6374e698cb74451'), 'Name': 'Shanover', 'Address': '123 Main St.', 'Age': 42}\n"
     ]
    }
   ],
   "source": [
    "# fetch one\n",
    "x = emp.find_one()\n",
    "print(x)"
   ]
  },
  {
   "cell_type": "code",
   "execution_count": 9,
   "id": "be140ae4",
   "metadata": {},
   "outputs": [
    {
     "name": "stdout",
     "output_type": "stream",
     "text": [
      "Document: {'_id': ObjectId('647fb301d6374e698cb74451'), 'Name': 'Shanover', 'Address': '123 Main St.', 'Age': 42}\n",
      "Document: {'_id': 1, 'name': 'John', 'address': 'Highway 37'}\n",
      "Document: {'_id': 2, 'name': 'Peter', 'address': 'Lowstreet 27'}\n",
      "Document: {'_id': 3, 'name': 'Amy', 'address': 'Close st 652'}\n",
      "Document: {'_id': 4, 'name': 'Hannah', 'address': 'Mountain 21'}\n",
      "Document: {'_id': 5, 'name': 'Michael', 'address': 'Valley 345'}\n",
      "Document: {'_id': 6, 'name': 'Vicky', 'address': 'Yellow Garden 124'}\n",
      "Document: {'_id': 7, 'name': 'Nicky', 'address': 'Yellow Garden 23'}\n",
      "Document: {'_id': 8, 'name': 'Nancy', 'address': 'Younge Ave. 123'}\n",
      "Document: {'_id': 9, 'name': 'Viola', 'address': 'Sideway Ave'}\n"
     ]
    }
   ],
   "source": [
    "# fetch multple\n",
    "\n",
    "x = emp.find()\n",
    "for row in x:\n",
    "    print('Document:',row)"
   ]
  },
  {
   "cell_type": "markdown",
   "id": "8bd56b47",
   "metadata": {},
   "source": [
    "## Queries in MongoDB - Warm-up"
   ]
  },
  {
   "cell_type": "markdown",
   "id": "e3f55670",
   "metadata": {},
   "source": [
    "Note: use format emp.find({_docs_selector, _fields_selector_})"
   ]
  },
  {
   "cell_type": "markdown",
   "id": "d6256ca7",
   "metadata": {},
   "source": [
    "#### filter by fields"
   ]
  },
  {
   "cell_type": "code",
   "execution_count": 17,
   "id": "43af5dca",
   "metadata": {
    "scrolled": true
   },
   "outputs": [
    {
     "name": "stdout",
     "output_type": "stream",
     "text": [
      "{}\n",
      "{'name': 'John', 'address': 'Highway 37'}\n",
      "{'name': 'Peter', 'address': 'Lowstreet 27'}\n",
      "{'name': 'Amy', 'address': 'Close st 652'}\n",
      "{'name': 'Hannah', 'address': 'Mountain 21'}\n",
      "{'name': 'Michael', 'address': 'Valley 345'}\n",
      "{'name': 'Vicky', 'address': 'Yellow Garden 124'}\n",
      "{'name': 'Nicky', 'address': 'Yellow Garden 23'}\n",
      "{'name': 'Nancy', 'address': 'Younge Ave. 123'}\n",
      "{'name': 'Viola', 'address': 'Sideway Ave'}\n"
     ]
    }
   ],
   "source": [
    "for x in emp.find({},{\"_id\":0,\"name\":1,\"address\":1}):\n",
    "    print(x)"
   ]
  },
  {
   "cell_type": "markdown",
   "id": "89de516e",
   "metadata": {},
   "source": [
    "#### filter by documents (combined with field filter)"
   ]
  },
  {
   "cell_type": "code",
   "execution_count": 20,
   "id": "9e946647",
   "metadata": {},
   "outputs": [
    {
     "name": "stdout",
     "output_type": "stream",
     "text": [
      "{'name': 'John', 'address': 'Highway 37'}\n"
     ]
    }
   ],
   "source": [
    "for x in emp.find({\"address\":\"Highway 37\"},{\"_id\":0,\"name\":1,\"address\":1}):\n",
    "    print(x)"
   ]
  },
  {
   "cell_type": "code",
   "execution_count": 26,
   "id": "fea6920b",
   "metadata": {},
   "outputs": [
    {
     "name": "stdout",
     "output_type": "stream",
     "text": [
      "{'name': 'Hannah', 'address': 'Mountain 21'}\n"
     ]
    }
   ],
   "source": [
    "# practice/challenge\n",
    "\n",
    "for x in emp.find({\"address\":\"Mountain 21\"},{\"_id\":0,\"name\":1,\"address\":1}):print(x)"
   ]
  },
  {
   "cell_type": "code",
   "execution_count": 27,
   "id": "6cda37fb",
   "metadata": {},
   "outputs": [
    {
     "name": "stdout",
     "output_type": "stream",
     "text": [
      "{'_id': 3, 'name': 'Amy', 'address': 'Close st 652'}\n"
     ]
    }
   ],
   "source": [
    "query = emp.find({\"name\":\"Amy\"})\n",
    "\n",
    "for x in query: print(x)"
   ]
  },
  {
   "cell_type": "markdown",
   "id": "4bdc2d7f",
   "metadata": {},
   "source": [
    "#### filter with regex"
   ]
  },
  {
   "cell_type": "code",
   "execution_count": 32,
   "id": "ab66b895",
   "metadata": {},
   "outputs": [
    {
     "name": "stdout",
     "output_type": "stream",
     "text": [
      "{'_id': 6, 'name': 'Vicky', 'address': 'Yellow Garden 124'}\n",
      "{'_id': 7, 'name': 'Nicky', 'address': 'Yellow Garden 23'}\n",
      "{'_id': 8, 'name': 'Nancy', 'address': 'Younge Ave. 123'}\n"
     ]
    }
   ],
   "source": [
    "query = {\"address\":{\"$regex\":\"^Y\"}}\n",
    "\n",
    "docs = emp.find(query) #.limit(2) - use limit(n) to limit the number of docs to n\n",
    "\n",
    "for x in docs: print(x)"
   ]
  },
  {
   "cell_type": "markdown",
   "id": "2663df7d",
   "metadata": {},
   "source": [
    "#### using Or \n",
    "usage: query = {\"$or\":[{exp1},{exp2}]}"
   ]
  },
  {
   "cell_type": "code",
   "execution_count": 34,
   "id": "f050853f",
   "metadata": {},
   "outputs": [
    {
     "name": "stdout",
     "output_type": "stream",
     "text": [
      "{'_id': 6, 'name': 'Vicky', 'address': 'Yellow Garden 124'}\n",
      "{'_id': 7, 'name': 'Nicky', 'address': 'Yellow Garden 23'}\n",
      "{'_id': 8, 'name': 'Nancy', 'address': 'Younge Ave. 123'}\n",
      "{'_id': 9, 'name': 'Viola', 'address': 'Sideway Ave'}\n"
     ]
    }
   ],
   "source": [
    "query = {\"$or\":[{\"address\":{\"$regex\":\"^Y\"}}, {\"address\":{\"$regex\" :\"^S\"}}]}\n",
    "\n",
    "docs = emp.find(query)\n",
    "\n",
    "for x in docs: print(x)"
   ]
  },
  {
   "cell_type": "code",
   "execution_count": 35,
   "id": "b2ec2c62",
   "metadata": {},
   "outputs": [
    {
     "name": "stdout",
     "output_type": "stream",
     "text": [
      "{'_id': 6, 'name': 'Vicky', 'address': 'Yellow Garden 124'}\n",
      "{'_id': 7, 'name': 'Nicky', 'address': 'Yellow Garden 23'}\n",
      "{'_id': 8, 'name': 'Nancy', 'address': 'Younge Ave. 123'}\n",
      "{'_id': 9, 'name': 'Viola', 'address': 'Sideway Ave'}\n"
     ]
    }
   ],
   "source": [
    "# better code\n",
    "\n",
    "query = {\"address\": {\"$regex\":\"^S|^Y\"}}\n",
    "docs = emp.find(query)\n",
    "\n",
    "for x in docs: print(x)"
   ]
  },
  {
   "cell_type": "code",
   "execution_count": 56,
   "id": "94890c84",
   "metadata": {},
   "outputs": [
    {
     "name": "stdout",
     "output_type": "stream",
     "text": [
      "{'_id': 6, 'name': 'Vicky', 'address': 'Yellow Garden 124'}\n",
      "{'_id': 7, 'name': 'Nicky', 'address': 'Yellow Garden 23'}\n",
      "{'_id': 8, 'name': 'Nancy', 'address': 'Younge Ave. 123'}\n"
     ]
    }
   ],
   "source": [
    "# practice code:\n",
    "\n",
    "query = {\"$and\":[{\"address\": {\"$regex\": \"^Y\"}},\n",
    "          {\"address\": {\"$regex\": \"[o]\"}}]}\n",
    "docs = emp.find(query)\n",
    "\n",
    "for x in docs: print(x)"
   ]
  },
  {
   "cell_type": "code",
   "execution_count": 61,
   "id": "ef87faa4",
   "metadata": {},
   "outputs": [
    {
     "name": "stdout",
     "output_type": "stream",
     "text": [
      "{'_id': 6, 'name': 'Vicky', 'address': 'Yellow Garden 124'}\n",
      "{'_id': 8, 'name': 'Nancy', 'address': 'Younge Ave. 123'}\n"
     ]
    }
   ],
   "source": [
    "# practice code 2:\n",
    "\n",
    "query = {\"$and\":[{\"address\": {\"$regex\": \"^Y\"}},\n",
    "          {\"address\": {\"$regex\": \"1\"}}]}\n",
    "docs = emp.find(query)\n",
    "\n",
    "for x in docs: print(x)"
   ]
  },
  {
   "cell_type": "markdown",
   "id": "6c54f94b",
   "metadata": {},
   "source": [
    "####  Not equal operator\n",
    "Use '$ne'"
   ]
  },
  {
   "cell_type": "code",
   "execution_count": 62,
   "id": "fa43a98b",
   "metadata": {},
   "outputs": [
    {
     "name": "stdout",
     "output_type": "stream",
     "text": [
      "{'_id': 6, 'name': 'Vicky', 'address': 'Yellow Garden 124'}\n",
      "{'_id': 8, 'name': 'Nancy', 'address': 'Younge Ave. 123'}\n"
     ]
    }
   ],
   "source": [
    "query = {\"$and\":[{\"address\":{\"$regex\":\"^Y\"}},{\"address\":{\"$regex\":\"1\"}},{\"name\":{\"$ne\":\"Nicky\"}}]}\n",
    "\n",
    "docs = emp.find(query)\n",
    "for x in docs: print(x)"
   ]
  },
  {
   "cell_type": "markdown",
   "id": "100b0d3d",
   "metadata": {},
   "source": [
    "#### Greater than operator\n",
    "Use '$gt'"
   ]
  },
  {
   "cell_type": "code",
   "execution_count": 69,
   "id": "f2c27c65",
   "metadata": {},
   "outputs": [
    {
     "name": "stdout",
     "output_type": "stream",
     "text": [
      "{'_id': 5, 'name': 'Michael', 'address': 'Valley 345'}\n",
      "{'_id': 6, 'name': 'Vicky', 'address': 'Yellow Garden 124'}\n",
      "{'_id': 7, 'name': 'Nicky', 'address': 'Yellow Garden 23'}\n",
      "{'_id': 8, 'name': 'Nancy', 'address': 'Younge Ave. 123'}\n"
     ]
    }
   ],
   "source": [
    "# docs with letter 'T' and higher\n",
    "\n",
    "query = {\"address\": {\"$gt\": \"T\"}} # makes more sense than 'T' in this example\n",
    "docs = emp.find(query)\n",
    "\n",
    "for x in docs: print(x)"
   ]
  },
  {
   "cell_type": "markdown",
   "id": "fb8ce6dd",
   "metadata": {},
   "source": [
    "### Sorting"
   ]
  },
  {
   "cell_type": "code",
   "execution_count": 78,
   "id": "555770b8",
   "metadata": {},
   "outputs": [
    {
     "name": "stdout",
     "output_type": "stream",
     "text": [
      "Asc:\n",
      "{'_id': ObjectId('647fb301d6374e698cb74451'), 'Name': 'Shanover', 'Address': '123 Main St.', 'Age': 42}\n",
      "{'_id': 3, 'name': 'Amy', 'address': 'Close st 652'}\n",
      "{'_id': 4, 'name': 'Hannah', 'address': 'Mountain 21'}\n",
      "{'_id': 1, 'name': 'John', 'address': 'Highway 37'}\n",
      "{'_id': 5, 'name': 'Michael', 'address': 'Valley 345'}\n",
      "{'_id': 8, 'name': 'Nancy', 'address': 'Younge Ave. 123'}\n",
      "{'_id': 7, 'name': 'Nicky', 'address': 'Yellow Garden 23'}\n",
      "{'_id': 2, 'name': 'Peter', 'address': 'Lowstreet 27'}\n",
      "{'_id': 6, 'name': 'Vicky', 'address': 'Yellow Garden 124'}\n",
      "{'_id': 9, 'name': 'Viola', 'address': 'Sideway Ave'}\n",
      "Desc:\n",
      "{'_id': 9, 'name': 'Viola', 'address': 'Sideway Ave'}\n",
      "{'_id': 6, 'name': 'Vicky', 'address': 'Yellow Garden 124'}\n",
      "{'_id': 2, 'name': 'Peter', 'address': 'Lowstreet 27'}\n",
      "{'_id': 7, 'name': 'Nicky', 'address': 'Yellow Garden 23'}\n",
      "{'_id': 8, 'name': 'Nancy', 'address': 'Younge Ave. 123'}\n",
      "{'_id': 5, 'name': 'Michael', 'address': 'Valley 345'}\n",
      "{'_id': 1, 'name': 'John', 'address': 'Highway 37'}\n",
      "{'_id': 4, 'name': 'Hannah', 'address': 'Mountain 21'}\n",
      "{'_id': 3, 'name': 'Amy', 'address': 'Close st 652'}\n",
      "{'_id': ObjectId('647fb301d6374e698cb74451'), 'Name': 'Shanover', 'Address': '123 Main St.', 'Age': 42}\n"
     ]
    }
   ],
   "source": [
    "docs_asc = emp.find().sort(\"name\")\n",
    "print('Asc:')\n",
    "for a in docs_asc: print(a)\n",
    "\n",
    "print('Desc:')\n",
    "docs_desc = emp.find().sort(\"name\",-1)\n",
    "for b in docs_desc: print(b)"
   ]
  },
  {
   "cell_type": "markdown",
   "id": "63a657f6",
   "metadata": {},
   "source": [
    "### Update : a record"
   ]
  },
  {
   "cell_type": "code",
   "execution_count": 87,
   "id": "455f6862",
   "metadata": {},
   "outputs": [
    {
     "name": "stdout",
     "output_type": "stream",
     "text": [
      "{'_id': ObjectId('647fb301d6374e698cb74451'), 'Name': 'Shanover', 'Address': '123 Main St.', 'Age': 42}\n",
      "{'_id': 1, 'name': 'John', 'address': 'Highway 37'}\n",
      "{'_id': 2, 'name': 'Peter', 'address': 'Lowstreet 27'}\n",
      "{'_id': 3, 'name': 'Amy', 'address': 'Close st 652'}\n",
      "{'_id': 4, 'name': 'Hannah', 'address': 'Mountain 21'}\n",
      "{'_id': 5, 'name': 'Hannah_new', 'address': 'Newaddress 100'}\n",
      "{'_id': 6, 'name': 'Vicky', 'address': 'Yellow Garden 124'}\n",
      "{'_id': 7, 'name': 'Nicky', 'address': 'Yellow Garden 23'}\n",
      "{'_id': 8, 'name': 'Nancy', 'address': 'Younge Ave. 123'}\n",
      "{'_id': 9, 'name': 'Viola', 'address': 'Sideway Ave'}\n",
      "___________________________ __________________-\n",
      "{'_id': ObjectId('647fb301d6374e698cb74451'), 'Name': 'Shanover', 'Address': '123 Main St.', 'Age': 42}\n",
      "{'_id': 1, 'name': 'John', 'address': 'Highway 37'}\n",
      "{'_id': 2, 'name': 'Peter', 'address': 'Lowstreet 27'}\n",
      "{'_id': 3, 'name': 'Amy', 'address': 'Close st 652'}\n",
      "{'_id': 4, 'name': 'Hannah', 'address': 'Mountain 21'}\n",
      "{'_id': 5, 'name': 'Michael', 'address': 'Valley 345'}\n",
      "{'_id': 6, 'name': 'Vicky', 'address': 'Yellow Garden 124'}\n",
      "{'_id': 7, 'name': 'Nicky', 'address': 'Yellow Garden 23'}\n",
      "{'_id': 8, 'name': 'Nancy', 'address': 'Younge Ave. 123'}\n",
      "{'_id': 9, 'name': 'Viola', 'address': 'Sideway Ave'}\n"
     ]
    }
   ],
   "source": [
    "for x in emp.find(): print(x)\n",
    "    \n",
    "query = {\"address\":\"Newaddress 100\"}\n",
    "newval = {\"$set\":{\"address\":\"Valley 345\", \"name\":\"Michael\"}}\n",
    "\n",
    "emp.update_one(query, newval)\n",
    "\n",
    "print('___________________________ __________________-')\n",
    "for x in emp.find(): print(x)"
   ]
  },
  {
   "cell_type": "markdown",
   "id": "fb9c4489",
   "metadata": {},
   "source": [
    "### Update: many"
   ]
  },
  {
   "cell_type": "code",
   "execution_count": 88,
   "id": "8b8aaaff",
   "metadata": {},
   "outputs": [
    {
     "name": "stdout",
     "output_type": "stream",
     "text": [
      "___________________________ __________________ Updated: 1\n",
      "{'_id': ObjectId('647fb301d6374e698cb74451'), 'Name': 'Shanover', 'Address': '123 Main St.', 'Age': 42}\n",
      "{'_id': 1, 'name': 'John', 'address': 'Highway 37'}\n",
      "{'_id': 2, 'name': 'Peter', 'address': 'Lowstreet 27'}\n",
      "{'_id': 3, 'name': 'Name with C', 'address': 'Close st 652'}\n",
      "{'_id': 4, 'name': 'Hannah', 'address': 'Mountain 21'}\n",
      "{'_id': 5, 'name': 'Michael', 'address': 'Valley 345'}\n",
      "{'_id': 6, 'name': 'Vicky', 'address': 'Yellow Garden 124'}\n",
      "{'_id': 7, 'name': 'Nicky', 'address': 'Yellow Garden 23'}\n",
      "{'_id': 8, 'name': 'Nancy', 'address': 'Younge Ave. 123'}\n",
      "{'_id': 9, 'name': 'Viola', 'address': 'Sideway Ave'}\n"
     ]
    }
   ],
   "source": [
    "query = {\"address\":{\"$regex\":\"^C\"}}\n",
    "newval = {\"$set\":{\"name\":\"Name with C\"}}\n",
    "\n",
    "x = emp.update_many(query, newval)\n",
    "\n",
    "print('___________________________ __________________ Updated:',x.modified_count)\n",
    "for x in emp.find(): print(x)"
   ]
  },
  {
   "cell_type": "markdown",
   "id": "9743f804",
   "metadata": {},
   "source": [
    "### Delete: a document"
   ]
  },
  {
   "cell_type": "code",
   "execution_count": 92,
   "id": "55213dbf",
   "metadata": {},
   "outputs": [
    {
     "name": "stdout",
     "output_type": "stream",
     "text": [
      "Deleted: 1 \n",
      "\n",
      "{'_id': 1, 'name': 'John', 'address': 'Highway 37'}\n",
      "{'_id': 2, 'name': 'Peter', 'address': 'Lowstreet 27'}\n",
      "{'_id': 3, 'name': 'Name with C', 'address': 'Close st 652'}\n",
      "{'_id': 4, 'name': 'Hannah', 'address': 'Mountain 21'}\n",
      "{'_id': 6, 'name': 'Vicky', 'address': 'Yellow Garden 124'}\n",
      "{'_id': 8, 'name': 'Nancy', 'address': 'Younge Ave. 123'}\n",
      "{'_id': 9, 'name': 'Viola', 'address': 'Sideway Ave'}\n"
     ]
    }
   ],
   "source": [
    "x = emp.delete_one({\"name\":'Nicky'})\n",
    "\n",
    "print('Deleted:',x.deleted_count,'\\n')\n",
    "for x in emp.find(): print(x)"
   ]
  },
  {
   "cell_type": "markdown",
   "id": "05ff1487",
   "metadata": {},
   "source": [
    "### Drop the field"
   ]
  },
  {
   "cell_type": "code",
   "execution_count": 96,
   "id": "67188211",
   "metadata": {},
   "outputs": [
    {
     "name": "stdout",
     "output_type": "stream",
     "text": [
      "Deleted: 0\n",
      "{'_id': 1, 'name': 'John'}\n",
      "{'_id': 2, 'name': 'Peter'}\n",
      "{'_id': 3, 'name': 'Name with C'}\n",
      "{'_id': 4, 'name': 'Hannah'}\n",
      "{'_id': 8, 'name': 'Nancy'}\n"
     ]
    }
   ],
   "source": [
    "# Using update_many\n",
    "x = emp.update_many({},{\"$unset\":{\"address\":\"\"}})\n",
    "\n",
    "print('Deleted:',x.modified_count)\n",
    "for x in emp.find(): print(x)"
   ]
  },
  {
   "cell_type": "code",
   "execution_count": 98,
   "id": "207e1237",
   "metadata": {},
   "outputs": [
    {
     "name": "stdout",
     "output_type": "stream",
     "text": [
      "Deleted: 1\n",
      "{'_id': 2, 'name': 'Peter'}\n",
      "{'_id': 3, 'name': 'Name with C'}\n",
      "{'_id': 4, 'name': 'Hannah'}\n",
      "{'_id': 8, 'name': 'Nancy'}\n"
     ]
    }
   ],
   "source": [
    "# Using delete_many (and query)\n",
    "x = emp.delete_many({\"name\":{\"$regex\":\"^J\"}})\n",
    "\n",
    "print('Deleted:',x.deleted_count)\n",
    "for x in emp.find(): print(x)"
   ]
  },
  {
   "cell_type": "markdown",
   "id": "805843d9",
   "metadata": {},
   "source": [
    "#### Drop the collection"
   ]
  },
  {
   "cell_type": "code",
   "execution_count": 103,
   "id": "09df984e",
   "metadata": {},
   "outputs": [
    {
     "name": "stdout",
     "output_type": "stream",
     "text": [
      "Collections: []\n"
     ]
    }
   ],
   "source": [
    "emp.drop()\n",
    "\n",
    "print('Collections:',db.list_collection_names())"
   ]
  }
 ],
 "metadata": {
  "kernelspec": {
   "display_name": "Python 3 (ipykernel)",
   "language": "python",
   "name": "python3"
  },
  "language_info": {
   "codemirror_mode": {
    "name": "ipython",
    "version": 3
   },
   "file_extension": ".py",
   "mimetype": "text/x-python",
   "name": "python",
   "nbconvert_exporter": "python",
   "pygments_lexer": "ipython3",
   "version": "3.10.8"
  }
 },
 "nbformat": 4,
 "nbformat_minor": 5
}

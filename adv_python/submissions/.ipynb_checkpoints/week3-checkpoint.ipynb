{
 "cells": [
  {
   "cell_type": "code",
   "execution_count": 3,
   "id": "bd38174e",
   "metadata": {},
   "outputs": [
    {
     "data": {
      "text/plain": [
       "' Questions:\\nWeek 3\\n\\n# 1-Write a Python program to find 4 numbers from an array such that the sum of 4 numbers equal to a given number.\\nInput : [1, 0, -1, 0, -2, 2,10,11], 0)\\nOutput : [[-2, -1, 1, 2], [-2, 0, 0, 2], [-1, 0, 0, 1]]\\n\\n# 2-Write a Python program to find the single element appears once in a list where every element appears multiple times except for one. \\nInput : [1, 1, 1, 2, 2, 2, 3]\\nOutput : 3\\n\\n# 3-Write a Python program to add the digits of a positive integer repeatedly until the result has a single digit. \\nInput : 48\\nOutput : 3\\nFor example given number is 59, the result will be 5.\\nStep 1: 5 + 9 = 14\\nStep 1: 1 + 4 = 5\\n'"
      ]
     },
     "execution_count": 3,
     "metadata": {},
     "output_type": "execute_result"
    }
   ],
   "source": [
    "\"\"\" Questions:\n",
    "Week 3\n",
    "\n",
    "# 1-Write a Python program to find 4 numbers from an array such that the sum of 4 numbers equal to a given number.\n",
    "Input : [1, 0, -1, 0, -2, 2,10,11], 0)\n",
    "Output : [[-2, -1, 1, 2], [-2, 0, 0, 2], [-1, 0, 0, 1]]\n",
    "\n",
    "# 2-Write a Python program to find the single element appears once in a list where every element appears multiple times except for one. \n",
    "Input : [1, 1, 1, 2, 2, 2, 3]\n",
    "Output : 3\n",
    "\n",
    "# 3-Write a Python program to add the digits of a positive integer repeatedly until the result has a single digit. \n",
    "Input : 48\n",
    "Output : 3\n",
    "For example given number is 59, the result will be 5.\n",
    "Step 1: 5 + 9 = 14\n",
    "Step 1: 1 + 4 = 5\n",
    "\"\"\""
   ]
  },
  {
   "cell_type": "code",
   "execution_count": 67,
   "id": "6b24f97b",
   "metadata": {},
   "outputs": [
    {
     "name": "stdout",
     "output_type": "stream",
     "text": [
      "[1, 0, -1, 0, -2, 2, 10, 11]\n"
     ]
    }
   ],
   "source": [
    "# Question 1: Write a Python program to find 4 numbers from an array such that the sum of 4 numbers equal to a given number.\n",
    "\n",
    "inp = [1, 0, -1, 0, -2, 2,10,11]\n",
    "k = 0\n",
    "\n"
   ]
  },
  {
   "cell_type": "code",
   "execution_count": 68,
   "id": "39679419",
   "metadata": {},
   "outputs": [],
   "source": [
    "# Question 2: Write a Python program to find the single element appears once in a list where every element appears multiple times except for one. \n",
    "Input : [1, 1, 1, 2, 2, 2, 3]\n",
    "Output : 3\n"
   ]
  },
  {
   "cell_type": "code",
   "execution_count": 153,
   "id": "9ad068f8",
   "metadata": {},
   "outputs": [
    {
     "name": "stdout",
     "output_type": "stream",
     "text": [
      "5\n"
     ]
    }
   ],
   "source": [
    "# 3-Write a Python program to add the digits of a positive integer repeatedly until the result has a single digit. \n",
    "# Input : 48\n",
    "# Output : 3\n",
    "# For example given number is 59, the result will be 5.\n",
    "# Step 1: 5 + 9 = 14\n",
    "# Step 1: 1 + 4 = 5\n",
    "\n",
    "input = 599\n",
    "sum = input\n",
    "while input/10 > 0:\n",
    "    input = input//10\n",
    "    sum = sum%10 + sum//10\n",
    "\n",
    "print(sum)"
   ]
  },
  {
   "cell_type": "code",
   "execution_count": null,
   "id": "644793b7",
   "metadata": {},
   "outputs": [],
   "source": []
  }
 ],
 "metadata": {
  "kernelspec": {
   "display_name": "Python 3 (ipykernel)",
   "language": "python",
   "name": "python3"
  },
  "language_info": {
   "codemirror_mode": {
    "name": "ipython",
    "version": 3
   },
   "file_extension": ".py",
   "mimetype": "text/x-python",
   "name": "python",
   "nbconvert_exporter": "python",
   "pygments_lexer": "ipython3",
   "version": "3.10.8"
  }
 },
 "nbformat": 4,
 "nbformat_minor": 5
}

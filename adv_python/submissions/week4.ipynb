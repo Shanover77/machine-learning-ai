{
 "cells": [
  {
   "cell_type": "markdown",
   "id": "b5ab9b96",
   "metadata": {},
   "source": [
    "Write a Python program to find the single element in a list where every element appears multiple times except for one.\n",
    "Input : [5, 3, 4, 3, 5, 5, 3],\n",
    "Output : 4"
   ]
  },
  {
   "cell_type": "code",
   "execution_count": null,
   "id": "39e7f7f4",
   "metadata": {},
   "outputs": [],
   "source": []
  }
 ],
 "metadata": {
  "kernelspec": {
   "display_name": "Python 3 (ipykernel)",
   "language": "python",
   "name": "python3"
  },
  "language_info": {
   "codemirror_mode": {
    "name": "ipython",
    "version": 3
   },
   "file_extension": ".py",
   "mimetype": "text/x-python",
   "name": "python",
   "nbconvert_exporter": "python",
   "pygments_lexer": "ipython3",
   "version": "3.10.8"
  }
 },
 "nbformat": 4,
 "nbformat_minor": 5
}

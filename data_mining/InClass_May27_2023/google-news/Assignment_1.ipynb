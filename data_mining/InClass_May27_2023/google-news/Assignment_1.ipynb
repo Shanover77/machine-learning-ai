{
 "cells": [
  {
   "cell_type": "code",
   "execution_count": 1,
   "id": "75fb36ed",
   "metadata": {},
   "outputs": [],
   "source": [
    "# pip install GoogleNews"
   ]
  },
  {
   "cell_type": "code",
   "execution_count": 2,
   "id": "3189575d",
   "metadata": {},
   "outputs": [],
   "source": [
    "# Import GoogleNews package\n",
    "\n",
    "from GoogleNews import GoogleNews\n",
    "gnews_ex = GoogleNews()"
   ]
  },
  {
   "cell_type": "code",
   "execution_count": 3,
   "id": "434e9497",
   "metadata": {},
   "outputs": [
    {
     "name": "stdout",
     "output_type": "stream",
     "text": [
      "1.6.8\n"
     ]
    }
   ],
   "source": [
    "# Check and set initial configuration\n",
    "\n",
    "print(gnews_ex.getVersion()) # version will appear if the package was installed/imported successfully\n",
    "gnews_ex.enableException(True) # Setting exceptions to show\n",
    "gnews_ex = GoogleNews(lang='en') # Setting English language\n",
    "gnews_ex.set_encode('utf-8') # Setting encoding"
   ]
  },
  {
   "cell_type": "code",
   "execution_count": 9,
   "id": "5836e8e4",
   "metadata": {},
   "outputs": [],
   "source": [
    "# Defining a method for easy usability throughout and in future\n",
    "# A good practice to abstract the underlying functionality and only keep direct usable interfaces based on the objective\n",
    "\n",
    "import pandas as pd\n",
    "\n",
    "def getNewsAsDf(searchQuery, periodInDays):\n",
    "    gnews_ex.set_period(periodInDays)    \n",
    "    gnews_ex.search(searchQuery)    \n",
    "    newsRes = gnews_ex.result()\n",
    "    newsDf = pd.DataFrame(newsRes)\n",
    "    gnews_ex.clear() # according the documentation, it is recommended to clear the list before another search\n",
    "    return newsDf\n",
    "\n",
    "def getRawNews(searchQuery, periodInDays):\n",
    "    gnews_ex.set_period(periodInDays)    \n",
    "    gnews_ex.search(searchQuery)    \n",
    "    newsRes = gnews_ex.result()\n",
    "    return newsRes"
   ]
  },
  {
   "cell_type": "code",
   "execution_count": 25,
   "id": "12f60268",
   "metadata": {},
   "outputs": [
    {
     "data": {
      "text/html": [
       "<div>\n",
       "<style scoped>\n",
       "    .dataframe tbody tr th:only-of-type {\n",
       "        vertical-align: middle;\n",
       "    }\n",
       "\n",
       "    .dataframe tbody tr th {\n",
       "        vertical-align: top;\n",
       "    }\n",
       "\n",
       "    .dataframe thead th {\n",
       "        text-align: right;\n",
       "    }\n",
       "</style>\n",
       "<table border=\"1\" class=\"dataframe\">\n",
       "  <thead>\n",
       "    <tr style=\"text-align: right;\">\n",
       "      <th></th>\n",
       "      <th>title</th>\n",
       "      <th>media</th>\n",
       "      <th>date</th>\n",
       "      <th>datetime</th>\n",
       "      <th>desc</th>\n",
       "      <th>link</th>\n",
       "      <th>img</th>\n",
       "    </tr>\n",
       "  </thead>\n",
       "  <tbody>\n",
       "    <tr>\n",
       "      <th>0</th>\n",
       "      <td>Tim Cook covers Vision Pro, ChatGPT AI, and mo...</td>\n",
       "      <td>BGR</td>\n",
       "      <td>7 hours ago</td>\n",
       "      <td>2023-06-06 22:04:41.429497</td>\n",
       "      <td>Apple's CEO Tim Cook announced the Vision Pro,...</td>\n",
       "      <td>https://bgr.com/tech/tim-cook-covers-vision-pr...</td>\n",
       "      <td>data:image/gif;base64,R0lGODlhAQABAIAAAP//////...</td>\n",
       "    </tr>\n",
       "    <tr>\n",
       "      <th>1</th>\n",
       "      <td>Watch: Evening News Headlines From Aaj Tak AI ...</td>\n",
       "      <td>YouTube</td>\n",
       "      <td>7 hours ago</td>\n",
       "      <td>2023-06-06 22:04:41.430496</td>\n",
       "      <td>The Evening News Headlines From Aaj Tak AI Anc...</td>\n",
       "      <td>https://www.youtube.com/watch?v=f4Gmk1kzy6w</td>\n",
       "      <td>data:image/gif;base64,R0lGODlhAQABAIAAAP//////...</td>\n",
       "    </tr>\n",
       "    <tr>\n",
       "      <th>2</th>\n",
       "      <td>Watch: International Headlines From Aaj Tak AI...</td>\n",
       "      <td>YouTube</td>\n",
       "      <td>1 hours ago</td>\n",
       "      <td>2023-06-07 04:04:41.431496</td>\n",
       "      <td>International Headlines From Aaj Tak AI Anchor...</td>\n",
       "      <td>https://www.youtube.com/watch?v=C7c--FLbgGg</td>\n",
       "      <td>data:image/gif;base64,R0lGODlhAQABAIAAAP//////...</td>\n",
       "    </tr>\n",
       "    <tr>\n",
       "      <th>3</th>\n",
       "      <td>This AI tool may let news reporters get back t...</td>\n",
       "      <td>Straight Arrow News</td>\n",
       "      <td>1 day ago</td>\n",
       "      <td>2023-06-06 05:04:41.442495</td>\n",
       "      <td>HeyWire AI is developing a self-prompting AI n...</td>\n",
       "      <td>https://straightarrownews.com/cc/ai-tool-may-l...</td>\n",
       "      <td>data:image/gif;base64,R0lGODlhAQABAIAAAP//////...</td>\n",
       "    </tr>\n",
       "    <tr>\n",
       "      <th>4</th>\n",
       "      <td>This AI tool may let news reporters get back t...</td>\n",
       "      <td>Brentwood Press</td>\n",
       "      <td>1 day ago</td>\n",
       "      <td>2023-06-06 05:04:41.454495</td>\n",
       "      <td>HeyWire AI is developing a self-prompting AI n...</td>\n",
       "      <td>https://www.thepress.net/news/national/this-ai...</td>\n",
       "      <td>data:image/gif;base64,R0lGODlhAQABAIAAAP//////...</td>\n",
       "    </tr>\n",
       "  </tbody>\n",
       "</table>\n",
       "</div>"
      ],
      "text/plain": [
       "                                               title                media   \n",
       "0  Tim Cook covers Vision Pro, ChatGPT AI, and mo...                  BGR  \\\n",
       "1  Watch: Evening News Headlines From Aaj Tak AI ...              YouTube   \n",
       "2  Watch: International Headlines From Aaj Tak AI...              YouTube   \n",
       "3  This AI tool may let news reporters get back t...  Straight Arrow News   \n",
       "4  This AI tool may let news reporters get back t...      Brentwood Press   \n",
       "\n",
       "          date                   datetime   \n",
       "0  7 hours ago 2023-06-06 22:04:41.429497  \\\n",
       "1  7 hours ago 2023-06-06 22:04:41.430496   \n",
       "2  1 hours ago 2023-06-07 04:04:41.431496   \n",
       "3    1 day ago 2023-06-06 05:04:41.442495   \n",
       "4    1 day ago 2023-06-06 05:04:41.454495   \n",
       "\n",
       "                                                desc   \n",
       "0  Apple's CEO Tim Cook announced the Vision Pro,...  \\\n",
       "1  The Evening News Headlines From Aaj Tak AI Anc...   \n",
       "2  International Headlines From Aaj Tak AI Anchor...   \n",
       "3  HeyWire AI is developing a self-prompting AI n...   \n",
       "4  HeyWire AI is developing a self-prompting AI n...   \n",
       "\n",
       "                                                link   \n",
       "0  https://bgr.com/tech/tim-cook-covers-vision-pr...  \\\n",
       "1        https://www.youtube.com/watch?v=f4Gmk1kzy6w   \n",
       "2        https://www.youtube.com/watch?v=C7c--FLbgGg   \n",
       "3  https://straightarrownews.com/cc/ai-tool-may-l...   \n",
       "4  https://www.thepress.net/news/national/this-ai...   \n",
       "\n",
       "                                                 img  \n",
       "0  data:image/gif;base64,R0lGODlhAQABAIAAAP//////...  \n",
       "1  data:image/gif;base64,R0lGODlhAQABAIAAAP//////...  \n",
       "2  data:image/gif;base64,R0lGODlhAQABAIAAAP//////...  \n",
       "3  data:image/gif;base64,R0lGODlhAQABAIAAAP//////...  \n",
       "4  data:image/gif;base64,R0lGODlhAQABAIAAAP//////...  "
      ]
     },
     "execution_count": 25,
     "metadata": {},
     "output_type": "execute_result"
    }
   ],
   "source": [
    "# Using the defined method, providing with searchQuery and perid in number of days\n",
    "\n",
    "dfNews = getNewsAsDf('AI as anchor', '7d')\n",
    "dfNews.head()"
   ]
  },
  {
   "cell_type": "markdown",
   "id": "d8ece568",
   "metadata": {},
   "source": [
    "## NLTK"
   ]
  },
  {
   "cell_type": "code",
   "execution_count": 6,
   "id": "70b589ad",
   "metadata": {},
   "outputs": [
    {
     "name": "stderr",
     "output_type": "stream",
     "text": [
      "[nltk_data] Downloading package punkt to\n",
      "[nltk_data]     C:\\Users\\Shanover\\AppData\\Roaming\\nltk_data...\n",
      "[nltk_data]   Package punkt is already up-to-date!\n",
      "[nltk_data] Downloading package averaged_perceptron_tagger to\n",
      "[nltk_data]     C:\\Users\\Shanover\\AppData\\Roaming\\nltk_data...\n",
      "[nltk_data]   Package averaged_perceptron_tagger is already up-to-\n",
      "[nltk_data]       date!\n",
      "[nltk_data] Downloading package maxent_ne_chunker to\n",
      "[nltk_data]     C:\\Users\\Shanover\\AppData\\Roaming\\nltk_data...\n",
      "[nltk_data]   Package maxent_ne_chunker is already up-to-date!\n",
      "[nltk_data] Downloading package words to\n",
      "[nltk_data]     C:\\Users\\Shanover\\AppData\\Roaming\\nltk_data...\n",
      "[nltk_data]   Package words is already up-to-date!\n"
     ]
    },
    {
     "data": {
      "text/plain": [
       "True"
      ]
     },
     "execution_count": 6,
     "metadata": {},
     "output_type": "execute_result"
    }
   ],
   "source": [
    "import nltk\n",
    "\n",
    "nltk.download('punkt')\n",
    "nltk.download('averaged_perceptron_tagger')\n",
    "nltk.download('maxent_ne_chunker')\n",
    "nltk.download('words')"
   ]
  },
  {
   "cell_type": "code",
   "execution_count": 11,
   "id": "bbb72004",
   "metadata": {},
   "outputs": [],
   "source": [
    "from nltk import ne_chunk, pos_tag, word_tokenize\n",
    "from nltk.tree import Tree"
   ]
  },
  {
   "cell_type": "code",
   "execution_count": 23,
   "id": "79dbf5d8",
   "metadata": {},
   "outputs": [
    {
     "name": "stdout",
     "output_type": "stream",
     "text": [
      "['Tim Cook covers Vision Pro, ChatGPT AI, and more in new interview', 'Watch: Evening News Headlines From Aaj Tak AI Anchor Sana', 'Watch: International Headlines From Aaj Tak AI Anchor Sana', \"This AI tool may let news reporters get back to journalism 'out there in the world'\", 'AI journalism in India: Did India enter a new era of broadcasting?', 'Trump shared a disturbing AI video of gay CNN anchor Anderson Cooper', 'Watch: Afternoon News Headlines From Aaj Tak AI Anchor Sana', 'Beijing launches campaign against AI-generated misinformation', 'Trump shares AI-altered fake clip of Anderson Cooper', 'China cracks down on AI-generated news anchors', 'Who is Sana AI Anchor Robot?', 'How AI is affecting the future of journalism | DW News', 'Afternoon News Headlines From Aaj Tak AI Anchor Sana | WATCH']\n"
     ]
    }
   ],
   "source": [
    "newsResults = getRawNews('AI as anchor','7d') # had to modify the query string a bit to get more news\n",
    "\n",
    "titles = []\n",
    "for item in newsResults:\n",
    "    title = item.get('title')\n",
    "    if title and title not in titles: # check if the title has already been added or not (because I found repetitive news)\n",
    "        titles.append(title)\n",
    "        \n",
    "print(titles)"
   ]
  },
  {
   "cell_type": "code",
   "execution_count": 26,
   "id": "4479bd50",
   "metadata": {},
   "outputs": [
    {
     "name": "stdout",
     "output_type": "stream",
     "text": [
      "Type:  PERSON Name:  Tim \n",
      "Type:  ORGANIZATION Name:  Cook \n",
      "Type:  PERSON Name:  Vision Pro \n",
      "Type:  ORGANIZATION Name:  ChatGPT \n",
      "Type:  PERSON Name:  Watch \n",
      "Type:  ORGANIZATION Name:  News \n",
      "Type:  PERSON Name:  Sana Watch \n",
      "Type:  ORGANIZATION Name:  International Headlines \n",
      "Type:  GPE Name:  India \n",
      "Type:  PERSON Name:  Trump \n",
      "Type:  ORGANIZATION Name:  CNN \n",
      "Type:  PERSON Name:  Anderson Cooper Watch \n",
      "Type:  PERSON Name:  Afternoon News Headlines \n",
      "Type:  PERSON Name:  Sana Beijing \n",
      "Type:  ORGANIZATION Name:  Trump \n",
      "Type:  PERSON Name:  Anderson Cooper China \n",
      "Type:  PERSON Name:  Sana AI Anchor Robot \n",
      "Type:  PERSON Name:  Sana \n"
     ]
    }
   ],
   "source": [
    "text = ' '.join(titles) # convert list to a string, so as to feed to the tokenizer in the next step\n",
    "\n",
    "nltk_results = ne_chunk(pos_tag(word_tokenize(text)))\n",
    "for nltk_result in nltk_results:\n",
    "    if type(nltk_result) == Tree:\n",
    "        name = ''\n",
    "        for nltk_result_leaf in nltk_result.leaves():\n",
    "            name += nltk_result_leaf[0] + ' '\n",
    "        print ('Type: ', nltk_result.label(), 'Name: ', name)"
   ]
  },
  {
   "cell_type": "code",
   "execution_count": null,
   "id": "a4aa325c",
   "metadata": {},
   "outputs": [],
   "source": []
  }
 ],
 "metadata": {
  "kernelspec": {
   "display_name": "Python 3 (ipykernel)",
   "language": "python",
   "name": "python3"
  },
  "language_info": {
   "codemirror_mode": {
    "name": "ipython",
    "version": 3
   },
   "file_extension": ".py",
   "mimetype": "text/x-python",
   "name": "python",
   "nbconvert_exporter": "python",
   "pygments_lexer": "ipython3",
   "version": "3.10.8"
  }
 },
 "nbformat": 4,
 "nbformat_minor": 5
}

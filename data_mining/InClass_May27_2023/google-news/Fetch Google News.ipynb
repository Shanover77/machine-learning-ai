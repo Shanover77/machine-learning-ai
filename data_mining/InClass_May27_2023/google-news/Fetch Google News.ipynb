{
 "cells": [
  {
   "cell_type": "code",
   "execution_count": 1,
   "id": "75fb36ed",
   "metadata": {},
   "outputs": [],
   "source": [
    "# pip install GoogleNews"
   ]
  },
  {
   "cell_type": "code",
   "execution_count": 2,
   "id": "3189575d",
   "metadata": {},
   "outputs": [],
   "source": [
    "# Import GoogleNews package\n",
    "\n",
    "from GoogleNews import GoogleNews\n",
    "gnews_ex = GoogleNews()"
   ]
  },
  {
   "cell_type": "code",
   "execution_count": 3,
   "id": "434e9497",
   "metadata": {},
   "outputs": [
    {
     "name": "stdout",
     "output_type": "stream",
     "text": [
      "1.6.8\n"
     ]
    }
   ],
   "source": [
    "# Check and set initial configuration\n",
    "\n",
    "print(gnews_ex.getVersion()) # version will appear if the package was installed/imported successfully\n",
    "gnews_ex.enableException(True) # Setting exceptions to show\n",
    "gnews_ex = GoogleNews(lang='en') # Setting English language\n",
    "gnews_ex.set_encode('utf-8') # Setting encoding"
   ]
  },
  {
   "cell_type": "code",
   "execution_count": 4,
   "id": "5836e8e4",
   "metadata": {},
   "outputs": [],
   "source": [
    "# Defining a method for easy usability throughout and in future\n",
    "# A good practice to abstract the underlying functionality and only keep direct usable interfaces based on the objective\n",
    "\n",
    "import pandas as pd\n",
    "\n",
    "def getNewsAsDf(searchQuery, periodInDays):\n",
    "    gnews_ex.set_period(periodInDays)    \n",
    "    gnews_ex.search(searchQuery)    \n",
    "    newsRes = gnews_ex.result()\n",
    "    newsDf = pd.DataFrame(newsRes)\n",
    "    gnews_ex.clear() # according the documentation, it is recommended to clear the list before another search\n",
    "    return newsDf"
   ]
  },
  {
   "cell_type": "code",
   "execution_count": 5,
   "id": "12f60268",
   "metadata": {},
   "outputs": [
    {
     "data": {
      "text/html": [
       "<div>\n",
       "<style scoped>\n",
       "    .dataframe tbody tr th:only-of-type {\n",
       "        vertical-align: middle;\n",
       "    }\n",
       "\n",
       "    .dataframe tbody tr th {\n",
       "        vertical-align: top;\n",
       "    }\n",
       "\n",
       "    .dataframe thead th {\n",
       "        text-align: right;\n",
       "    }\n",
       "</style>\n",
       "<table border=\"1\" class=\"dataframe\">\n",
       "  <thead>\n",
       "    <tr style=\"text-align: right;\">\n",
       "      <th></th>\n",
       "      <th>title</th>\n",
       "      <th>media</th>\n",
       "      <th>date</th>\n",
       "      <th>datetime</th>\n",
       "      <th>desc</th>\n",
       "      <th>link</th>\n",
       "      <th>img</th>\n",
       "    </tr>\n",
       "  </thead>\n",
       "  <tbody>\n",
       "    <tr>\n",
       "      <th>0</th>\n",
       "      <td>Artificial Intelligence and the Future of Poli...</td>\n",
       "      <td>CityLife</td>\n",
       "      <td>9 mins ago</td>\n",
       "      <td>2023-05-27 16:38:04.397835</td>\n",
       "      <td>Artificial intelligence (AI) is rapidly transf...</td>\n",
       "      <td>https://citylife.capetown/uncategorized/artifi...</td>\n",
       "      <td>data:image/gif;base64,R0lGODlhAQABAIAAAP//////...</td>\n",
       "    </tr>\n",
       "    <tr>\n",
       "      <th>1</th>\n",
       "      <td>Artificial Intelligence in Aviation: Safety, E...</td>\n",
       "      <td>CityLife</td>\n",
       "      <td>9 mins ago</td>\n",
       "      <td>2023-05-27 16:38:04.397835</td>\n",
       "      <td>Artificial intelligence (AI) has been making w...</td>\n",
       "      <td>https://citylife.capetown/uncategorized/artifi...</td>\n",
       "      <td>data:image/gif;base64,R0lGODlhAQABAIAAAP//////...</td>\n",
       "    </tr>\n",
       "    <tr>\n",
       "      <th>2</th>\n",
       "      <td>AI Versus Machine Learning: What's The Differe...</td>\n",
       "      <td>SlashGear</td>\n",
       "      <td>1 hour ago</td>\n",
       "      <td>2023-05-27 15:47:07.127546</td>\n",
       "      <td>AI and Machine Learning are closely connected,...</td>\n",
       "      <td>https://www.slashgear.com/1298487/ai-vs-machin...</td>\n",
       "      <td>data:image/gif;base64,R0lGODlhAQABAIAAAP//////...</td>\n",
       "    </tr>\n",
       "    <tr>\n",
       "      <th>3</th>\n",
       "      <td>Australian Medical Association calls for natio...</td>\n",
       "      <td>ABC</td>\n",
       "      <td>2 hours ago</td>\n",
       "      <td>2023-05-27 14:47:07.143168</td>\n",
       "      <td>While there is huge potential for artificial i...</td>\n",
       "      <td>https://www.abc.net.au/news/2023-05-28/ama-cal...</td>\n",
       "      <td>data:image/gif;base64,R0lGODlhAQABAIAAAP//////...</td>\n",
       "    </tr>\n",
       "    <tr>\n",
       "      <th>4</th>\n",
       "      <td>Attention! You may be chatting with artificial...</td>\n",
       "      <td>Gearrice</td>\n",
       "      <td>2 hours ago</td>\n",
       "      <td>2023-05-27 14:47:07.158796</td>\n",
       "      <td>The company will be able to recommend videos a...</td>\n",
       "      <td>https://www.gearrice.com/update/attention-you-...</td>\n",
       "      <td>data:image/gif;base64,R0lGODlhAQABAIAAAP//////...</td>\n",
       "    </tr>\n",
       "  </tbody>\n",
       "</table>\n",
       "</div>"
      ],
      "text/plain": [
       "                                               title      media         date   \n",
       "0  Artificial Intelligence and the Future of Poli...   CityLife   9 mins ago  \\\n",
       "1  Artificial Intelligence in Aviation: Safety, E...   CityLife   9 mins ago   \n",
       "2  AI Versus Machine Learning: What's The Differe...  SlashGear   1 hour ago   \n",
       "3  Australian Medical Association calls for natio...        ABC  2 hours ago   \n",
       "4  Attention! You may be chatting with artificial...   Gearrice  2 hours ago   \n",
       "\n",
       "                    datetime   \n",
       "0 2023-05-27 16:38:04.397835  \\\n",
       "1 2023-05-27 16:38:04.397835   \n",
       "2 2023-05-27 15:47:07.127546   \n",
       "3 2023-05-27 14:47:07.143168   \n",
       "4 2023-05-27 14:47:07.158796   \n",
       "\n",
       "                                                desc   \n",
       "0  Artificial intelligence (AI) is rapidly transf...  \\\n",
       "1  Artificial intelligence (AI) has been making w...   \n",
       "2  AI and Machine Learning are closely connected,...   \n",
       "3  While there is huge potential for artificial i...   \n",
       "4  The company will be able to recommend videos a...   \n",
       "\n",
       "                                                link   \n",
       "0  https://citylife.capetown/uncategorized/artifi...  \\\n",
       "1  https://citylife.capetown/uncategorized/artifi...   \n",
       "2  https://www.slashgear.com/1298487/ai-vs-machin...   \n",
       "3  https://www.abc.net.au/news/2023-05-28/ama-cal...   \n",
       "4  https://www.gearrice.com/update/attention-you-...   \n",
       "\n",
       "                                                 img  \n",
       "0  data:image/gif;base64,R0lGODlhAQABAIAAAP//////...  \n",
       "1  data:image/gif;base64,R0lGODlhAQABAIAAAP//////...  \n",
       "2  data:image/gif;base64,R0lGODlhAQABAIAAAP//////...  \n",
       "3  data:image/gif;base64,R0lGODlhAQABAIAAAP//////...  \n",
       "4  data:image/gif;base64,R0lGODlhAQABAIAAAP//////...  "
      ]
     },
     "execution_count": 5,
     "metadata": {},
     "output_type": "execute_result"
    }
   ],
   "source": [
    "# Using the defined method, providing with searchQuery and perid in number of days\n",
    "\n",
    "dfNews = getNewsAsDf('artificial intelligence', '2d')\n",
    "dfNews.head()"
   ]
  }
 ],
 "metadata": {
  "kernelspec": {
   "display_name": "Python 3 (ipykernel)",
   "language": "python",
   "name": "python3"
  },
  "language_info": {
   "codemirror_mode": {
    "name": "ipython",
    "version": 3
   },
   "file_extension": ".py",
   "mimetype": "text/x-python",
   "name": "python",
   "nbconvert_exporter": "python",
   "pygments_lexer": "ipython3",
   "version": "3.10.8"
  }
 },
 "nbformat": 4,
 "nbformat_minor": 5
}

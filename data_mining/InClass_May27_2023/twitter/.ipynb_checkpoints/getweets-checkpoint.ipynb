{
 "cells": [
  {
   "cell_type": "code",
   "execution_count": 6,
   "id": "16d62d83",
   "metadata": {},
   "outputs": [
    {
     "name": "stdout",
     "output_type": "stream",
     "text": [
      "Error occurred: 403 {\"errors\":[{\"message\":\"You currently have access to Twitter API v2 endpoints and limited v1.1 endpoints only. If you need access to this endpoint, you may need a different access level. You can learn more here: https://developer.twitter.com/en/docs/twitter-api/getting-started/about-twitter-api#v2-access-leve\",\"code\":453}]}\n",
      "\n"
     ]
    }
   ],
   "source": [
    "import requests\n",
    "\n",
    "# Set up your Twitter API credentials\n",
    "bearer_token = \"AAAAAAAAAAAAAAAAAAAAAICPngEAAAAAz4xJvNmJJ8SvfYHZvUeZyBJXwV8%3DpiJZ14UFMMijLWbrlvdlGP3hLlYCB7L2uzEMzgWrp7AlGMdP1M\"\n",
    "username = \"elonmusk\"\n",
    "\n",
    "# Set the API endpoint\n",
    "api_url = f\"https://api.twitter.com/2/tweets/\"\n",
    "\n",
    "# Set the request headers\n",
    "headers = {\n",
    "    \"Authorization\": f\"Bearer {bearer_token}\"\n",
    "}\n",
    "\n",
    "# Set the query parameters\n",
    "params = {\n",
    "    \"tweet.fields\": {\n",
    "        author_id:'16689804'\n",
    "    },\n",
    "    \"count\": 10\n",
    "}\n",
    "\n",
    "# Send the GET request to fetch the tweets\n",
    "response = requests.get(api_url, headers=headers, params=params)\n",
    "\n",
    "# Check if the request was successful\n",
    "if response.status_code == 200:\n",
    "    tweets = response.json()\n",
    "    for tweet in tweets:\n",
    "        print(tweet[\"text\"])\n",
    "        print(\"---\")\n",
    "else:\n",
    "    print(\"Error occurred:\", response.status_code, response.text)\n"
   ]
  },
  {
   "cell_type": "code",
   "execution_count": null,
   "id": "68e297b8",
   "metadata": {},
   "outputs": [],
   "source": []
  }
 ],
 "metadata": {
  "kernelspec": {
   "display_name": "Python 3 (ipykernel)",
   "language": "python",
   "name": "python3"
  },
  "language_info": {
   "codemirror_mode": {
    "name": "ipython",
    "version": 3
   },
   "file_extension": ".py",
   "mimetype": "text/x-python",
   "name": "python",
   "nbconvert_exporter": "python",
   "pygments_lexer": "ipython3",
   "version": "3.10.8"
  }
 },
 "nbformat": 4,
 "nbformat_minor": 5
}
